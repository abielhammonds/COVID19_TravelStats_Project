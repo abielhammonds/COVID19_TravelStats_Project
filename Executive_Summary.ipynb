{
 "cells": [
  {
   "cell_type": "markdown",
   "metadata": {},
   "source": [
    "# Project Summary #\n",
    "\n",
    "This project set out to explore COVID19 case data compared to airline traveler data in the United States.  \n",
    "\n"
   ]
  },
  {
   "cell_type": "markdown",
   "metadata": {},
   "source": []
  },
  {
   "cell_type": "markdown",
   "metadata": {},
   "source": [
    "#### The analysis focused on: ####\n",
    "\n",
    "1. getting a baseline comparison of typical airline travel in a one-year period (2019) against the COVID19 impact on airline travel in 2020\n",
    "\n",
    "2. displaying comparisons of COVID19 case numbers, deaths, and hospitalizations in March - Sept 2020\n",
    "\n",
    "3. visualizing the 2020 airline travel trend compared to the COVID19 case numbers trend in March - Sept 2020\n"
   ]
  },
  {
   "cell_type": "markdown",
   "metadata": {},
   "source": []
  },
  {
   "cell_type": "markdown",
   "metadata": {},
   "source": [
    "#### Airline travel data validated assumptions that there were far fewer travelers in 2020 than 2019. ####\n",
    "\n",
    "\n",
    "![Travel Chart](https://github.com/abielhammonds/COVID19_TravelStats_Project/blob/main/travel.png)\n",
    "\n",
    "\n",
    "2019 traveler numbers were fairly consistent across the year while 2020 traveler numbers dropped dramatically in mid-March and then slowly and steadily rose through the year, but not to the 2019 level.\n"
   ]
  },
  {
   "cell_type": "code",
   "execution_count": null,
   "metadata": {},
   "outputs": [],
   "source": []
  },
  {
   "cell_type": "markdown",
   "metadata": {},
   "source": [
    "#### COVID19 case data demonstrated the increase and decrease in cases reported, deaths, and hospitalizations. ####\n",
    "\n",
    "\n",
    "1. Number of cases rose sharply from March to peak in July and then decreased each month\n",
    "\n",
    "2. Number of deaths was highest in April with June slightly behind; these numbers were lowest in March and Sept\n",
    "\n",
    "3. Number of hospitalizations was highest in April and June also.  From June to Sept they decreased each month\n",
    "\n",
    "\n",
    "![COVID Chart](covid.png)\n",
    "\n",
    "\n"
   ]
  },
  {
   "cell_type": "markdown",
   "metadata": {},
   "source": []
  },
  {
   "cell_type": "markdown",
   "metadata": {},
   "source": [
    "#### The 2020 airline traveler numbers did not rise and fall in sync with the COVID19 case numbers ####\n",
    "\n",
    "\n",
    "The number of COVID cases was highest in July and that was also nearly the highest number of travelers since the drop in travelers in April.  \n",
    "\n",
    "However, the number of travelers increased to a smaller degree in July - Sept, while the number of COVID cases declined slightly. \n",
    "\n",
    "This could indicate that travel slowed after the peak in COVID cases in July\n",
    "\n",
    "\n",
    "\n",
    "![COVID TSA Line Chart](covid_travel_line.png)                         \n",
    "\n",
    "\n",
    "Between the early and middle part of the first wave, the number of travelers increased while the number of COVID cases increased also.\n",
    "\n",
    "\n",
    "Between the middle and late part of the first wave, the number of travelers continued to increase, while the number of COVID cases decreased slightly.\n",
    "\n",
    "\n",
    "Overall, between the early and late first wave the number of travelers increased while the number of COVID cases increased then decreased.\n",
    "\n",
    "\n",
    "![COVID TSA Bar Chart](covid_travel_bar.png)"
   ]
  },
  {
   "cell_type": "markdown",
   "metadata": {},
   "source": [
    "# Further Analysis #\n",
    "\n",
    "Future analysis can include:\n",
    "\n",
    "1. reviewing the trends after the cold/flu season in winter 2020 and then again after the spring/summer of 2021.  Ideally a vacine will have been made available to the general public and its effects on COVID case numbers and airline travel will be noticeable.\n",
    "\n",
    "2. analyzing the amount of difference in the 2019/2020 traveler count and the relative change in COVID numbers and traveler numbers.  This will require the use of statistics beyond the basic summary statistics presented here."
   ]
  },
  {
   "cell_type": "code",
   "execution_count": null,
   "metadata": {},
   "outputs": [],
   "source": []
  }
 ],
 "metadata": {
  "kernelspec": {
   "display_name": "Python 3",
   "language": "python",
   "name": "python3"
  },
  "language_info": {
   "codemirror_mode": {
    "name": "ipython",
    "version": 3
   },
   "file_extension": ".py",
   "mimetype": "text/x-python",
   "name": "python",
   "nbconvert_exporter": "python",
   "pygments_lexer": "ipython3",
   "version": "3.7.8"
  }
 },
 "nbformat": 4,
 "nbformat_minor": 4
}
