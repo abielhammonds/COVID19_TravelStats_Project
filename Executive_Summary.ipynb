{
 "cells": [
  {
   "cell_type": "markdown",
   "metadata": {},
   "source": [
    "# Project Summary #\n",
    "\n",
    "This project set out to explore COVID19 case data compared to airline traveler data in the United States.  \n",
    "\n"
   ]
  },
  {
   "cell_type": "markdown",
   "metadata": {},
   "source": []
  },
  {
   "cell_type": "markdown",
   "metadata": {},
   "source": [
    "#### The analysis focused on: ####\n",
    "\n",
    "1. getting a baseline comparison of typical airline travel in a one-year period (2019) against the COVID19 impact on airline travel in 2020\n",
    "\n",
    "2. displaying comparisons of COVID19 case numbers, deaths, and hospitalizations in March - Sept 2020\n",
    "\n",
    "3. visualizing the 2020 airline travel trend compared to the COVID19 case numbers trend in March - Sept 2020\n"
   ]
  },
  {
   "cell_type": "markdown",
   "metadata": {},
   "source": []
  },
  {
   "cell_type": "markdown",
   "metadata": {},
   "source": [
    "#### Airline travel data validated assumptions that there were far fewer travelers in 2020 than 2019. ####\n",
    "\n",
    "\n",
    "![Travel Chart](Image_Files\\travel.png)\n",
    "\n",
    "\n",
    "2019 traveler numbers were fairly consistent across the year while 2020 traveler numbers dropped dramatically in mid-March and then slowly and steadily rose through the year, but not to the 2019 level.\n"
   ]
  },
  {
   "cell_type": "code",
   "execution_count": null,
   "metadata": {},
   "outputs": [],
   "source": []
  },
  {
   "cell_type": "markdown",
   "metadata": {},
   "source": [
    "#### COVID19 case data demonstrated the increase and decrease in cases reported, deaths, and hospitalizations. ####\n",
    "\n",
    "\n",
    "1. Number of cases rose sharply from March to peak in July, decreased through September, and then peaked more sharply in October and November.\n",
    "\n",
    "2. Number of deaths was highest in April with June slightly behind; these numbers were lowest in March and August.\n",
    "\n",
    "3. Number of hospitalizations was highest in April, June, and November.   From June to Sept they decreased each month\n",
    "\n",
    "\n",
    "![COVID Chart](Image_Files\\covid.png)\n",
    "\n",
    "\n"
   ]
  },
  {
   "cell_type": "markdown",
   "metadata": {},
   "source": []
  },
  {
   "cell_type": "markdown",
   "metadata": {},
   "source": [
    "#### The 2020 airline traveler numbers did not rise and fall in sync with the COVID19 case numbers ####\n",
    "\n",
    "\n",
    "\n",
    "![COVID TSA Line Chart](Image_Files\\covid_travel_line.png)       ![COVID TSA Bar Chart](Image_Files\\covid_travel_bar.png)                   \n",
    "\n"
   ]
  },
  {
   "cell_type": "markdown",
   "metadata": {},
   "source": [
    "# Further Analysis #\n",
    "\n",
    "Future analysis can include:\n",
    "\n",
    "1. reviewing the trends after the cold/flu season in winter 2020 and then again after the spring/summer of 2021.  Ideally a vacine will have been made available to the general public and its effects on COVID case numbers and airline travel will be noticeable.\n",
    "\n",
    "2. analyzing the data by geography (state) and/or drill down by time period (ex: leading up to and following holidays)."
   ]
  },
  {
   "cell_type": "code",
   "execution_count": null,
   "metadata": {},
   "outputs": [],
   "source": []
  }
 ],
 "metadata": {
  "kernelspec": {
   "display_name": "Python 3",
   "language": "python",
   "name": "python3"
  },
  "language_info": {
   "codemirror_mode": {
    "name": "ipython",
    "version": 3
   },
   "file_extension": ".py",
   "mimetype": "text/x-python",
   "name": "python",
   "nbconvert_exporter": "python",
   "pygments_lexer": "ipython3",
   "version": "3.7.8"
  }
 },
 "nbformat": 4,
 "nbformat_minor": 4
}
