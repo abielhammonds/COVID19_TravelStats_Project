{
 "cells": [
  {
   "cell_type": "code",
   "execution_count": null,
   "metadata": {},
   "outputs": [],
   "source": [
    "#step1: read in select columns of my COVID data (convert it to dataframes)\n",
    "#step2: create a new .csv file with that data, ideally it's small enough to save on github"
   ]
  },
  {
   "cell_type": "code",
   "execution_count": 1,
   "metadata": {},
   "outputs": [],
   "source": [
    "#import Pandas, Numpy, and MatPlotLib\n",
    "import matplotlib.pyplot as plt\n",
    "import pandas as pd\n",
    "import numpy as np\n"
   ]
  },
  {
   "cell_type": "code",
   "execution_count": 4,
   "metadata": {},
   "outputs": [],
   "source": [
    "#import requests in order to call the COVID data API data \n",
    "#import time in order to pause between API calls and not freeze in the process\n",
    "#import pprint in order to pretty-print the data.\n",
    "import requests\n",
    "import time\n",
    "from pprint import pprint"
   ]
  },
  {
   "cell_type": "code",
   "execution_count": 5,
   "metadata": {},
   "outputs": [],
   "source": [
    "#define a variable that makes the API requests, including the API link from the COVID data website.\n",
    "r = requests.get('https://data.cdc.gov/resource/vbim-akqf.json')\n",
    "\n",
    "#and then make the API call with a one second pause in between.\n",
    "covid_json = r.json()\n",
    "time.sleep(1)"
   ]
  },
  {
   "cell_type": "code",
   "execution_count": 9,
   "metadata": {},
   "outputs": [
    {
     "name": "stdout",
     "output_type": "stream",
     "text": [
      "[{'age_group': '0 - 9 Years',\n",
      "  'cdc_report_dt': '2020-03-22T00:00:00.000',\n",
      "  'current_status': 'Laboratory-confirmed case',\n",
      "  'death_yn': 'No',\n",
      "  'hosp_yn': 'Yes',\n",
      "  'icu_yn': 'Yes',\n",
      "  'medcond_yn': 'Yes',\n",
      "  'onset_dt': '2020-03-11T00:00:00.000',\n",
      "  'pos_spec_dt': '2020-03-15T00:00:00.000',\n",
      "  'race_ethnicity_combined': 'Multiple/Other, Non-Hispanic',\n",
      "  'sex': 'Female'},\n",
      " {'age_group': '0 - 9 Years',\n",
      "  'cdc_report_dt': '2020-03-23T00:00:00.000',\n",
      "  'current_status': 'Laboratory-confirmed case',\n",
      "  'death_yn': 'Unknown',\n",
      "  'hosp_yn': 'Unknown',\n",
      "  'icu_yn': 'Unknown',\n",
      "  'medcond_yn': 'Unknown',\n",
      "  'pos_spec_dt': '2020-03-15T00:00:00.000',\n",
      "  'race_ethnicity_combined': 'Unknown',\n",
      "  'sex': 'Female'}]\n"
     ]
    }
   ],
   "source": [
    "#pretty-print the first 2 entries to preview the data.\n",
    "pprint(covid_json[:2])\n"
   ]
  },
  {
   "cell_type": "code",
   "execution_count": null,
   "metadata": {},
   "outputs": [],
   "source": []
  },
  {
   "cell_type": "code",
   "execution_count": 3,
   "metadata": {},
   "outputs": [],
   "source": [
    "covid_data = pd.read_csv(\"C:/Users/abiel/Desktop/git_repos/COVID19_TravelStats_Project/2020_10_05_TSA_Data.csv\",delimiter=',')"
   ]
  },
  {
   "cell_type": "code",
   "execution_count": 5,
   "metadata": {},
   "outputs": [
    {
     "data": {
      "text/html": [
       "<div>\n",
       "<style scoped>\n",
       "    .dataframe tbody tr th:only-of-type {\n",
       "        vertical-align: middle;\n",
       "    }\n",
       "\n",
       "    .dataframe tbody tr th {\n",
       "        vertical-align: top;\n",
       "    }\n",
       "\n",
       "    .dataframe thead th {\n",
       "        text-align: right;\n",
       "    }\n",
       "</style>\n",
       "<table border=\"1\" class=\"dataframe\">\n",
       "  <thead>\n",
       "    <tr style=\"text-align: right;\">\n",
       "      <th></th>\n",
       "      <th>Date</th>\n",
       "      <th>Total Traveler Throughput</th>\n",
       "      <th>Total Traveler Throughput_1 Year Ago_Same Weekday</th>\n",
       "    </tr>\n",
       "  </thead>\n",
       "  <tbody>\n",
       "    <tr>\n",
       "      <th>0</th>\n",
       "      <td>10/4/2020</td>\n",
       "      <td>900,911</td>\n",
       "      <td>2,542,118</td>\n",
       "    </tr>\n",
       "    <tr>\n",
       "      <th>1</th>\n",
       "      <td>10/3/2020</td>\n",
       "      <td>677,661</td>\n",
       "      <td>1,921,185</td>\n",
       "    </tr>\n",
       "    <tr>\n",
       "      <th>2</th>\n",
       "      <td>10/2/2020</td>\n",
       "      <td>857,186</td>\n",
       "      <td>2,526,835</td>\n",
       "    </tr>\n",
       "    <tr>\n",
       "      <th>3</th>\n",
       "      <td>10/1/2020</td>\n",
       "      <td>855,908</td>\n",
       "      <td>2,447,687</td>\n",
       "    </tr>\n",
       "    <tr>\n",
       "      <th>4</th>\n",
       "      <td>9/30/2020</td>\n",
       "      <td>634,046</td>\n",
       "      <td>2,082,179</td>\n",
       "    </tr>\n",
       "  </tbody>\n",
       "</table>\n",
       "</div>"
      ],
      "text/plain": [
       "        Date Total Traveler Throughput  \\\n",
       "0  10/4/2020                   900,911   \n",
       "1  10/3/2020                   677,661   \n",
       "2  10/2/2020                   857,186   \n",
       "3  10/1/2020                   855,908   \n",
       "4  9/30/2020                   634,046   \n",
       "\n",
       "  Total Traveler Throughput_1 Year Ago_Same Weekday  \n",
       "0                                         2,542,118  \n",
       "1                                         1,921,185  \n",
       "2                                         2,526,835  \n",
       "3                                         2,447,687  \n",
       "4                                         2,082,179  "
      ]
     },
     "execution_count": 5,
     "metadata": {},
     "output_type": "execute_result"
    }
   ],
   "source": [
    "covid_data.head()"
   ]
  },
  {
   "cell_type": "code",
   "execution_count": null,
   "metadata": {},
   "outputs": [],
   "source": [
    "# base url for getting api data\n",
    "base_url = \"https://data.cdc.gov/resource/vbim-akqf.json\""
   ]
  }
 ],
 "metadata": {
  "kernelspec": {
   "display_name": "Python 3",
   "language": "python",
   "name": "python3"
  },
  "language_info": {
   "codemirror_mode": {
    "name": "ipython",
    "version": 3
   },
   "file_extension": ".py",
   "mimetype": "text/x-python",
   "name": "python",
   "nbconvert_exporter": "python",
   "pygments_lexer": "ipython3",
   "version": "3.7.8"
  }
 },
 "nbformat": 4,
 "nbformat_minor": 4
}
