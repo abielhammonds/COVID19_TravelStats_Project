{
 "cells": [
  {
   "cell_type": "code",
   "execution_count": 104,
   "metadata": {},
   "outputs": [],
   "source": [
    "#import Pandas, Numpy, and MatPlotLib\n",
    "import matplotlib.pyplot as plt\n",
    "import pandas as pd\n",
    "import numpy as np\n"
   ]
  },
  {
   "cell_type": "code",
   "execution_count": 108,
   "metadata": {},
   "outputs": [],
   "source": [
    "#import requests in order to call the COVID data API data \n",
    "#import time in order to pause between API calls and not freeze in the process\n",
    "#import pprint in order to pretty-print the data.\n",
    "import requests\n",
    "import time\n",
    "from pprint import pprint\n"
   ]
  },
  {
   "cell_type": "code",
   "execution_count": 109,
   "metadata": {},
   "outputs": [],
   "source": [
    "#define a variable that makes the API requests, including the API link from the COVID data website.\n",
    "r = requests.get('https://data.cdc.gov/resource/vbim-akqf.json')\n",
    "\n",
    "#and then make the API call with a one second pause in between.\n",
    "covid_json = r.json()\n",
    "time.sleep(1)"
   ]
  },
  {
   "cell_type": "code",
   "execution_count": 129,
   "metadata": {},
   "outputs": [
    {
     "name": "stdout",
     "output_type": "stream",
     "text": [
      "[{'age_group': '0 - 9 Years',\n",
      "  'cdc_report_dt': '2020-03-22T00:00:00.000',\n",
      "  'current_status': 'Laboratory-confirmed case',\n",
      "  'death_yn': 'No',\n",
      "  'hosp_yn': 'Yes',\n",
      "  'icu_yn': 'Yes',\n",
      "  'medcond_yn': 'Yes',\n",
      "  'onset_dt': '2020-03-11T00:00:00.000',\n",
      "  'pos_spec_dt': '2020-03-15T00:00:00.000',\n",
      "  'race_ethnicity_combined': 'Multiple/Other, Non-Hispanic',\n",
      "  'sex': 'Female'},\n",
      " {'age_group': '0 - 9 Years',\n",
      "  'cdc_report_dt': '2020-03-23T00:00:00.000',\n",
      "  'current_status': 'Laboratory-confirmed case',\n",
      "  'death_yn': 'Unknown',\n",
      "  'hosp_yn': 'Unknown',\n",
      "  'icu_yn': 'Unknown',\n",
      "  'medcond_yn': 'Unknown',\n",
      "  'pos_spec_dt': '2020-03-15T00:00:00.000',\n",
      "  'race_ethnicity_combined': 'Unknown',\n",
      "  'sex': 'Female'}]\n"
     ]
    }
   ],
   "source": [
    "#pretty-print the first 2 entries to preview the data.\n",
    "pprint(covid_json[:2])"
   ]
  },
  {
   "cell_type": "code",
   "execution_count": null,
   "metadata": {},
   "outputs": [],
   "source": [
    "#I want to compare the following COVID19 data points:\n",
    "    #test result confirmation date = 'pos_spec_dt' - number of confirmed cases\n",
    "    #death status = 'death_yn' - number of deaths\n",
    "    #hospitalization status = 'hosp_yn' - number of people hospitalized\n",
    "\n",
    "#I'm also pulling in the date the case was reported to the cdc = 'cdc_rpt_dt' for reference \n",
    "#to be sure the dataset is complete and not missing rows (visually compare with preview on website)\n",
    "\n",
    "#these are the key stats reported re: COVID19 counts in the news\n",
    "\n",
    "#So these are the data columns I want to create a Pandas DataFrame with."
   ]
  },
  {
   "cell_type": "code",
   "execution_count": 56,
   "metadata": {},
   "outputs": [
    {
     "name": "stdout",
     "output_type": "stream",
     "text": [
      "<class 'list'>\n"
     ]
    }
   ],
   "source": [
    "#Right now, the API data is a list with nested dictionaries\n",
    "\n",
    "print(type(covid_json))"
   ]
  },
  {
   "cell_type": "code",
   "execution_count": 146,
   "metadata": {},
   "outputs": [],
   "source": [
    "#Loop through the list and call each desired datapoint, by its key, into its own list.\n",
    "#Here is a sample\n",
    "\n",
    "cdc_received, case_date, death, hospital = [],[],[],[]\n",
    "\n",
    "for data in covid_json:\n",
    "    cdc_received.append(data['cdc_report_dt'])\n",
    "    case_date.append(data['pos_spec_dt'])\n",
    "    death.append(data['death_yn'])\n",
    "    hospital.append(data['hosp_yn'])\n"
   ]
  },
  {
   "cell_type": "code",
   "execution_count": 147,
   "metadata": {},
   "outputs": [],
   "source": [
    "#Now that each datapoint is separated, add them back into a dictionary \n",
    "#This will make sure that each datapoint column is labelled\n",
    "covid_values = {'cdc_rpt_dt': cdc_received, 'pos_spec_dt': case_date, 'death_yn': death, 'hosp_yn': hospital}\n",
    "\n",
    "#Convert the dictionary into a DataFrame\n",
    "covid_df = pd.DataFrame(covid_values)\n",
    "\n",
    "#Export the DataFrame into a CSV file\n",
    "covid_df.to_csv('covid_data.csv')"
   ]
  },
  {
   "cell_type": "code",
   "execution_count": null,
   "metadata": {},
   "outputs": [],
   "source": [
    "#Now, only run the cells above this one if you want to update (add to) the COVID data.\n",
    "#This dataset is continually added to by the CDC and the API call will refresh it."
   ]
  },
  {
   "cell_type": "code",
   "execution_count": 155,
   "metadata": {},
   "outputs": [
    {
     "data": {
      "text/html": [
       "<div>\n",
       "<style scoped>\n",
       "    .dataframe tbody tr th:only-of-type {\n",
       "        vertical-align: middle;\n",
       "    }\n",
       "\n",
       "    .dataframe tbody tr th {\n",
       "        vertical-align: top;\n",
       "    }\n",
       "\n",
       "    .dataframe thead th {\n",
       "        text-align: right;\n",
       "    }\n",
       "</style>\n",
       "<table border=\"1\" class=\"dataframe\">\n",
       "  <thead>\n",
       "    <tr style=\"text-align: right;\">\n",
       "      <th></th>\n",
       "      <th>Unnamed: 0</th>\n",
       "      <th>cdc_rpt_dt</th>\n",
       "      <th>pos_spec_dt</th>\n",
       "      <th>death_yn</th>\n",
       "      <th>hosp_yn</th>\n",
       "    </tr>\n",
       "  </thead>\n",
       "  <tbody>\n",
       "    <tr>\n",
       "      <th>0</th>\n",
       "      <td>0</td>\n",
       "      <td>2020-03-22T00:00:00.000</td>\n",
       "      <td>2020-03-15T00:00:00.000</td>\n",
       "      <td>No</td>\n",
       "      <td>Yes</td>\n",
       "    </tr>\n",
       "    <tr>\n",
       "      <th>1</th>\n",
       "      <td>1</td>\n",
       "      <td>2020-03-23T00:00:00.000</td>\n",
       "      <td>2020-03-15T00:00:00.000</td>\n",
       "      <td>Unknown</td>\n",
       "      <td>Unknown</td>\n",
       "    </tr>\n",
       "    <tr>\n",
       "      <th>2</th>\n",
       "      <td>2</td>\n",
       "      <td>2020-03-15T00:00:00.000</td>\n",
       "      <td>2020-03-15T00:00:00.000</td>\n",
       "      <td>Missing</td>\n",
       "      <td>Missing</td>\n",
       "    </tr>\n",
       "    <tr>\n",
       "      <th>3</th>\n",
       "      <td>3</td>\n",
       "      <td>2020-03-15T00:00:00.000</td>\n",
       "      <td>2020-03-15T00:00:00.000</td>\n",
       "      <td>Missing</td>\n",
       "      <td>Missing</td>\n",
       "    </tr>\n",
       "    <tr>\n",
       "      <th>4</th>\n",
       "      <td>4</td>\n",
       "      <td>2020-03-15T00:00:00.000</td>\n",
       "      <td>2020-03-15T00:00:00.000</td>\n",
       "      <td>Missing</td>\n",
       "      <td>Missing</td>\n",
       "    </tr>\n",
       "  </tbody>\n",
       "</table>\n",
       "</div>"
      ],
      "text/plain": [
       "   Unnamed: 0               cdc_rpt_dt              pos_spec_dt death_yn  \\\n",
       "0           0  2020-03-22T00:00:00.000  2020-03-15T00:00:00.000       No   \n",
       "1           1  2020-03-23T00:00:00.000  2020-03-15T00:00:00.000  Unknown   \n",
       "2           2  2020-03-15T00:00:00.000  2020-03-15T00:00:00.000  Missing   \n",
       "3           3  2020-03-15T00:00:00.000  2020-03-15T00:00:00.000  Missing   \n",
       "4           4  2020-03-15T00:00:00.000  2020-03-15T00:00:00.000  Missing   \n",
       "\n",
       "   hosp_yn  \n",
       "0      Yes  \n",
       "1  Unknown  \n",
       "2  Missing  \n",
       "3  Missing  \n",
       "4  Missing  "
      ]
     },
     "execution_count": 155,
     "metadata": {},
     "output_type": "execute_result"
    }
   ],
   "source": [
    "#START HERE\n",
    "\n",
    "#read COVID data csv file in as Pandas DataFrame and preview it\n",
    "covid_data = pd.read_csv('covid_data.csv')\n",
    "covid_data.head()"
   ]
  },
  {
   "cell_type": "code",
   "execution_count": 156,
   "metadata": {},
   "outputs": [
    {
     "data": {
      "text/html": [
       "<div>\n",
       "<style scoped>\n",
       "    .dataframe tbody tr th:only-of-type {\n",
       "        vertical-align: middle;\n",
       "    }\n",
       "\n",
       "    .dataframe tbody tr th {\n",
       "        vertical-align: top;\n",
       "    }\n",
       "\n",
       "    .dataframe thead th {\n",
       "        text-align: right;\n",
       "    }\n",
       "</style>\n",
       "<table border=\"1\" class=\"dataframe\">\n",
       "  <thead>\n",
       "    <tr style=\"text-align: right;\">\n",
       "      <th></th>\n",
       "      <th>Date</th>\n",
       "      <th>Total Traveler Throughput</th>\n",
       "      <th>Total Traveler Throughput_1 Year Ago_Same Weekday</th>\n",
       "    </tr>\n",
       "  </thead>\n",
       "  <tbody>\n",
       "    <tr>\n",
       "      <th>0</th>\n",
       "      <td>10/4/2020</td>\n",
       "      <td>900,911</td>\n",
       "      <td>2,542,118</td>\n",
       "    </tr>\n",
       "    <tr>\n",
       "      <th>1</th>\n",
       "      <td>10/3/2020</td>\n",
       "      <td>677,661</td>\n",
       "      <td>1,921,185</td>\n",
       "    </tr>\n",
       "    <tr>\n",
       "      <th>2</th>\n",
       "      <td>10/2/2020</td>\n",
       "      <td>857,186</td>\n",
       "      <td>2,526,835</td>\n",
       "    </tr>\n",
       "    <tr>\n",
       "      <th>3</th>\n",
       "      <td>10/1/2020</td>\n",
       "      <td>855,908</td>\n",
       "      <td>2,447,687</td>\n",
       "    </tr>\n",
       "    <tr>\n",
       "      <th>4</th>\n",
       "      <td>9/30/2020</td>\n",
       "      <td>634,046</td>\n",
       "      <td>2,082,179</td>\n",
       "    </tr>\n",
       "  </tbody>\n",
       "</table>\n",
       "</div>"
      ],
      "text/plain": [
       "        Date Total Traveler Throughput  \\\n",
       "0  10/4/2020                   900,911   \n",
       "1  10/3/2020                   677,661   \n",
       "2  10/2/2020                   857,186   \n",
       "3  10/1/2020                   855,908   \n",
       "4  9/30/2020                   634,046   \n",
       "\n",
       "  Total Traveler Throughput_1 Year Ago_Same Weekday  \n",
       "0                                         2,542,118  \n",
       "1                                         1,921,185  \n",
       "2                                         2,526,835  \n",
       "3                                         2,447,687  \n",
       "4                                         2,082,179  "
      ]
     },
     "execution_count": 156,
     "metadata": {},
     "output_type": "execute_result"
    }
   ],
   "source": [
    "#Preview the data\n",
    "tsa_data = pd.read_csv('2020_10_05_TSA_Data.csv',delimiter=',')\n",
    "tsa_data.head()"
   ]
  },
  {
   "cell_type": "code",
   "execution_count": 157,
   "metadata": {},
   "outputs": [
    {
     "name": "stdout",
     "output_type": "stream",
     "text": [
      "<class 'pandas.core.frame.DataFrame'>\n",
      "RangeIndex: 1000 entries, 0 to 999\n",
      "Data columns (total 5 columns):\n",
      " #   Column       Non-Null Count  Dtype \n",
      "---  ------       --------------  ----- \n",
      " 0   Unnamed: 0   1000 non-null   int64 \n",
      " 1   cdc_rpt_dt   1000 non-null   object\n",
      " 2   pos_spec_dt  1000 non-null   object\n",
      " 3   death_yn     1000 non-null   object\n",
      " 4   hosp_yn      1000 non-null   object\n",
      "dtypes: int64(1), object(4)\n",
      "memory usage: 39.2+ KB\n"
     ]
    }
   ],
   "source": [
    "#QUESTION FOR MENTORS - MY COVID DATASET IS LIMITED TO 1,000 ROWS.  HOW DO I GET THE FULL DATA?\n",
    "\n",
    "covid_data.info()\n",
    "\n",
    "#here is the website: https://data.cdc.gov/Case-Surveillance/COVID-19-Case-Surveillance-Public-Use-Data/vbim-akqf\n",
    "\n",
    "#there should be closer to 4.5million rows"
   ]
  },
  {
   "cell_type": "code",
   "execution_count": null,
   "metadata": {},
   "outputs": [],
   "source": [
    "#Here is a list of next steps:\n",
    "\n",
    "#1. convert the COVID dates into standard date format\n",
    "\n",
    "#2. group the covid data by days (pos_spec_dt)\n",
    "    #for each day, I will have total number of cases, deaths, hospitalizations\n",
    "    \n",
    "#3. combine the COVID and TSA dataframes so that for each day, I have all values\n",
    "    #so, perhaps make the date the index\n",
    "\n",
    "#4. then begin creating the visualizations to show trends"
   ]
  },
  {
   "cell_type": "code",
   "execution_count": null,
   "metadata": {},
   "outputs": [],
   "source": [
    "#Visualization ideas\n",
    "    #Scatterplots with trend lines\n",
    "    #bar chart with statistical significance\n"
   ]
  }
 ],
 "metadata": {
  "kernelspec": {
   "display_name": "Python 3",
   "language": "python",
   "name": "python3"
  },
  "language_info": {
   "codemirror_mode": {
    "name": "ipython",
    "version": 3
   },
   "file_extension": ".py",
   "mimetype": "text/x-python",
   "name": "python",
   "nbconvert_exporter": "python",
   "pygments_lexer": "ipython3",
   "version": "3.7.8"
  }
 },
 "nbformat": 4,
 "nbformat_minor": 4
}
