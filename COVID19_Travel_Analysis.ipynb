{
 "cells": [
  {
   "cell_type": "code",
   "execution_count": 1,
   "metadata": {},
   "outputs": [],
   "source": [
    "#import Pandas, Numpy, and MatPlotLib\n",
    "import matplotlib.pyplot as plt\n",
    "import pandas as pd\n",
    "import numpy as np\n"
   ]
  },
  {
   "cell_type": "code",
   "execution_count": 2,
   "metadata": {},
   "outputs": [],
   "source": [
    "#import requests in order to call the COVID data API data \n",
    "#import time in order to pause between API calls and not freeze in the process\n",
    "#import pprint in order to pretty-print the data.\n",
    "import requests\n",
    "import time\n",
    "from pprint import pprint\n"
   ]
  },
  {
   "cell_type": "code",
   "execution_count": 3,
   "metadata": {},
   "outputs": [],
   "source": [
    "##SECTION 1 ##\n",
    "###### DO NOT RUN THESE CELLS UNLESS YOU WANT TO RE-CALL THE API. #####\n",
    "###### SKIP TO THE 'START HERE' CELL #######\n",
    "\n",
    "#The COVID19 Data has more than 4,481,062 rows\n",
    "#To collect the data efficiently, without losing system performance\n",
    "    #I will call the data in batches (paging) using a limit and offset\n",
    "    #This will require multiple API calls"
   ]
  },
  {
   "cell_type": "code",
   "execution_count": 23,
   "metadata": {},
   "outputs": [],
   "source": [
    "#This is a variable which calls the API link from the COVID data website\n",
    "    #it orders the data by CDC Report Date\n",
    "    #and it has a limit larger than the max number of rows in the CDC data\n",
    "r = requests.get('https://data.cdc.gov/resource/vbim-akqf.json?$order=cdc_report_dt&$limit=5500000')\n",
    "\n",
    "#This is the API call with a 1 second pause between requests\n",
    "covid_json = r.json()\n",
    "time.sleep(1)"
   ]
  },
  {
   "cell_type": "code",
   "execution_count": 24,
   "metadata": {},
   "outputs": [
    {
     "name": "stdout",
     "output_type": "stream",
     "text": [
      "[{'age_group': '60 - 69 Years',\n",
      "  'cdc_report_dt': '2020-01-01T00:00:00.000',\n",
      "  'current_status': 'Probable Case',\n",
      "  'death_yn': 'No',\n",
      "  'hosp_yn': 'No',\n",
      "  'icu_yn': 'Missing',\n",
      "  'medcond_yn': 'Yes',\n",
      "  'onset_dt': '2020-01-01T00:00:00.000',\n",
      "  'race_ethnicity_combined': 'White, Non-Hispanic',\n",
      "  'sex': 'Male'},\n",
      " {'age_group': '40 - 49 Years',\n",
      "  'cdc_report_dt': '2020-01-01T00:00:00.000',\n",
      "  'current_status': 'Laboratory-confirmed case',\n",
      "  'death_yn': 'No',\n",
      "  'hosp_yn': 'Yes',\n",
      "  'icu_yn': 'Yes',\n",
      "  'medcond_yn': 'Missing',\n",
      "  'onset_dt': '2020-01-01T00:00:00.000',\n",
      "  'pos_spec_dt': '2020-03-15T00:00:00.000',\n",
      "  'race_ethnicity_combined': 'Black, Non-Hispanic',\n",
      "  'sex': 'Male'}]\n"
     ]
    }
   ],
   "source": [
    "#pretty-print the first 2 entries to preview the data.\n",
    "pprint(covid_json[:2])"
   ]
  },
  {
   "cell_type": "code",
   "execution_count": null,
   "metadata": {},
   "outputs": [],
   "source": [
    "#I want to compare the following COVID19 data points:\n",
    "    #case report date = 'cdc_rpt_dt' - number of confirmed cases\n",
    "    #death status = 'death_yn' - number of deaths\n",
    "    #hospitalization status = 'hosp_yn' - number of people hospitalized\n",
    "\n",
    "#these are the key stats reported re: COVID19 counts in the news\n",
    "#So these are the data columns I want to create a Pandas DataFrame with.\n",
    "\n",
    "#Note: technically, I would pull positive result confirmation date, but this is missing from some cases"
   ]
  },
  {
   "cell_type": "code",
   "execution_count": 25,
   "metadata": {},
   "outputs": [
    {
     "name": "stdout",
     "output_type": "stream",
     "text": [
      "<class 'list'>\n"
     ]
    }
   ],
   "source": [
    "#Right now, the API data is a list with nested dictionaries\n",
    "\n",
    "print(type(covid_json))"
   ]
  },
  {
   "cell_type": "code",
   "execution_count": 26,
   "metadata": {},
   "outputs": [],
   "source": [
    "#Loop through the list and call each desired datapoint, by its key, into its own list.\n",
    "#Here is a sample\n",
    "\n",
    "case_date, death, hospital = [],[],[]\n",
    "\n",
    "for data in covid_json:\n",
    "    case_date.append(data['cdc_report_dt'])\n",
    "    death.append(data['death_yn'])\n",
    "    hospital.append(data['hosp_yn'])\n"
   ]
  },
  {
   "cell_type": "code",
   "execution_count": 27,
   "metadata": {},
   "outputs": [],
   "source": [
    "#Now that each datapoint is separated, add them back into a dictionary \n",
    "#This will make sure that each datapoint column is labelled\n",
    "covid_values = {'cdc_report_dt': case_date, 'death_yn': death, 'hosp_yn': hospital}\n",
    "\n",
    "#Convert the dictionary into a DataFrame\n",
    "covid_df = pd.DataFrame(covid_values)\n"
   ]
  },
  {
   "cell_type": "code",
   "execution_count": null,
   "metadata": {},
   "outputs": [],
   "source": [
    "########## START HERE  ############### \n",
    "#Only run the cells above this one if you want to update (add to) the COVID data.\n",
    "#This dataset is continually added to by the CDC and the API call will refresh it."
   ]
  },
  {
   "cell_type": "code",
   "execution_count": 28,
   "metadata": {},
   "outputs": [
    {
     "name": "stdout",
     "output_type": "stream",
     "text": [
      "<class 'pandas.core.frame.DataFrame'>\n",
      "RangeIndex: 4481062 entries, 0 to 4481061\n",
      "Data columns (total 3 columns):\n",
      " #   Column         Dtype \n",
      "---  ------         ----- \n",
      " 0   cdc_report_dt  object\n",
      " 1   death_yn       object\n",
      " 2   hosp_yn        object\n",
      "dtypes: object(3)\n",
      "memory usage: 102.6+ MB\n"
     ]
    }
   ],
   "source": [
    "#Check the COVID DataFrame with a summary\n",
    "\n",
    "covid_df.info()"
   ]
  },
  {
   "cell_type": "code",
   "execution_count": 29,
   "metadata": {},
   "outputs": [
    {
     "data": {
      "text/html": [
       "<div>\n",
       "<style scoped>\n",
       "    .dataframe tbody tr th:only-of-type {\n",
       "        vertical-align: middle;\n",
       "    }\n",
       "\n",
       "    .dataframe tbody tr th {\n",
       "        vertical-align: top;\n",
       "    }\n",
       "\n",
       "    .dataframe thead th {\n",
       "        text-align: right;\n",
       "    }\n",
       "</style>\n",
       "<table border=\"1\" class=\"dataframe\">\n",
       "  <thead>\n",
       "    <tr style=\"text-align: right;\">\n",
       "      <th></th>\n",
       "      <th>cdc_report_dt</th>\n",
       "      <th>death_yn</th>\n",
       "      <th>hosp_yn</th>\n",
       "    </tr>\n",
       "  </thead>\n",
       "  <tbody>\n",
       "    <tr>\n",
       "      <th>0</th>\n",
       "      <td>2020-01-01T00:00:00.000</td>\n",
       "      <td>No</td>\n",
       "      <td>No</td>\n",
       "    </tr>\n",
       "    <tr>\n",
       "      <th>1</th>\n",
       "      <td>2020-01-01T00:00:00.000</td>\n",
       "      <td>No</td>\n",
       "      <td>Yes</td>\n",
       "    </tr>\n",
       "    <tr>\n",
       "      <th>2</th>\n",
       "      <td>2020-01-01T00:00:00.000</td>\n",
       "      <td>No</td>\n",
       "      <td>No</td>\n",
       "    </tr>\n",
       "    <tr>\n",
       "      <th>3</th>\n",
       "      <td>2020-01-01T00:00:00.000</td>\n",
       "      <td>Unknown</td>\n",
       "      <td>Unknown</td>\n",
       "    </tr>\n",
       "    <tr>\n",
       "      <th>4</th>\n",
       "      <td>2020-01-01T00:00:00.000</td>\n",
       "      <td>No</td>\n",
       "      <td>No</td>\n",
       "    </tr>\n",
       "  </tbody>\n",
       "</table>\n",
       "</div>"
      ],
      "text/plain": [
       "             cdc_report_dt death_yn  hosp_yn\n",
       "0  2020-01-01T00:00:00.000       No       No\n",
       "1  2020-01-01T00:00:00.000       No      Yes\n",
       "2  2020-01-01T00:00:00.000       No       No\n",
       "3  2020-01-01T00:00:00.000  Unknown  Unknown\n",
       "4  2020-01-01T00:00:00.000       No       No"
      ]
     },
     "execution_count": 29,
     "metadata": {},
     "output_type": "execute_result"
    }
   ],
   "source": [
    "##SECTION 2##\n",
    "\n",
    "#Here is a list of next steps:\n",
    "#1. convert the COVID dates into standard date format\n",
    "#2. group the covid data by days (pos_spec_dt)\n",
    "    #for each day, I will have total number of cases, deaths, hospitalizations\n",
    "\n",
    "#Preview the COVID DataFrame\n",
    "covid_df.head()"
   ]
  },
  {
   "cell_type": "code",
   "execution_count": null,
   "metadata": {},
   "outputs": [],
   "source": []
  }
 ],
 "metadata": {
  "kernelspec": {
   "display_name": "Python 3",
   "language": "python",
   "name": "python3"
  },
  "language_info": {
   "codemirror_mode": {
    "name": "ipython",
    "version": 3
   },
   "file_extension": ".py",
   "mimetype": "text/x-python",
   "name": "python",
   "nbconvert_exporter": "python",
   "pygments_lexer": "ipython3",
   "version": "3.7.8"
  }
 },
 "nbformat": 4,
 "nbformat_minor": 4
}
