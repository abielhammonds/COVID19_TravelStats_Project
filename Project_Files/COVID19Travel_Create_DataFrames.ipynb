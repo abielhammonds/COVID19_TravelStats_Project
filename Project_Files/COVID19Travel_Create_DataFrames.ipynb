{
 "cells": [
  {
   "cell_type": "markdown",
   "metadata": {},
   "source": [
    "# OVERVIEW #\n",
    "\n",
    "This notebook will import the grouped version of the United States COVID data exported as a .csv file in the COVID19_API_Calls notebook.\n",
    "\n",
    "\n",
    "In the COVID19_API_Calls.ipynb file, COVID data was imported through an API, saved in a DataFrame, then grouped by case reported date with hospitalization and death counts.\n",
    "\n",
    "\n",
    "**You will need to visit the [TSA website here](https://www.tsa.gov/coronavirus/passenger-throughput) and copy/paste the airline traveler data into a .csv file on your local machine.**\n",
    "\n",
    "**NAME YOUR TSA FILE: \"TSA_Data.csv\"**\n",
    "\n",
    "\n",
    "This notebook will call in that TSA data file, create DataFrames with both sets of data, convert datatypes, and merge the data into a single DataFrame.  Finally, the merged DataFrame will be exported as a .csv file."
   ]
  },
  {
   "cell_type": "code",
   "execution_count": 10,
   "metadata": {},
   "outputs": [],
   "source": [
    "#import Pandas, Numpy, and MatPlotLib\n",
    "import matplotlib.pyplot as plt\n",
    "import pandas as pd\n",
    "import numpy as np\n"
   ]
  },
  {
   "cell_type": "markdown",
   "metadata": {},
   "source": [
    "# SECTION 1: Import the COVID and TSA .csv files #"
   ]
  },
  {
   "cell_type": "code",
   "execution_count": 11,
   "metadata": {},
   "outputs": [
    {
     "data": {
      "text/html": [
       "<div>\n",
       "<style scoped>\n",
       "    .dataframe tbody tr th:only-of-type {\n",
       "        vertical-align: middle;\n",
       "    }\n",
       "\n",
       "    .dataframe tbody tr th {\n",
       "        vertical-align: top;\n",
       "    }\n",
       "\n",
       "    .dataframe thead th {\n",
       "        text-align: right;\n",
       "    }\n",
       "</style>\n",
       "<table border=\"1\" class=\"dataframe\">\n",
       "  <thead>\n",
       "    <tr style=\"text-align: right;\">\n",
       "      <th></th>\n",
       "      <th>cdc_report_dt</th>\n",
       "      <th>Cases</th>\n",
       "      <th>Deaths</th>\n",
       "      <th>Hospitalizations</th>\n",
       "    </tr>\n",
       "  </thead>\n",
       "  <tbody>\n",
       "    <tr>\n",
       "      <th>316</th>\n",
       "      <td>2020-11-15</td>\n",
       "      <td>85177</td>\n",
       "      <td>467</td>\n",
       "      <td>2198</td>\n",
       "    </tr>\n",
       "    <tr>\n",
       "      <th>317</th>\n",
       "      <td>2020-11-16</td>\n",
       "      <td>106744</td>\n",
       "      <td>562</td>\n",
       "      <td>2673</td>\n",
       "    </tr>\n",
       "    <tr>\n",
       "      <th>318</th>\n",
       "      <td>2020-11-17</td>\n",
       "      <td>155142</td>\n",
       "      <td>844</td>\n",
       "      <td>4959</td>\n",
       "    </tr>\n",
       "    <tr>\n",
       "      <th>319</th>\n",
       "      <td>2020-11-18</td>\n",
       "      <td>102010</td>\n",
       "      <td>475</td>\n",
       "      <td>2700</td>\n",
       "    </tr>\n",
       "    <tr>\n",
       "      <th>320</th>\n",
       "      <td>2020-11-19</td>\n",
       "      <td>103308</td>\n",
       "      <td>420</td>\n",
       "      <td>2716</td>\n",
       "    </tr>\n",
       "  </tbody>\n",
       "</table>\n",
       "</div>"
      ],
      "text/plain": [
       "    cdc_report_dt   Cases  Deaths  Hospitalizations\n",
       "316    2020-11-15   85177     467              2198\n",
       "317    2020-11-16  106744     562              2673\n",
       "318    2020-11-17  155142     844              4959\n",
       "319    2020-11-18  102010     475              2700\n",
       "320    2020-11-19  103308     420              2716"
      ]
     },
     "execution_count": 11,
     "metadata": {},
     "output_type": "execute_result"
    }
   ],
   "source": [
    "#read COVID data csv file in as Pandas DataFrame and preview it\n",
    "covid_data = pd.read_csv('covid_data.csv')\n",
    "covid_data.tail()"
   ]
  },
  {
   "cell_type": "code",
   "execution_count": 12,
   "metadata": {},
   "outputs": [
    {
     "data": {
      "text/html": [
       "<div>\n",
       "<style scoped>\n",
       "    .dataframe tbody tr th:only-of-type {\n",
       "        vertical-align: middle;\n",
       "    }\n",
       "\n",
       "    .dataframe tbody tr th {\n",
       "        vertical-align: top;\n",
       "    }\n",
       "\n",
       "    .dataframe thead th {\n",
       "        text-align: right;\n",
       "    }\n",
       "</style>\n",
       "<table border=\"1\" class=\"dataframe\">\n",
       "  <thead>\n",
       "    <tr style=\"text-align: right;\">\n",
       "      <th></th>\n",
       "      <th>Date</th>\n",
       "      <th>Total Traveler Throughput</th>\n",
       "      <th>Total Traveler Throughput_1 Year Ago_Same Weekday</th>\n",
       "    </tr>\n",
       "  </thead>\n",
       "  <tbody>\n",
       "    <tr>\n",
       "      <th>0</th>\n",
       "      <td>12/9/2020</td>\n",
       "      <td>564372</td>\n",
       "      <td>2020488</td>\n",
       "    </tr>\n",
       "    <tr>\n",
       "      <th>1</th>\n",
       "      <td>12/8/2020</td>\n",
       "      <td>501513</td>\n",
       "      <td>1897051</td>\n",
       "    </tr>\n",
       "    <tr>\n",
       "      <th>2</th>\n",
       "      <td>12/7/2020</td>\n",
       "      <td>703546</td>\n",
       "      <td>2226290</td>\n",
       "    </tr>\n",
       "    <tr>\n",
       "      <th>3</th>\n",
       "      <td>12/6/2020</td>\n",
       "      <td>837137</td>\n",
       "      <td>2292079</td>\n",
       "    </tr>\n",
       "    <tr>\n",
       "      <th>4</th>\n",
       "      <td>12/5/2020</td>\n",
       "      <td>629430</td>\n",
       "      <td>1755801</td>\n",
       "    </tr>\n",
       "  </tbody>\n",
       "</table>\n",
       "</div>"
      ],
      "text/plain": [
       "        Date  Total Traveler Throughput  \\\n",
       "0  12/9/2020                     564372   \n",
       "1  12/8/2020                     501513   \n",
       "2  12/7/2020                     703546   \n",
       "3  12/6/2020                     837137   \n",
       "4  12/5/2020                     629430   \n",
       "\n",
       "   Total Traveler Throughput_1 Year Ago_Same Weekday  \n",
       "0                                            2020488  \n",
       "1                                            1897051  \n",
       "2                                            2226290  \n",
       "3                                            2292079  \n",
       "4                                            1755801  "
      ]
     },
     "execution_count": 12,
     "metadata": {},
     "output_type": "execute_result"
    }
   ],
   "source": [
    "#read TSA data csv file in as a Pandas DataFrame and preview it\n",
    "tsa_data = pd.read_csv('TSA_Data.csv',delimiter=',')\n",
    "tsa_data.head()"
   ]
  },
  {
   "cell_type": "markdown",
   "metadata": {},
   "source": [
    "# SECTION 2: Convert Datatypes #"
   ]
  },
  {
   "cell_type": "code",
   "execution_count": 13,
   "metadata": {},
   "outputs": [
    {
     "name": "stdout",
     "output_type": "stream",
     "text": [
      "<class 'pandas.core.frame.DataFrame'>\n",
      "RangeIndex: 321 entries, 0 to 320\n",
      "Data columns (total 4 columns):\n",
      " #   Column            Non-Null Count  Dtype \n",
      "---  ------            --------------  ----- \n",
      " 0   cdc_report_dt     321 non-null    object\n",
      " 1   Cases             321 non-null    int64 \n",
      " 2   Deaths            321 non-null    int64 \n",
      " 3   Hospitalizations  321 non-null    int64 \n",
      "dtypes: int64(3), object(1)\n",
      "memory usage: 10.2+ KB\n"
     ]
    }
   ],
   "source": [
    "#Check the datetype for the COVID DataFrame using .info().  It has changed to an object.\n",
    "covid_data.info()"
   ]
  },
  {
   "cell_type": "code",
   "execution_count": 14,
   "metadata": {},
   "outputs": [
    {
     "name": "stdout",
     "output_type": "stream",
     "text": [
      "<class 'pandas.core.frame.DataFrame'>\n",
      "RangeIndex: 284 entries, 0 to 283\n",
      "Data columns (total 3 columns):\n",
      " #   Column                                             Non-Null Count  Dtype \n",
      "---  ------                                             --------------  ----- \n",
      " 0   Date                                               284 non-null    object\n",
      " 1   Total Traveler Throughput                          284 non-null    int64 \n",
      " 2   Total Traveler Throughput_1 Year Ago_Same Weekday  284 non-null    int64 \n",
      "dtypes: int64(2), object(1)\n",
      "memory usage: 6.8+ KB\n"
     ]
    }
   ],
   "source": [
    "#Check the datetype for the TSA DataFrame using .info().  It has changed to an object also.\n",
    "#Note: the traveler numbers also came through as objects also and will need to be converted\n",
    "tsa_data.info()"
   ]
  },
  {
   "cell_type": "markdown",
   "metadata": {},
   "source": [
    "#### Convert dates to datetime64 ####"
   ]
  },
  {
   "cell_type": "code",
   "execution_count": 15,
   "metadata": {},
   "outputs": [],
   "source": [
    "#Import the datetime module and use it to extract date details\n",
    "import datetime\n"
   ]
  },
  {
   "cell_type": "code",
   "execution_count": 16,
   "metadata": {},
   "outputs": [
    {
     "name": "stdout",
     "output_type": "stream",
     "text": [
      "<class 'pandas.core.frame.DataFrame'>\n",
      "RangeIndex: 321 entries, 0 to 320\n",
      "Data columns (total 1 columns):\n",
      " #   Column         Non-Null Count  Dtype         \n",
      "---  ------         --------------  -----         \n",
      " 0   cdc_report_dt  321 non-null    datetime64[ns]\n",
      "dtypes: datetime64[ns](1)\n",
      "memory usage: 2.6 KB\n"
     ]
    }
   ],
   "source": [
    "#Convert the COVID report date\n",
    "case_date = pd.to_datetime(covid_data[\"cdc_report_dt\"]) \n",
    "covid_case_date = pd.DataFrame(case_date)\n",
    "\n",
    "#Check the datatype, it is datetime\n",
    "covid_case_date.info()"
   ]
  },
  {
   "cell_type": "code",
   "execution_count": 17,
   "metadata": {},
   "outputs": [
    {
     "name": "stdout",
     "output_type": "stream",
     "text": [
      "<class 'pandas.core.frame.DataFrame'>\n",
      "RangeIndex: 284 entries, 0 to 283\n",
      "Data columns (total 1 columns):\n",
      " #   Column  Non-Null Count  Dtype         \n",
      "---  ------  --------------  -----         \n",
      " 0   Date    284 non-null    datetime64[ns]\n",
      "dtypes: datetime64[ns](1)\n",
      "memory usage: 2.3 KB\n"
     ]
    }
   ],
   "source": [
    "#Convert the TSA traveler count date\n",
    "tsa_date = pd.to_datetime(tsa_data[\"Date\"]) \n",
    "tsa_travel_date = pd.DataFrame(tsa_date)\n",
    "\n",
    "#Check the datatype, it is datetime\n",
    "tsa_travel_date.info()"
   ]
  },
  {
   "cell_type": "markdown",
   "metadata": {},
   "source": [
    "#### Convert TSA traveler numbers to float64 ####"
   ]
  },
  {
   "cell_type": "code",
   "execution_count": 18,
   "metadata": {},
   "outputs": [
    {
     "name": "stdout",
     "output_type": "stream",
     "text": [
      "<class 'pandas.core.frame.DataFrame'>\n",
      "RangeIndex: 284 entries, 0 to 283\n",
      "Data columns (total 1 columns):\n",
      " #   Column                     Non-Null Count  Dtype\n",
      "---  ------                     --------------  -----\n",
      " 0   Total Traveler Throughput  284 non-null    int64\n",
      "dtypes: int64(1)\n",
      "memory usage: 2.3 KB\n",
      "<class 'pandas.core.frame.DataFrame'>\n",
      "RangeIndex: 284 entries, 0 to 283\n",
      "Data columns (total 1 columns):\n",
      " #   Column                                             Non-Null Count  Dtype\n",
      "---  ------                                             --------------  -----\n",
      " 0   Total Traveler Throughput_1 Year Ago_Same Weekday  284 non-null    int64\n",
      "dtypes: int64(1)\n",
      "memory usage: 2.3 KB\n"
     ]
    }
   ],
   "source": [
    "#Now I can convert the TSA traveler numbers from Python object datatypes to integer datatypes\n",
    "\n",
    "tsa_2020_1 = pd.to_numeric(tsa_data['Total Traveler Throughput'])\n",
    "tsa_2020 = pd.DataFrame(tsa_2020_1)\n",
    "tsa_2020.info()  #this is my new 2020 traveler number DataFrame, the datatype is float\n",
    "\n",
    "tsa_2019_1 = pd.to_numeric(tsa_data['Total Traveler Throughput_1 Year Ago_Same Weekday'])\n",
    "tsa_2019 = pd.DataFrame(tsa_2019_1)\n",
    "tsa_2019.info()  #this is my new 2019 traveler number DataFrame, the datatype is float"
   ]
  },
  {
   "cell_type": "markdown",
   "metadata": {},
   "source": [
    "# SECTION 3: Create DataFrames #"
   ]
  },
  {
   "cell_type": "markdown",
   "metadata": {},
   "source": [
    "#### Create a separate DataFrame for each datapoint ####\n",
    "\n",
    "They will be combined into a single DataFrame later"
   ]
  },
  {
   "cell_type": "code",
   "execution_count": 19,
   "metadata": {},
   "outputs": [
    {
     "name": "stdout",
     "output_type": "stream",
     "text": [
      "<class 'pandas.core.frame.DataFrame'>\n",
      "RangeIndex: 284 entries, 0 to 283\n",
      "Data columns (total 1 columns):\n",
      " #   Column                     Non-Null Count  Dtype\n",
      "---  ------                     --------------  -----\n",
      " 0   Total Traveler Throughput  284 non-null    int64\n",
      "dtypes: int64(1)\n",
      "memory usage: 2.3 KB\n"
     ]
    }
   ],
   "source": [
    "#These are my COVID datapoints\n",
    "covid_case_date  #the converted covid case date from the COVID DataFrame\n",
    "\n",
    "covid_cases = pd.DataFrame(covid_data['Cases'])\n",
    "covid_deaths = pd.DataFrame(covid_data['Deaths'])\n",
    "covid_hopitalizations = pd.DataFrame(covid_data['Hospitalizations'])\n",
    "\n",
    "#These are my TSA datapoints\n",
    "tsa_travel_date  #the converted tsa traveler count date from the TSA DataFrame\n",
    "\n",
    "tsa_2020 #this is my new 2020 traveler number DataFrame, the datatype is float\n",
    "tsa_2019 #this is my new 2019 traveler number DataFrame, the datatype is float\n",
    "\n",
    "tsa_2020.info()"
   ]
  },
  {
   "cell_type": "code",
   "execution_count": 20,
   "metadata": {},
   "outputs": [],
   "source": [
    "#Use this cell to check the datatypes, if desired\n",
    "\n",
    "#covid_case_date.info()\n",
    "#covid_cases.info()\n",
    "#covid_deaths.info()\n",
    "#covid_hopitalizations.info()\n",
    "#tsa_travel_date.info()\n",
    "#tsa_2020.info()\n",
    "#tsa_2019.info()"
   ]
  },
  {
   "cell_type": "markdown",
   "metadata": {},
   "source": [
    "#### I don't want to create a combined DataFrame at this stage because there are ####\n",
    "\n",
    "1. COVID case dates and counts, dated earlier than the TSA traveler date counts\n",
    "\n",
    "2. TSA traveler date counts dated later than the COVID case dates and counts\n",
    "\n",
    "If I concatenate the DataFrame columns I just created, they will merge on the index number, not the date\n"
   ]
  },
  {
   "cell_type": "markdown",
   "metadata": {},
   "source": [
    "#### Create a COVID DataFrame using the date as the index ####"
   ]
  },
  {
   "cell_type": "code",
   "execution_count": 21,
   "metadata": {},
   "outputs": [
    {
     "data": {
      "text/html": [
       "<div>\n",
       "<style scoped>\n",
       "    .dataframe tbody tr th:only-of-type {\n",
       "        vertical-align: middle;\n",
       "    }\n",
       "\n",
       "    .dataframe tbody tr th {\n",
       "        vertical-align: top;\n",
       "    }\n",
       "\n",
       "    .dataframe thead th {\n",
       "        text-align: right;\n",
       "    }\n",
       "</style>\n",
       "<table border=\"1\" class=\"dataframe\">\n",
       "  <thead>\n",
       "    <tr style=\"text-align: right;\">\n",
       "      <th></th>\n",
       "      <th>Cases</th>\n",
       "      <th>Deaths</th>\n",
       "      <th>Hospitalizations</th>\n",
       "    </tr>\n",
       "    <tr>\n",
       "      <th>cdc_report_dt</th>\n",
       "      <th></th>\n",
       "      <th></th>\n",
       "      <th></th>\n",
       "    </tr>\n",
       "  </thead>\n",
       "  <tbody>\n",
       "    <tr>\n",
       "      <th>2020-01-01</th>\n",
       "      <td>12</td>\n",
       "      <td>0</td>\n",
       "      <td>1</td>\n",
       "    </tr>\n",
       "    <tr>\n",
       "      <th>2020-01-02</th>\n",
       "      <td>3</td>\n",
       "      <td>0</td>\n",
       "      <td>0</td>\n",
       "    </tr>\n",
       "    <tr>\n",
       "      <th>2020-01-03</th>\n",
       "      <td>2</td>\n",
       "      <td>0</td>\n",
       "      <td>0</td>\n",
       "    </tr>\n",
       "    <tr>\n",
       "      <th>2020-01-05</th>\n",
       "      <td>1</td>\n",
       "      <td>0</td>\n",
       "      <td>0</td>\n",
       "    </tr>\n",
       "    <tr>\n",
       "      <th>2020-01-08</th>\n",
       "      <td>1</td>\n",
       "      <td>0</td>\n",
       "      <td>0</td>\n",
       "    </tr>\n",
       "  </tbody>\n",
       "</table>\n",
       "</div>"
      ],
      "text/plain": [
       "               Cases  Deaths  Hospitalizations\n",
       "cdc_report_dt                                 \n",
       "2020-01-01        12       0                 1\n",
       "2020-01-02         3       0                 0\n",
       "2020-01-03         2       0                 0\n",
       "2020-01-05         1       0                 0\n",
       "2020-01-08         1       0                 0"
      ]
     },
     "execution_count": 21,
     "metadata": {},
     "output_type": "execute_result"
    }
   ],
   "source": [
    "#Concatenate the COVID DataFrame columns \n",
    "covid_df = pd.concat([covid_case_date, covid_cases, covid_deaths, covid_hopitalizations], axis=1)\n",
    "covid_df.head()\n",
    "\n",
    "#Set the Date Column as the Index\n",
    "covid_dataframe = covid_df.set_index('cdc_report_dt')\n",
    "\n",
    "#Preview the new DataFrame\n",
    "covid_dataframe.head()"
   ]
  },
  {
   "cell_type": "markdown",
   "metadata": {},
   "source": [
    "#### Create a TSA Traveler Count DataFrame using the date as the index ####"
   ]
  },
  {
   "cell_type": "code",
   "execution_count": 22,
   "metadata": {},
   "outputs": [
    {
     "data": {
      "text/html": [
       "<div>\n",
       "<style scoped>\n",
       "    .dataframe tbody tr th:only-of-type {\n",
       "        vertical-align: middle;\n",
       "    }\n",
       "\n",
       "    .dataframe tbody tr th {\n",
       "        vertical-align: top;\n",
       "    }\n",
       "\n",
       "    .dataframe thead th {\n",
       "        text-align: right;\n",
       "    }\n",
       "</style>\n",
       "<table border=\"1\" class=\"dataframe\">\n",
       "  <thead>\n",
       "    <tr style=\"text-align: right;\">\n",
       "      <th></th>\n",
       "      <th>Total Traveler Throughput</th>\n",
       "      <th>Total Traveler Throughput_1 Year Ago_Same Weekday</th>\n",
       "    </tr>\n",
       "    <tr>\n",
       "      <th>Date</th>\n",
       "      <th></th>\n",
       "      <th></th>\n",
       "    </tr>\n",
       "  </thead>\n",
       "  <tbody>\n",
       "    <tr>\n",
       "      <th>2020-12-09</th>\n",
       "      <td>564372</td>\n",
       "      <td>2020488</td>\n",
       "    </tr>\n",
       "    <tr>\n",
       "      <th>2020-12-08</th>\n",
       "      <td>501513</td>\n",
       "      <td>1897051</td>\n",
       "    </tr>\n",
       "    <tr>\n",
       "      <th>2020-12-07</th>\n",
       "      <td>703546</td>\n",
       "      <td>2226290</td>\n",
       "    </tr>\n",
       "    <tr>\n",
       "      <th>2020-12-06</th>\n",
       "      <td>837137</td>\n",
       "      <td>2292079</td>\n",
       "    </tr>\n",
       "    <tr>\n",
       "      <th>2020-12-05</th>\n",
       "      <td>629430</td>\n",
       "      <td>1755801</td>\n",
       "    </tr>\n",
       "  </tbody>\n",
       "</table>\n",
       "</div>"
      ],
      "text/plain": [
       "            Total Traveler Throughput  \\\n",
       "Date                                    \n",
       "2020-12-09                     564372   \n",
       "2020-12-08                     501513   \n",
       "2020-12-07                     703546   \n",
       "2020-12-06                     837137   \n",
       "2020-12-05                     629430   \n",
       "\n",
       "            Total Traveler Throughput_1 Year Ago_Same Weekday  \n",
       "Date                                                           \n",
       "2020-12-09                                            2020488  \n",
       "2020-12-08                                            1897051  \n",
       "2020-12-07                                            2226290  \n",
       "2020-12-06                                            2292079  \n",
       "2020-12-05                                            1755801  "
      ]
     },
     "execution_count": 22,
     "metadata": {},
     "output_type": "execute_result"
    }
   ],
   "source": [
    "#Concatenate the TSA DataFrame columns \n",
    "tsa_df = pd.concat([tsa_travel_date, tsa_2020, tsa_2019], axis=1)\n",
    "\n",
    "#Set the Date Column as the Index\n",
    "tsa_dataframe = tsa_df.set_index('Date')\n",
    "\n",
    "#Preview the new DataFrame\n",
    "tsa_dataframe.head()\n"
   ]
  },
  {
   "cell_type": "markdown",
   "metadata": {},
   "source": [
    "#### Now, the COVID and TSA DataFrames can be merged together on the Date index ####\n",
    "\n",
    "\n",
    "This will be accomplished with an inner merge, which will only join the rows that have matching values (matching dates).\n",
    "\n",
    "\n",
    "This merge will be exclude any COVID case dates or TSA traveler count dates that are not in both DataFrames."
   ]
  },
  {
   "cell_type": "code",
   "execution_count": 23,
   "metadata": {},
   "outputs": [
    {
     "data": {
      "text/html": [
       "<div>\n",
       "<style scoped>\n",
       "    .dataframe tbody tr th:only-of-type {\n",
       "        vertical-align: middle;\n",
       "    }\n",
       "\n",
       "    .dataframe tbody tr th {\n",
       "        vertical-align: top;\n",
       "    }\n",
       "\n",
       "    .dataframe thead th {\n",
       "        text-align: right;\n",
       "    }\n",
       "</style>\n",
       "<table border=\"1\" class=\"dataframe\">\n",
       "  <thead>\n",
       "    <tr style=\"text-align: right;\">\n",
       "      <th></th>\n",
       "      <th>Cases</th>\n",
       "      <th>Deaths</th>\n",
       "      <th>Hospitalizations</th>\n",
       "      <th>Total Traveler Throughput</th>\n",
       "      <th>Total Traveler Throughput_1 Year Ago_Same Weekday</th>\n",
       "    </tr>\n",
       "  </thead>\n",
       "  <tbody>\n",
       "    <tr>\n",
       "      <th>2020-11-15</th>\n",
       "      <td>85177</td>\n",
       "      <td>467</td>\n",
       "      <td>2198</td>\n",
       "      <td>978297</td>\n",
       "      <td>2396681</td>\n",
       "    </tr>\n",
       "    <tr>\n",
       "      <th>2020-11-16</th>\n",
       "      <td>106744</td>\n",
       "      <td>562</td>\n",
       "      <td>2673</td>\n",
       "      <td>883157</td>\n",
       "      <td>2298856</td>\n",
       "    </tr>\n",
       "    <tr>\n",
       "      <th>2020-11-17</th>\n",
       "      <td>155142</td>\n",
       "      <td>844</td>\n",
       "      <td>4959</td>\n",
       "      <td>611497</td>\n",
       "      <td>1900895</td>\n",
       "    </tr>\n",
       "    <tr>\n",
       "      <th>2020-11-18</th>\n",
       "      <td>102010</td>\n",
       "      <td>475</td>\n",
       "      <td>2700</td>\n",
       "      <td>703135</td>\n",
       "      <td>2071631</td>\n",
       "    </tr>\n",
       "    <tr>\n",
       "      <th>2020-11-19</th>\n",
       "      <td>103308</td>\n",
       "      <td>420</td>\n",
       "      <td>2716</td>\n",
       "      <td>907332</td>\n",
       "      <td>2428095</td>\n",
       "    </tr>\n",
       "  </tbody>\n",
       "</table>\n",
       "</div>"
      ],
      "text/plain": [
       "             Cases  Deaths  Hospitalizations  Total Traveler Throughput  \\\n",
       "2020-11-15   85177     467              2198                     978297   \n",
       "2020-11-16  106744     562              2673                     883157   \n",
       "2020-11-17  155142     844              4959                     611497   \n",
       "2020-11-18  102010     475              2700                     703135   \n",
       "2020-11-19  103308     420              2716                     907332   \n",
       "\n",
       "            Total Traveler Throughput_1 Year Ago_Same Weekday  \n",
       "2020-11-15                                            2396681  \n",
       "2020-11-16                                            2298856  \n",
       "2020-11-17                                            1900895  \n",
       "2020-11-18                                            2071631  \n",
       "2020-11-19                                            2428095  "
      ]
     },
     "execution_count": 23,
     "metadata": {},
     "output_type": "execute_result"
    }
   ],
   "source": [
    "#Merge the COVID and TSA DataFrames on the Date index\n",
    "   \n",
    "    \n",
    "merged_df = pd.merge(covid_dataframe, tsa_dataframe, left_index=True, right_index=True)\n",
    "merged_df.tail()"
   ]
  },
  {
   "cell_type": "markdown",
   "metadata": {},
   "source": [
    "# SECTION 4: Rename columns and export as .csv"
   ]
  },
  {
   "cell_type": "code",
   "execution_count": 24,
   "metadata": {},
   "outputs": [
    {
     "data": {
      "text/html": [
       "<div>\n",
       "<style scoped>\n",
       "    .dataframe tbody tr th:only-of-type {\n",
       "        vertical-align: middle;\n",
       "    }\n",
       "\n",
       "    .dataframe tbody tr th {\n",
       "        vertical-align: top;\n",
       "    }\n",
       "\n",
       "    .dataframe thead th {\n",
       "        text-align: right;\n",
       "    }\n",
       "</style>\n",
       "<table border=\"1\" class=\"dataframe\">\n",
       "  <thead>\n",
       "    <tr style=\"text-align: right;\">\n",
       "      <th></th>\n",
       "      <th>Cases</th>\n",
       "      <th>Deaths</th>\n",
       "      <th>Hospitalizations</th>\n",
       "      <th>2020 Traveler Count</th>\n",
       "      <th>2019 Traveler Count (Same Weekday)</th>\n",
       "    </tr>\n",
       "  </thead>\n",
       "  <tbody>\n",
       "    <tr>\n",
       "      <th>2020-03-01</th>\n",
       "      <td>234</td>\n",
       "      <td>12</td>\n",
       "      <td>71</td>\n",
       "      <td>2280522</td>\n",
       "      <td>2301439</td>\n",
       "    </tr>\n",
       "    <tr>\n",
       "      <th>2020-03-02</th>\n",
       "      <td>163</td>\n",
       "      <td>14</td>\n",
       "      <td>47</td>\n",
       "      <td>2089641</td>\n",
       "      <td>2257920</td>\n",
       "    </tr>\n",
       "    <tr>\n",
       "      <th>2020-03-03</th>\n",
       "      <td>261</td>\n",
       "      <td>11</td>\n",
       "      <td>59</td>\n",
       "      <td>1736393</td>\n",
       "      <td>1979558</td>\n",
       "    </tr>\n",
       "    <tr>\n",
       "      <th>2020-03-04</th>\n",
       "      <td>217</td>\n",
       "      <td>14</td>\n",
       "      <td>66</td>\n",
       "      <td>1877401</td>\n",
       "      <td>2143619</td>\n",
       "    </tr>\n",
       "    <tr>\n",
       "      <th>2020-03-05</th>\n",
       "      <td>252</td>\n",
       "      <td>8</td>\n",
       "      <td>72</td>\n",
       "      <td>2130015</td>\n",
       "      <td>2402692</td>\n",
       "    </tr>\n",
       "  </tbody>\n",
       "</table>\n",
       "</div>"
      ],
      "text/plain": [
       "            Cases  Deaths  Hospitalizations  2020 Traveler Count  \\\n",
       "2020-03-01    234      12                71              2280522   \n",
       "2020-03-02    163      14                47              2089641   \n",
       "2020-03-03    261      11                59              1736393   \n",
       "2020-03-04    217      14                66              1877401   \n",
       "2020-03-05    252       8                72              2130015   \n",
       "\n",
       "            2019 Traveler Count (Same Weekday)  \n",
       "2020-03-01                             2301439  \n",
       "2020-03-02                             2257920  \n",
       "2020-03-03                             1979558  \n",
       "2020-03-04                             2143619  \n",
       "2020-03-05                             2402692  "
      ]
     },
     "execution_count": 24,
     "metadata": {},
     "output_type": "execute_result"
    }
   ],
   "source": [
    "#Rename the columns so that they are easier to consume\n",
    "\n",
    "covid_travel = merged_df.rename(columns = {'Total Traveler Throughput': '2020 Traveler Count', 'Total Traveler Throughput_1 Year Ago_Same Weekday': '2019 Traveler Count (Same Weekday)'})\n",
    "covid_travel.head()\n",
    "\n",
    "#Datetime format = year-month-day"
   ]
  },
  {
   "cell_type": "code",
   "execution_count": 25,
   "metadata": {},
   "outputs": [
    {
     "name": "stdout",
     "output_type": "stream",
     "text": [
      "<class 'pandas.core.frame.DataFrame'>\n",
      "DatetimeIndex: 264 entries, 2020-03-01 to 2020-11-19\n",
      "Freq: D\n",
      "Data columns (total 5 columns):\n",
      " #   Column                              Non-Null Count  Dtype\n",
      "---  ------                              --------------  -----\n",
      " 0   Cases                               264 non-null    int64\n",
      " 1   Deaths                              264 non-null    int64\n",
      " 2   Hospitalizations                    264 non-null    int64\n",
      " 3   2020 Traveler Count                 264 non-null    int64\n",
      " 4   2019 Traveler Count (Same Weekday)  264 non-null    int64\n",
      "dtypes: int64(5)\n",
      "memory usage: 12.4 KB\n"
     ]
    }
   ],
   "source": [
    "#And here is the information about this finalized DataFrame\n",
    "covid_travel.info()"
   ]
  },
  {
   "cell_type": "code",
   "execution_count": 26,
   "metadata": {},
   "outputs": [],
   "source": [
    "#store this DataFrame as a .csv in order to open it in a different ('Visualization') notebook.\n",
    "\n",
    "covid_travel.to_csv('covid_travel.csv')"
   ]
  },
  {
   "cell_type": "code",
   "execution_count": null,
   "metadata": {},
   "outputs": [],
   "source": []
  }
 ],
 "metadata": {
  "kernelspec": {
   "display_name": "Python 3",
   "language": "python",
   "name": "python3"
  },
  "language_info": {
   "codemirror_mode": {
    "name": "ipython",
    "version": 3
   },
   "file_extension": ".py",
   "mimetype": "text/x-python",
   "name": "python",
   "nbconvert_exporter": "python",
   "pygments_lexer": "ipython3",
   "version": "3.7.8"
  }
 },
 "nbformat": 4,
 "nbformat_minor": 4
}
