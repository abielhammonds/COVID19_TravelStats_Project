{
 "cells": [
  {
   "cell_type": "markdown",
   "metadata": {},
   "source": [
    "# OVERVIEW #\n",
    "\n",
    "This notebook imports the United States COVID and airline traveler DataFrame exported as .csv in the COVID19_Travel_Create_DataFrames notebook.\n",
    "\n",
    "\n",
    "In the COVID19_Travel_Create_DataFrames.ipynb file, United States COVID data and airline traveler data was imported from .csv, saved in DataFrames, converted into useful datatypes, and then merged into a single DataFrame.  That DataFrame was then exported as a .csv file.\n",
    "\n",
    "\n",
    "This notebook presents key questions about the data and creates visualizations using Seaborn.  "
   ]
  },
  {
   "cell_type": "code",
   "execution_count": 1,
   "metadata": {},
   "outputs": [],
   "source": [
    "#Import Time, Datetime, MatPlotLib, Seaborn, Pandas, Numpy\n",
    "import time\n",
    "import datetime\n",
    "import matplotlib.pyplot as plt\n",
    "import seaborn as sns\n",
    "import pandas as pd\n",
    "import numpy as np\n"
   ]
  },
  {
   "cell_type": "markdown",
   "metadata": {},
   "source": [
    "# SECTION 1: Key Questions #"
   ]
  },
  {
   "cell_type": "markdown",
   "metadata": {},
   "source": [
    "#### Here are key questions explored through this analysis: ####\n",
    "\n",
    "\n",
    "1. What was 'typical' travel like each month in 2019 and 2020?  \n",
    "\n",
    "\n",
    "2. What were the COVID trends in 2020 for those same date ranges?  \n",
    "\n",
    "\n",
    "3. What was the correlation between COVID and travel in the *early* (March/April), *middle* (May -July), and *late( (Aug - Oct) parts of the 'first wave' of COVID 2020?\n",
    "\n",
    "*Note: the longer term plan is to continue to follow the trend through the end of 2020 and into 2021 as the COVID second wave plays out this Fall/Winter.*"
   ]
  },
  {
   "cell_type": "markdown",
   "metadata": {},
   "source": [
    "# SECTION 2: Import and Convert the Data #"
   ]
  },
  {
   "cell_type": "markdown",
   "metadata": {},
   "source": [
    "#### Import and preview the .csv file ####"
   ]
  },
  {
   "cell_type": "markdown",
   "metadata": {},
   "source": [
    "\n",
    "    "
   ]
  },
  {
   "cell_type": "code",
   "execution_count": 2,
   "metadata": {},
   "outputs": [
    {
     "data": {
      "text/html": [
       "<div>\n",
       "<style scoped>\n",
       "    .dataframe tbody tr th:only-of-type {\n",
       "        vertical-align: middle;\n",
       "    }\n",
       "\n",
       "    .dataframe tbody tr th {\n",
       "        vertical-align: top;\n",
       "    }\n",
       "\n",
       "    .dataframe thead th {\n",
       "        text-align: right;\n",
       "    }\n",
       "</style>\n",
       "<table border=\"1\" class=\"dataframe\">\n",
       "  <thead>\n",
       "    <tr style=\"text-align: right;\">\n",
       "      <th></th>\n",
       "      <th>Unnamed: 0</th>\n",
       "      <th>Cases</th>\n",
       "      <th>Deaths</th>\n",
       "      <th>Hospitalizations</th>\n",
       "      <th>2020 Traveler Count</th>\n",
       "      <th>2019 Traveler Count (Same Weekday)</th>\n",
       "    </tr>\n",
       "  </thead>\n",
       "  <tbody>\n",
       "    <tr>\n",
       "      <th>259</th>\n",
       "      <td>2020-11-15</td>\n",
       "      <td>85177</td>\n",
       "      <td>467</td>\n",
       "      <td>2198</td>\n",
       "      <td>978297</td>\n",
       "      <td>2396681</td>\n",
       "    </tr>\n",
       "    <tr>\n",
       "      <th>260</th>\n",
       "      <td>2020-11-16</td>\n",
       "      <td>106744</td>\n",
       "      <td>562</td>\n",
       "      <td>2673</td>\n",
       "      <td>883157</td>\n",
       "      <td>2298856</td>\n",
       "    </tr>\n",
       "    <tr>\n",
       "      <th>261</th>\n",
       "      <td>2020-11-17</td>\n",
       "      <td>155142</td>\n",
       "      <td>844</td>\n",
       "      <td>4959</td>\n",
       "      <td>611497</td>\n",
       "      <td>1900895</td>\n",
       "    </tr>\n",
       "    <tr>\n",
       "      <th>262</th>\n",
       "      <td>2020-11-18</td>\n",
       "      <td>102010</td>\n",
       "      <td>475</td>\n",
       "      <td>2700</td>\n",
       "      <td>703135</td>\n",
       "      <td>2071631</td>\n",
       "    </tr>\n",
       "    <tr>\n",
       "      <th>263</th>\n",
       "      <td>2020-11-19</td>\n",
       "      <td>103308</td>\n",
       "      <td>420</td>\n",
       "      <td>2716</td>\n",
       "      <td>907332</td>\n",
       "      <td>2428095</td>\n",
       "    </tr>\n",
       "  </tbody>\n",
       "</table>\n",
       "</div>"
      ],
      "text/plain": [
       "     Unnamed: 0   Cases  Deaths  Hospitalizations  2020 Traveler Count  \\\n",
       "259  2020-11-15   85177     467              2198               978297   \n",
       "260  2020-11-16  106744     562              2673               883157   \n",
       "261  2020-11-17  155142     844              4959               611497   \n",
       "262  2020-11-18  102010     475              2700               703135   \n",
       "263  2020-11-19  103308     420              2716               907332   \n",
       "\n",
       "     2019 Traveler Count (Same Weekday)  \n",
       "259                             2396681  \n",
       "260                             2298856  \n",
       "261                             1900895  \n",
       "262                             2071631  \n",
       "263                             2428095  "
      ]
     },
     "execution_count": 2,
     "metadata": {},
     "output_type": "execute_result"
    }
   ],
   "source": [
    "#Import the COVID DataFrame created and saved as .csv in the 'COVID19Travel_Create_DataFrames' notebook\n",
    "\n",
    "covid_travel = pd.read_csv('covid_travel.csv')\n",
    "\n",
    "#Preview the DataFrame\n",
    "\n",
    "covid_travel.tail()"
   ]
  },
  {
   "cell_type": "markdown",
   "metadata": {},
   "source": [
    "*The use of the .csv file added added a numbered index to the data, instead of using the dates as the index.  This is beneficial because the dates need to be in their own column in order to include them in the visualizations.\n"
   ]
  },
  {
   "cell_type": "markdown",
   "metadata": {},
   "source": [
    "#### Check the datatypes and rename the dates column ####"
   ]
  },
  {
   "cell_type": "code",
   "execution_count": 3,
   "metadata": {},
   "outputs": [
    {
     "name": "stdout",
     "output_type": "stream",
     "text": [
      "<class 'pandas.core.frame.DataFrame'>\n",
      "RangeIndex: 264 entries, 0 to 263\n",
      "Data columns (total 6 columns):\n",
      " #   Column                              Non-Null Count  Dtype \n",
      "---  ------                              --------------  ----- \n",
      " 0   Unnamed: 0                          264 non-null    object\n",
      " 1   Cases                               264 non-null    int64 \n",
      " 2   Deaths                              264 non-null    int64 \n",
      " 3   Hospitalizations                    264 non-null    int64 \n",
      " 4   2020 Traveler Count                 264 non-null    int64 \n",
      " 5   2019 Traveler Count (Same Weekday)  264 non-null    int64 \n",
      "dtypes: int64(5), object(1)\n",
      "memory usage: 12.5+ KB\n"
     ]
    }
   ],
   "source": [
    "#Check the datatypes\n",
    "covid_travel.info()\n",
    "\n",
    "#The dates column can be renamed and the values re-converted to date datatypes"
   ]
  },
  {
   "cell_type": "code",
   "execution_count": 4,
   "metadata": {},
   "outputs": [
    {
     "data": {
      "text/html": [
       "<div>\n",
       "<style scoped>\n",
       "    .dataframe tbody tr th:only-of-type {\n",
       "        vertical-align: middle;\n",
       "    }\n",
       "\n",
       "    .dataframe tbody tr th {\n",
       "        vertical-align: top;\n",
       "    }\n",
       "\n",
       "    .dataframe thead th {\n",
       "        text-align: right;\n",
       "    }\n",
       "</style>\n",
       "<table border=\"1\" class=\"dataframe\">\n",
       "  <thead>\n",
       "    <tr style=\"text-align: right;\">\n",
       "      <th></th>\n",
       "      <th>Date</th>\n",
       "      <th>Cases</th>\n",
       "      <th>Deaths</th>\n",
       "      <th>Hospitalizations</th>\n",
       "      <th>2020 Traveler Count</th>\n",
       "      <th>2019 Traveler Count (Same Weekday)</th>\n",
       "    </tr>\n",
       "  </thead>\n",
       "  <tbody>\n",
       "    <tr>\n",
       "      <th>0</th>\n",
       "      <td>2020-03-01</td>\n",
       "      <td>234</td>\n",
       "      <td>12</td>\n",
       "      <td>71</td>\n",
       "      <td>2280522</td>\n",
       "      <td>2301439</td>\n",
       "    </tr>\n",
       "    <tr>\n",
       "      <th>1</th>\n",
       "      <td>2020-03-02</td>\n",
       "      <td>163</td>\n",
       "      <td>14</td>\n",
       "      <td>47</td>\n",
       "      <td>2089641</td>\n",
       "      <td>2257920</td>\n",
       "    </tr>\n",
       "    <tr>\n",
       "      <th>2</th>\n",
       "      <td>2020-03-03</td>\n",
       "      <td>261</td>\n",
       "      <td>11</td>\n",
       "      <td>59</td>\n",
       "      <td>1736393</td>\n",
       "      <td>1979558</td>\n",
       "    </tr>\n",
       "    <tr>\n",
       "      <th>3</th>\n",
       "      <td>2020-03-04</td>\n",
       "      <td>217</td>\n",
       "      <td>14</td>\n",
       "      <td>66</td>\n",
       "      <td>1877401</td>\n",
       "      <td>2143619</td>\n",
       "    </tr>\n",
       "    <tr>\n",
       "      <th>4</th>\n",
       "      <td>2020-03-05</td>\n",
       "      <td>252</td>\n",
       "      <td>8</td>\n",
       "      <td>72</td>\n",
       "      <td>2130015</td>\n",
       "      <td>2402692</td>\n",
       "    </tr>\n",
       "  </tbody>\n",
       "</table>\n",
       "</div>"
      ],
      "text/plain": [
       "         Date  Cases  Deaths  Hospitalizations  2020 Traveler Count  \\\n",
       "0  2020-03-01    234      12                71              2280522   \n",
       "1  2020-03-02    163      14                47              2089641   \n",
       "2  2020-03-03    261      11                59              1736393   \n",
       "3  2020-03-04    217      14                66              1877401   \n",
       "4  2020-03-05    252       8                72              2130015   \n",
       "\n",
       "   2019 Traveler Count (Same Weekday)  \n",
       "0                             2301439  \n",
       "1                             2257920  \n",
       "2                             1979558  \n",
       "3                             2143619  \n",
       "4                             2402692  "
      ]
     },
     "execution_count": 4,
     "metadata": {},
     "output_type": "execute_result"
    }
   ],
   "source": [
    "#Rename the dates column, from 'Unnamed'\n",
    "\n",
    "covid_df = covid_travel.rename(columns = {\"Unnamed: 0\": \"Date\"})\n",
    "covid_df.head()"
   ]
  },
  {
   "cell_type": "markdown",
   "metadata": {},
   "source": [
    "#### Convert the datatypes ####"
   ]
  },
  {
   "cell_type": "code",
   "execution_count": 5,
   "metadata": {},
   "outputs": [
    {
     "name": "stdout",
     "output_type": "stream",
     "text": [
      "<class 'pandas.core.frame.DataFrame'>\n",
      "RangeIndex: 264 entries, 0 to 263\n",
      "Data columns (total 6 columns):\n",
      " #   Column                              Non-Null Count  Dtype         \n",
      "---  ------                              --------------  -----         \n",
      " 0   Date                                264 non-null    datetime64[ns]\n",
      " 1   Cases                               264 non-null    int64         \n",
      " 2   Deaths                              264 non-null    int64         \n",
      " 3   Hospitalizations                    264 non-null    int64         \n",
      " 4   2020 Traveler Count                 264 non-null    int64         \n",
      " 5   2019 Traveler Count (Same Weekday)  264 non-null    int64         \n",
      "dtypes: datetime64[ns](1), int64(5)\n",
      "memory usage: 12.5 KB\n"
     ]
    }
   ],
   "source": [
    "#Import the datetime module\n",
    "import datetime\n",
    "\n",
    "#Convert the dates in the date column\n",
    "covid_df['Date'] = pd.to_datetime(covid_df['Date'])\n",
    "\n",
    "#Check the datatype for each column - the Date column is now datetime\n",
    "covid_df.info()"
   ]
  },
  {
   "cell_type": "code",
   "execution_count": 6,
   "metadata": {},
   "outputs": [
    {
     "data": {
      "text/html": [
       "<div>\n",
       "<style scoped>\n",
       "    .dataframe tbody tr th:only-of-type {\n",
       "        vertical-align: middle;\n",
       "    }\n",
       "\n",
       "    .dataframe tbody tr th {\n",
       "        vertical-align: top;\n",
       "    }\n",
       "\n",
       "    .dataframe thead th {\n",
       "        text-align: right;\n",
       "    }\n",
       "</style>\n",
       "<table border=\"1\" class=\"dataframe\">\n",
       "  <thead>\n",
       "    <tr style=\"text-align: right;\">\n",
       "      <th></th>\n",
       "      <th>Date</th>\n",
       "      <th>Cases</th>\n",
       "      <th>Deaths</th>\n",
       "      <th>Hospitalizations</th>\n",
       "      <th>2020 Traveler Count</th>\n",
       "      <th>2019 Traveler Count (Same Weekday)</th>\n",
       "    </tr>\n",
       "  </thead>\n",
       "  <tbody>\n",
       "    <tr>\n",
       "      <th>0</th>\n",
       "      <td>2020-03-01</td>\n",
       "      <td>234</td>\n",
       "      <td>12</td>\n",
       "      <td>71</td>\n",
       "      <td>2280522</td>\n",
       "      <td>2301439</td>\n",
       "    </tr>\n",
       "    <tr>\n",
       "      <th>1</th>\n",
       "      <td>2020-03-02</td>\n",
       "      <td>163</td>\n",
       "      <td>14</td>\n",
       "      <td>47</td>\n",
       "      <td>2089641</td>\n",
       "      <td>2257920</td>\n",
       "    </tr>\n",
       "    <tr>\n",
       "      <th>2</th>\n",
       "      <td>2020-03-03</td>\n",
       "      <td>261</td>\n",
       "      <td>11</td>\n",
       "      <td>59</td>\n",
       "      <td>1736393</td>\n",
       "      <td>1979558</td>\n",
       "    </tr>\n",
       "    <tr>\n",
       "      <th>3</th>\n",
       "      <td>2020-03-04</td>\n",
       "      <td>217</td>\n",
       "      <td>14</td>\n",
       "      <td>66</td>\n",
       "      <td>1877401</td>\n",
       "      <td>2143619</td>\n",
       "    </tr>\n",
       "    <tr>\n",
       "      <th>4</th>\n",
       "      <td>2020-03-05</td>\n",
       "      <td>252</td>\n",
       "      <td>8</td>\n",
       "      <td>72</td>\n",
       "      <td>2130015</td>\n",
       "      <td>2402692</td>\n",
       "    </tr>\n",
       "  </tbody>\n",
       "</table>\n",
       "</div>"
      ],
      "text/plain": [
       "        Date  Cases  Deaths  Hospitalizations  2020 Traveler Count  \\\n",
       "0 2020-03-01    234      12                71              2280522   \n",
       "1 2020-03-02    163      14                47              2089641   \n",
       "2 2020-03-03    261      11                59              1736393   \n",
       "3 2020-03-04    217      14                66              1877401   \n",
       "4 2020-03-05    252       8                72              2130015   \n",
       "\n",
       "   2019 Traveler Count (Same Weekday)  \n",
       "0                             2301439  \n",
       "1                             2257920  \n",
       "2                             1979558  \n",
       "3                             2143619  \n",
       "4                             2402692  "
      ]
     },
     "execution_count": 6,
     "metadata": {},
     "output_type": "execute_result"
    }
   ],
   "source": [
    "covid_df.head()"
   ]
  },
  {
   "cell_type": "markdown",
   "metadata": {},
   "source": [
    "# SECTION 3: Create categories for plotting #"
   ]
  },
  {
   "cell_type": "markdown",
   "metadata": {},
   "source": [
    "#### Create bins to summarize the data by month ####\n",
    "\n",
    "\n",
    "Datetime datatypes cannot be binned with the pd.cut() method.\n",
    "\n",
    "\n",
    "Instead, a month index (number of the month) is created for each date first and that is used for the bins."
   ]
  },
  {
   "cell_type": "code",
   "execution_count": 8,
   "metadata": {},
   "outputs": [
    {
     "data": {
      "text/html": [
       "<div>\n",
       "<style scoped>\n",
       "    .dataframe tbody tr th:only-of-type {\n",
       "        vertical-align: middle;\n",
       "    }\n",
       "\n",
       "    .dataframe tbody tr th {\n",
       "        vertical-align: top;\n",
       "    }\n",
       "\n",
       "    .dataframe thead th {\n",
       "        text-align: right;\n",
       "    }\n",
       "</style>\n",
       "<table border=\"1\" class=\"dataframe\">\n",
       "  <thead>\n",
       "    <tr style=\"text-align: right;\">\n",
       "      <th></th>\n",
       "      <th>Date</th>\n",
       "      <th>Cases</th>\n",
       "      <th>Deaths</th>\n",
       "      <th>Hospitalizations</th>\n",
       "      <th>2020 Traveler Count</th>\n",
       "      <th>2019 Traveler Count (Same Weekday)</th>\n",
       "      <th>Month_Index</th>\n",
       "      <th>Month</th>\n",
       "    </tr>\n",
       "  </thead>\n",
       "  <tbody>\n",
       "    <tr>\n",
       "      <th>259</th>\n",
       "      <td>2020-11-15</td>\n",
       "      <td>85177</td>\n",
       "      <td>467</td>\n",
       "      <td>2198</td>\n",
       "      <td>978297</td>\n",
       "      <td>2396681</td>\n",
       "      <td>11</td>\n",
       "      <td>Nov</td>\n",
       "    </tr>\n",
       "    <tr>\n",
       "      <th>260</th>\n",
       "      <td>2020-11-16</td>\n",
       "      <td>106744</td>\n",
       "      <td>562</td>\n",
       "      <td>2673</td>\n",
       "      <td>883157</td>\n",
       "      <td>2298856</td>\n",
       "      <td>11</td>\n",
       "      <td>Nov</td>\n",
       "    </tr>\n",
       "    <tr>\n",
       "      <th>261</th>\n",
       "      <td>2020-11-17</td>\n",
       "      <td>155142</td>\n",
       "      <td>844</td>\n",
       "      <td>4959</td>\n",
       "      <td>611497</td>\n",
       "      <td>1900895</td>\n",
       "      <td>11</td>\n",
       "      <td>Nov</td>\n",
       "    </tr>\n",
       "    <tr>\n",
       "      <th>262</th>\n",
       "      <td>2020-11-18</td>\n",
       "      <td>102010</td>\n",
       "      <td>475</td>\n",
       "      <td>2700</td>\n",
       "      <td>703135</td>\n",
       "      <td>2071631</td>\n",
       "      <td>11</td>\n",
       "      <td>Nov</td>\n",
       "    </tr>\n",
       "    <tr>\n",
       "      <th>263</th>\n",
       "      <td>2020-11-19</td>\n",
       "      <td>103308</td>\n",
       "      <td>420</td>\n",
       "      <td>2716</td>\n",
       "      <td>907332</td>\n",
       "      <td>2428095</td>\n",
       "      <td>11</td>\n",
       "      <td>Nov</td>\n",
       "    </tr>\n",
       "  </tbody>\n",
       "</table>\n",
       "</div>"
      ],
      "text/plain": [
       "          Date   Cases  Deaths  Hospitalizations  2020 Traveler Count  \\\n",
       "259 2020-11-15   85177     467              2198               978297   \n",
       "260 2020-11-16  106744     562              2673               883157   \n",
       "261 2020-11-17  155142     844              4959               611497   \n",
       "262 2020-11-18  102010     475              2700               703135   \n",
       "263 2020-11-19  103308     420              2716               907332   \n",
       "\n",
       "     2019 Traveler Count (Same Weekday)  Month_Index Month  \n",
       "259                             2396681           11   Nov  \n",
       "260                             2298856           11   Nov  \n",
       "261                             1900895           11   Nov  \n",
       "262                             2071631           11   Nov  \n",
       "263                             2428095           11   Nov  "
      ]
     },
     "execution_count": 8,
     "metadata": {},
     "output_type": "execute_result"
    }
   ],
   "source": [
    "#Create a month index for each date and list as a separate column\n",
    "covid_df[\"Month_Index\"] = pd.DatetimeIndex(covid_df[\"Date\"]).month\n",
    " \n",
    "#Create bins using pd.cut() on the new \"Month\" column and append them to the DataFrame\n",
    "month_bins = [1, 2, 3, 4, 5, 6, 7, 8, 9, 10, 11, 12, 13]\n",
    "month_labels = [\"Feb\", \"Mar\", \"Apr\", \"May\", \"June\", \"July\", \"Aug\", \"Sept\", \"Oct\", \"Nov\", \"Dec\", \"Jan\"]\n",
    "covid_df[\"Month\"] = pd.cut(covid_df[\"Month_Index\"], month_bins, labels=month_labels)\n",
    "\n",
    "covid_df.tail()"
   ]
  },
  {
   "cell_type": "markdown",
   "metadata": {},
   "source": [
    "#### Pivot the data so that it can be plotted ####"
   ]
  },
  {
   "cell_type": "code",
   "execution_count": 9,
   "metadata": {},
   "outputs": [
    {
     "data": {
      "text/html": [
       "<div>\n",
       "<style scoped>\n",
       "    .dataframe tbody tr th:only-of-type {\n",
       "        vertical-align: middle;\n",
       "    }\n",
       "\n",
       "    .dataframe tbody tr th {\n",
       "        vertical-align: top;\n",
       "    }\n",
       "\n",
       "    .dataframe thead th {\n",
       "        text-align: right;\n",
       "    }\n",
       "</style>\n",
       "<table border=\"1\" class=\"dataframe\">\n",
       "  <thead>\n",
       "    <tr style=\"text-align: right;\">\n",
       "      <th></th>\n",
       "      <th>Date</th>\n",
       "      <th>Travelers</th>\n",
       "      <th>Counts</th>\n",
       "    </tr>\n",
       "  </thead>\n",
       "  <tbody>\n",
       "    <tr>\n",
       "      <th>0</th>\n",
       "      <td>2020-03-01</td>\n",
       "      <td>2020 Traveler Count</td>\n",
       "      <td>2280522</td>\n",
       "    </tr>\n",
       "    <tr>\n",
       "      <th>1</th>\n",
       "      <td>2020-03-02</td>\n",
       "      <td>2020 Traveler Count</td>\n",
       "      <td>2089641</td>\n",
       "    </tr>\n",
       "    <tr>\n",
       "      <th>2</th>\n",
       "      <td>2020-03-03</td>\n",
       "      <td>2020 Traveler Count</td>\n",
       "      <td>1736393</td>\n",
       "    </tr>\n",
       "    <tr>\n",
       "      <th>3</th>\n",
       "      <td>2020-03-04</td>\n",
       "      <td>2020 Traveler Count</td>\n",
       "      <td>1877401</td>\n",
       "    </tr>\n",
       "    <tr>\n",
       "      <th>4</th>\n",
       "      <td>2020-03-05</td>\n",
       "      <td>2020 Traveler Count</td>\n",
       "      <td>2130015</td>\n",
       "    </tr>\n",
       "    <tr>\n",
       "      <th>...</th>\n",
       "      <td>...</td>\n",
       "      <td>...</td>\n",
       "      <td>...</td>\n",
       "    </tr>\n",
       "    <tr>\n",
       "      <th>523</th>\n",
       "      <td>2020-11-15</td>\n",
       "      <td>2019 Traveler Count (Same Weekday)</td>\n",
       "      <td>2396681</td>\n",
       "    </tr>\n",
       "    <tr>\n",
       "      <th>524</th>\n",
       "      <td>2020-11-16</td>\n",
       "      <td>2019 Traveler Count (Same Weekday)</td>\n",
       "      <td>2298856</td>\n",
       "    </tr>\n",
       "    <tr>\n",
       "      <th>525</th>\n",
       "      <td>2020-11-17</td>\n",
       "      <td>2019 Traveler Count (Same Weekday)</td>\n",
       "      <td>1900895</td>\n",
       "    </tr>\n",
       "    <tr>\n",
       "      <th>526</th>\n",
       "      <td>2020-11-18</td>\n",
       "      <td>2019 Traveler Count (Same Weekday)</td>\n",
       "      <td>2071631</td>\n",
       "    </tr>\n",
       "    <tr>\n",
       "      <th>527</th>\n",
       "      <td>2020-11-19</td>\n",
       "      <td>2019 Traveler Count (Same Weekday)</td>\n",
       "      <td>2428095</td>\n",
       "    </tr>\n",
       "  </tbody>\n",
       "</table>\n",
       "<p>528 rows × 3 columns</p>\n",
       "</div>"
      ],
      "text/plain": [
       "          Date                           Travelers   Counts\n",
       "0   2020-03-01                 2020 Traveler Count  2280522\n",
       "1   2020-03-02                 2020 Traveler Count  2089641\n",
       "2   2020-03-03                 2020 Traveler Count  1736393\n",
       "3   2020-03-04                 2020 Traveler Count  1877401\n",
       "4   2020-03-05                 2020 Traveler Count  2130015\n",
       "..         ...                                 ...      ...\n",
       "523 2020-11-15  2019 Traveler Count (Same Weekday)  2396681\n",
       "524 2020-11-16  2019 Traveler Count (Same Weekday)  2298856\n",
       "525 2020-11-17  2019 Traveler Count (Same Weekday)  1900895\n",
       "526 2020-11-18  2019 Traveler Count (Same Weekday)  2071631\n",
       "527 2020-11-19  2019 Traveler Count (Same Weekday)  2428095\n",
       "\n",
       "[528 rows x 3 columns]"
      ]
     },
     "execution_count": 9,
     "metadata": {},
     "output_type": "execute_result"
    }
   ],
   "source": [
    "#Use the pd.melt() method to pivot the 2019 and 2020 traveler counts so that they can be called from the same column\n",
    "tsa_plots = pd.melt(covid_df, id_vars=['Date'], value_vars=['2020 Traveler Count', '2019 Traveler Count (Same Weekday)'], var_name='Travelers', value_name='Counts')\n",
    "tsa_plots"
   ]
  },
  {
   "cell_type": "code",
   "execution_count": 10,
   "metadata": {},
   "outputs": [
    {
     "data": {
      "text/html": [
       "<div>\n",
       "<style scoped>\n",
       "    .dataframe tbody tr th:only-of-type {\n",
       "        vertical-align: middle;\n",
       "    }\n",
       "\n",
       "    .dataframe tbody tr th {\n",
       "        vertical-align: top;\n",
       "    }\n",
       "\n",
       "    .dataframe thead th {\n",
       "        text-align: right;\n",
       "    }\n",
       "</style>\n",
       "<table border=\"1\" class=\"dataframe\">\n",
       "  <thead>\n",
       "    <tr style=\"text-align: right;\">\n",
       "      <th></th>\n",
       "      <th>Month</th>\n",
       "      <th>COVID Metrics</th>\n",
       "      <th>Counts</th>\n",
       "    </tr>\n",
       "  </thead>\n",
       "  <tbody>\n",
       "    <tr>\n",
       "      <th>0</th>\n",
       "      <td>Mar</td>\n",
       "      <td>Cases</td>\n",
       "      <td>234</td>\n",
       "    </tr>\n",
       "    <tr>\n",
       "      <th>1</th>\n",
       "      <td>Mar</td>\n",
       "      <td>Cases</td>\n",
       "      <td>163</td>\n",
       "    </tr>\n",
       "    <tr>\n",
       "      <th>2</th>\n",
       "      <td>Mar</td>\n",
       "      <td>Cases</td>\n",
       "      <td>261</td>\n",
       "    </tr>\n",
       "    <tr>\n",
       "      <th>3</th>\n",
       "      <td>Mar</td>\n",
       "      <td>Cases</td>\n",
       "      <td>217</td>\n",
       "    </tr>\n",
       "    <tr>\n",
       "      <th>4</th>\n",
       "      <td>Mar</td>\n",
       "      <td>Cases</td>\n",
       "      <td>252</td>\n",
       "    </tr>\n",
       "    <tr>\n",
       "      <th>...</th>\n",
       "      <td>...</td>\n",
       "      <td>...</td>\n",
       "      <td>...</td>\n",
       "    </tr>\n",
       "    <tr>\n",
       "      <th>787</th>\n",
       "      <td>Nov</td>\n",
       "      <td>Hospitalizations</td>\n",
       "      <td>2198</td>\n",
       "    </tr>\n",
       "    <tr>\n",
       "      <th>788</th>\n",
       "      <td>Nov</td>\n",
       "      <td>Hospitalizations</td>\n",
       "      <td>2673</td>\n",
       "    </tr>\n",
       "    <tr>\n",
       "      <th>789</th>\n",
       "      <td>Nov</td>\n",
       "      <td>Hospitalizations</td>\n",
       "      <td>4959</td>\n",
       "    </tr>\n",
       "    <tr>\n",
       "      <th>790</th>\n",
       "      <td>Nov</td>\n",
       "      <td>Hospitalizations</td>\n",
       "      <td>2700</td>\n",
       "    </tr>\n",
       "    <tr>\n",
       "      <th>791</th>\n",
       "      <td>Nov</td>\n",
       "      <td>Hospitalizations</td>\n",
       "      <td>2716</td>\n",
       "    </tr>\n",
       "  </tbody>\n",
       "</table>\n",
       "<p>792 rows × 3 columns</p>\n",
       "</div>"
      ],
      "text/plain": [
       "    Month     COVID Metrics  Counts\n",
       "0     Mar             Cases     234\n",
       "1     Mar             Cases     163\n",
       "2     Mar             Cases     261\n",
       "3     Mar             Cases     217\n",
       "4     Mar             Cases     252\n",
       "..    ...               ...     ...\n",
       "787   Nov  Hospitalizations    2198\n",
       "788   Nov  Hospitalizations    2673\n",
       "789   Nov  Hospitalizations    4959\n",
       "790   Nov  Hospitalizations    2700\n",
       "791   Nov  Hospitalizations    2716\n",
       "\n",
       "[792 rows x 3 columns]"
      ]
     },
     "execution_count": 10,
     "metadata": {},
     "output_type": "execute_result"
    }
   ],
   "source": [
    "#Use the pd.melt() method to pivot the covid counts so that they can be called from the same column\n",
    "covid_plots = pd.melt(covid_df, id_vars=['Month'], value_vars=['Cases', 'Deaths', 'Hospitalizations'], var_name='COVID Metrics', value_name='Counts')\n",
    "covid_plots\n"
   ]
  },
  {
   "cell_type": "markdown",
   "metadata": {},
   "source": [
    "# SECTION 4: Visualizations #"
   ]
  },
  {
   "cell_type": "markdown",
   "metadata": {},
   "source": [
    "## Question 1: What did 2019 and 2020 Airline Travel count look like? ##\n",
    "\n",
    "My prediction is that there will be far less travelers in 2019 than in 2020."
   ]
  },
  {
   "cell_type": "code",
   "execution_count": 11,
   "metadata": {},
   "outputs": [
    {
     "data": {
      "image/png": "[encoded data removed]",
      "text/plain": [
       "<Figure size 432x288 with 1 Axes>"
      ]
     },
     "metadata": {
      "needs_background": "light"
     },
     "output_type": "display_data"
    }
   ],
   "source": [
    "#Display the trend with a lineplot, set line colors using hex codes\n",
    "hue_colors = {\"2020 Traveler Count\": \"#bea1af\", \"2019 Traveler Count (Same Weekday)\": \"#1975d1\"}\n",
    "g = sns.lineplot(x=\"Date\", y=\"Counts\", hue=\"Travelers\", data=tsa_plots, palette=hue_colors)\n",
    "plt.ylabel(\"Number of Travelers (million)\")\n",
    "plt.xlabel(\"Day\")\n",
    "plt.xticks(rotation=20)\n",
    "g.set_title(\"US airline travelers in 2020 and in 2019 during the same weekday\", y=1.05)\n",
    "plt.show()\n",
    "g.figure.savefig('travel.png')\n",
    "\n",
    "#this code can include a 30-degree rotation for the date labels, however this causes the x-axis label \"Day\" to get cut off in the exported image."
   ]
  },
  {
   "cell_type": "markdown",
   "metadata": {},
   "source": [
    "## Question 2: What were the COVID trends in 2020 for those same date ranges? ##"
   ]
  },
  {
   "cell_type": "code",
   "execution_count": 12,
   "metadata": {},
   "outputs": [
    {
     "data": {
      "image/png": "[encoded data removed]",
      "text/plain": [
       "<Figure size 1080x360 with 3 Axes>"
      ]
     },
     "metadata": {
      "needs_background": "light"
     },
     "output_type": "display_data"
    }
   ],
   "source": [
    "#Create a histogram with subplots to visualize this detail\n",
    "g = sns.catplot(x=\"Month\", y=\"Counts\", col=\"COVID Metrics\", data=covid_plots, kind=\"bar\", palette=\"autumn_r\", ci=None, sharey=False)\n",
    "g.fig.suptitle(\"COVID trends by month in 2020 for key metrics\", y=1.10)\n",
    "plt.show()\n",
    "g.savefig('covid.png')\n"
   ]
  },
  {
   "cell_type": "markdown",
   "metadata": {},
   "source": [
    "## Question 3: What was the correlation between COVID and Travel during the stages of COVID in 2020? ##\n",
    "\n",
    "| COVID Stage       | Early First Wave               | Middle First Wave                    | Late First Wave\n",
    "| :-----------------| :---------------------------   | :----------------------------------- | :-------------------------------------\n",
    "| Dates             | March - April, 2020            | May - July, 2020                     | August - October, 2020\n",
    "|                   |                                |                                      | \n",
    "| key circumstances | first cases and US lockdown    | US re-opening was heavily debated,   | safety measures are in place,\n",
    "|                   |                                | safety measures were designed,       | many businesses re-opened,\n",
    "|                   |                                | protesting occurred about racial     | children and college students returned to school\n",
    "|                   |                                | injustice and demands for re-opening | with a mix of remote and in-person learning\n",
    "|\n",
    "\n",
    "\n",
    "\n",
    "\n",
    "| COVID Stage       | Early Second Wave              | Middle Second Wave                   | Late Second Wave\n",
    "| :-----------------| :---------------------------   | :----------------------------------- | :-------------------------------------\n",
    "| Dates             | November - tbd, 2020           | tbd                                  | tbd\n",
    "|                   |                                |                                      | \n",
    "| key circumstances | cold and flu season has begun, |                                      | \n",
    "|                   | cold weather drove people to   |                                      | \n",
    "|                   | contract COVID through intimate|                                      | \n",
    "|                   | indoor gatherings,             |                                      | \n",
    "|                   | Halloween has just passed and  |                                      |\n",
    "|                   | winter holidays are occurring  |                                      |\n",
    "\n"
   ]
  },
  {
   "cell_type": "markdown",
   "metadata": {},
   "source": [
    "#### Categorize the data into 'Waves' in order to visualize this trend ####"
   ]
  },
  {
   "cell_type": "code",
   "execution_count": 17,
   "metadata": {},
   "outputs": [
    {
     "data": {
      "text/html": [
       "<div>\n",
       "<style scoped>\n",
       "    .dataframe tbody tr th:only-of-type {\n",
       "        vertical-align: middle;\n",
       "    }\n",
       "\n",
       "    .dataframe tbody tr th {\n",
       "        vertical-align: top;\n",
       "    }\n",
       "\n",
       "    .dataframe thead th {\n",
       "        text-align: right;\n",
       "    }\n",
       "</style>\n",
       "<table border=\"1\" class=\"dataframe\">\n",
       "  <thead>\n",
       "    <tr style=\"text-align: right;\">\n",
       "      <th></th>\n",
       "      <th>Date</th>\n",
       "      <th>Cases</th>\n",
       "      <th>Deaths</th>\n",
       "      <th>Hospitalizations</th>\n",
       "      <th>2020 Traveler Count</th>\n",
       "      <th>2019 Traveler Count (Same Weekday)</th>\n",
       "      <th>Month_Index</th>\n",
       "      <th>Month</th>\n",
       "      <th>Wave</th>\n",
       "    </tr>\n",
       "  </thead>\n",
       "  <tbody>\n",
       "    <tr>\n",
       "      <th>259</th>\n",
       "      <td>2020-11-15</td>\n",
       "      <td>85177</td>\n",
       "      <td>467</td>\n",
       "      <td>2198</td>\n",
       "      <td>978297</td>\n",
       "      <td>2396681</td>\n",
       "      <td>11</td>\n",
       "      <td>Nov</td>\n",
       "      <td>Early Second Wave</td>\n",
       "    </tr>\n",
       "    <tr>\n",
       "      <th>260</th>\n",
       "      <td>2020-11-16</td>\n",
       "      <td>106744</td>\n",
       "      <td>562</td>\n",
       "      <td>2673</td>\n",
       "      <td>883157</td>\n",
       "      <td>2298856</td>\n",
       "      <td>11</td>\n",
       "      <td>Nov</td>\n",
       "      <td>Early Second Wave</td>\n",
       "    </tr>\n",
       "    <tr>\n",
       "      <th>261</th>\n",
       "      <td>2020-11-17</td>\n",
       "      <td>155142</td>\n",
       "      <td>844</td>\n",
       "      <td>4959</td>\n",
       "      <td>611497</td>\n",
       "      <td>1900895</td>\n",
       "      <td>11</td>\n",
       "      <td>Nov</td>\n",
       "      <td>Early Second Wave</td>\n",
       "    </tr>\n",
       "    <tr>\n",
       "      <th>262</th>\n",
       "      <td>2020-11-18</td>\n",
       "      <td>102010</td>\n",
       "      <td>475</td>\n",
       "      <td>2700</td>\n",
       "      <td>703135</td>\n",
       "      <td>2071631</td>\n",
       "      <td>11</td>\n",
       "      <td>Nov</td>\n",
       "      <td>Early Second Wave</td>\n",
       "    </tr>\n",
       "    <tr>\n",
       "      <th>263</th>\n",
       "      <td>2020-11-19</td>\n",
       "      <td>103308</td>\n",
       "      <td>420</td>\n",
       "      <td>2716</td>\n",
       "      <td>907332</td>\n",
       "      <td>2428095</td>\n",
       "      <td>11</td>\n",
       "      <td>Nov</td>\n",
       "      <td>Early Second Wave</td>\n",
       "    </tr>\n",
       "  </tbody>\n",
       "</table>\n",
       "</div>"
      ],
      "text/plain": [
       "          Date   Cases  Deaths  Hospitalizations  2020 Traveler Count  \\\n",
       "259 2020-11-15   85177     467              2198               978297   \n",
       "260 2020-11-16  106744     562              2673               883157   \n",
       "261 2020-11-17  155142     844              4959               611497   \n",
       "262 2020-11-18  102010     475              2700               703135   \n",
       "263 2020-11-19  103308     420              2716               907332   \n",
       "\n",
       "     2019 Traveler Count (Same Weekday)  Month_Index Month               Wave  \n",
       "259                             2396681           11   Nov  Early Second Wave  \n",
       "260                             2298856           11   Nov  Early Second Wave  \n",
       "261                             1900895           11   Nov  Early Second Wave  \n",
       "262                             2071631           11   Nov  Early Second Wave  \n",
       "263                             2428095           11   Nov  Early Second Wave  "
      ]
     },
     "execution_count": 17,
     "metadata": {},
     "output_type": "execute_result"
    }
   ],
   "source": [
    "#Create bins to label each period and use pd.cut() on the \"Month_Index\" column and append them to the DataFrame\n",
    "period_bins = [1, 5, 8, 10, 12]\n",
    "period_labels = [\"Early First Wave\", \"Middle First Wave\", \"Late First Wave\", \"Early Second Wave\"]\n",
    "                 \n",
    "covid_df[\"Wave\"] = pd.cut(covid_df[\"Month_Index\"], period_bins, labels=period_labels)\n",
    "\n",
    "covid_df.tail()    "
   ]
  },
  {
   "cell_type": "markdown",
   "metadata": {},
   "source": [
    "#### Scale down the 2020 Traveler Count by a factor of 10 ####\n",
    "\n",
    "\n",
    "The numbers of travelers are so much larger than the number of COVID cases that it is difficult to see the increases/decreases in values when they are plotted together."
   ]
  },
  {
   "cell_type": "code",
   "execution_count": 18,
   "metadata": {},
   "outputs": [],
   "source": [
    "#Scale down the 2020 Traveler Count so that the trends can be visualized with COVID trends more easily on the chart\n",
    "\n",
    "covid_df[\"Scaled 2020 Traveler Count\"] = covid_df[\"2020 Traveler Count\"] / 10\n"
   ]
  },
  {
   "cell_type": "code",
   "execution_count": 19,
   "metadata": {},
   "outputs": [
    {
     "data": {
      "text/html": [
       "<div>\n",
       "<style scoped>\n",
       "    .dataframe tbody tr th:only-of-type {\n",
       "        vertical-align: middle;\n",
       "    }\n",
       "\n",
       "    .dataframe tbody tr th {\n",
       "        vertical-align: top;\n",
       "    }\n",
       "\n",
       "    .dataframe thead th {\n",
       "        text-align: right;\n",
       "    }\n",
       "</style>\n",
       "<table border=\"1\" class=\"dataframe\">\n",
       "  <thead>\n",
       "    <tr style=\"text-align: right;\">\n",
       "      <th></th>\n",
       "      <th>Month</th>\n",
       "      <th>Comparison</th>\n",
       "      <th>Counts</th>\n",
       "    </tr>\n",
       "  </thead>\n",
       "  <tbody>\n",
       "    <tr>\n",
       "      <th>0</th>\n",
       "      <td>Mar</td>\n",
       "      <td>Scaled 2020 Traveler Count</td>\n",
       "      <td>228052.2</td>\n",
       "    </tr>\n",
       "    <tr>\n",
       "      <th>1</th>\n",
       "      <td>Mar</td>\n",
       "      <td>Scaled 2020 Traveler Count</td>\n",
       "      <td>208964.1</td>\n",
       "    </tr>\n",
       "    <tr>\n",
       "      <th>2</th>\n",
       "      <td>Mar</td>\n",
       "      <td>Scaled 2020 Traveler Count</td>\n",
       "      <td>173639.3</td>\n",
       "    </tr>\n",
       "    <tr>\n",
       "      <th>3</th>\n",
       "      <td>Mar</td>\n",
       "      <td>Scaled 2020 Traveler Count</td>\n",
       "      <td>187740.1</td>\n",
       "    </tr>\n",
       "    <tr>\n",
       "      <th>4</th>\n",
       "      <td>Mar</td>\n",
       "      <td>Scaled 2020 Traveler Count</td>\n",
       "      <td>213001.5</td>\n",
       "    </tr>\n",
       "  </tbody>\n",
       "</table>\n",
       "</div>"
      ],
      "text/plain": [
       "  Month                  Comparison    Counts\n",
       "0   Mar  Scaled 2020 Traveler Count  228052.2\n",
       "1   Mar  Scaled 2020 Traveler Count  208964.1\n",
       "2   Mar  Scaled 2020 Traveler Count  173639.3\n",
       "3   Mar  Scaled 2020 Traveler Count  187740.1\n",
       "4   Mar  Scaled 2020 Traveler Count  213001.5"
      ]
     },
     "execution_count": 19,
     "metadata": {},
     "output_type": "execute_result"
    }
   ],
   "source": [
    "#Then pivot the dataframe and select only the colunmns needed for the plot\n",
    "line_df = pd.melt(covid_df, id_vars=['Month'], value_vars=['Scaled 2020 Traveler Count', 'Cases'], var_name='Comparison', value_name='Counts')\n",
    "line_df.head()"
   ]
  },
  {
   "cell_type": "markdown",
   "metadata": {},
   "source": [
    "#### Create the visualization ####"
   ]
  },
  {
   "cell_type": "code",
   "execution_count": 21,
   "metadata": {},
   "outputs": [
    {
     "data": {
      "image/png": "[encoded data removed]",
      "text/plain": [
       "<Figure size 432x288 with 1 Axes>"
      ]
     },
     "metadata": {
      "needs_background": "light"
     },
     "output_type": "display_data"
    }
   ],
   "source": [
    "#Display the trend with a lineplot, set line colors using hex codes\n",
    "g = sns.lineplot(x=\"Month\", y=\"Counts\", hue=\"Comparison\", data=line_df)\n",
    "plt.ylabel(\"# of Cases & Number of Travelers / 10\")\n",
    "plt.xlabel(\"Month\")\n",
    "g.set_title(\"COVID Case Numbers Compared with Travel\", y=1.07)\n",
    "g.set(yticklabels=[])\n",
    "plt.show()\n",
    "g.figure.savefig('covid_travel_line.png')\n"
   ]
  },
  {
   "cell_type": "markdown",
   "metadata": {},
   "source": [
    "#### Plot the same data with a bar chart, using 'Waves' instead of Month ####"
   ]
  },
  {
   "cell_type": "code",
   "execution_count": 22,
   "metadata": {},
   "outputs": [
    {
     "data": {
      "text/html": [
       "<div>\n",
       "<style scoped>\n",
       "    .dataframe tbody tr th:only-of-type {\n",
       "        vertical-align: middle;\n",
       "    }\n",
       "\n",
       "    .dataframe tbody tr th {\n",
       "        vertical-align: top;\n",
       "    }\n",
       "\n",
       "    .dataframe thead th {\n",
       "        text-align: right;\n",
       "    }\n",
       "</style>\n",
       "<table border=\"1\" class=\"dataframe\">\n",
       "  <thead>\n",
       "    <tr style=\"text-align: right;\">\n",
       "      <th></th>\n",
       "      <th>Wave</th>\n",
       "      <th>Comparison</th>\n",
       "      <th>Counts</th>\n",
       "    </tr>\n",
       "  </thead>\n",
       "  <tbody>\n",
       "    <tr>\n",
       "      <th>0</th>\n",
       "      <td>Early First Wave</td>\n",
       "      <td>Scaled 2020 Traveler Count</td>\n",
       "      <td>228052.2</td>\n",
       "    </tr>\n",
       "    <tr>\n",
       "      <th>1</th>\n",
       "      <td>Early First Wave</td>\n",
       "      <td>Scaled 2020 Traveler Count</td>\n",
       "      <td>208964.1</td>\n",
       "    </tr>\n",
       "    <tr>\n",
       "      <th>2</th>\n",
       "      <td>Early First Wave</td>\n",
       "      <td>Scaled 2020 Traveler Count</td>\n",
       "      <td>173639.3</td>\n",
       "    </tr>\n",
       "    <tr>\n",
       "      <th>3</th>\n",
       "      <td>Early First Wave</td>\n",
       "      <td>Scaled 2020 Traveler Count</td>\n",
       "      <td>187740.1</td>\n",
       "    </tr>\n",
       "    <tr>\n",
       "      <th>4</th>\n",
       "      <td>Early First Wave</td>\n",
       "      <td>Scaled 2020 Traveler Count</td>\n",
       "      <td>213001.5</td>\n",
       "    </tr>\n",
       "  </tbody>\n",
       "</table>\n",
       "</div>"
      ],
      "text/plain": [
       "               Wave                  Comparison    Counts\n",
       "0  Early First Wave  Scaled 2020 Traveler Count  228052.2\n",
       "1  Early First Wave  Scaled 2020 Traveler Count  208964.1\n",
       "2  Early First Wave  Scaled 2020 Traveler Count  173639.3\n",
       "3  Early First Wave  Scaled 2020 Traveler Count  187740.1\n",
       "4  Early First Wave  Scaled 2020 Traveler Count  213001.5"
      ]
     },
     "execution_count": 22,
     "metadata": {},
     "output_type": "execute_result"
    }
   ],
   "source": [
    "#Pivot the COVID dataframe by wave instead of month and select only the colunmns needed for the plot\n",
    "bar_df = pd.melt(covid_df, id_vars=['Wave'], value_vars=['Scaled 2020 Traveler Count', 'Cases'], var_name='Comparison', value_name='Counts')\n",
    "bar_df.head()"
   ]
  },
  {
   "cell_type": "code",
   "execution_count": 27,
   "metadata": {},
   "outputs": [
    {
     "data": {
      "image/png": "[encoded data removed]",
      "text/plain": [
       "<Figure size 533.25x360 with 1 Axes>"
      ]
     },
     "metadata": {
      "needs_background": "light"
     },
     "output_type": "display_data"
    }
   ],
   "source": [
    "#diplay the same trend, broken into 'Waves' with a bar chart\n",
    "g = sns.catplot(x=\"Wave\", y=\"Counts\", hue=\"Comparison\", data=bar_df, kind=\"bar\", palette=\"autumn_r\", ci=None)\n",
    "g.fig.suptitle(\"COVID Case Numbers Compared with Travel\", y=1.10)\n",
    "g.set_axis_labels(\"COVID Wave\", \"Number of Cases & Number of Travelers / 10\")\n",
    "plt.xticks(rotation=-10)\n",
    "g.set(yticklabels=[])\n",
    "plt.show()\n",
    "g.savefig('covid_travel_bar.png')"
   ]
  },
  {
   "cell_type": "code",
   "execution_count": null,
   "metadata": {},
   "outputs": [],
   "source": []
  }
 ],
 "metadata": {
  "kernelspec": {
   "display_name": "Python 3",
   "language": "python",
   "name": "python3"
  },
  "language_info": {
   "codemirror_mode": {
    "name": "ipython",
    "version": 3
   },
   "file_extension": ".py",
   "mimetype": "text/x-python",
   "name": "python",
   "nbconvert_exporter": "python",
   "pygments_lexer": "ipython3",
   "version": "3.7.8"
  }
 },
 "nbformat": 4,
 "nbformat_minor": 4
}
