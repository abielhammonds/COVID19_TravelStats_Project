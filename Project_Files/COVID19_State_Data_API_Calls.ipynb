{
 "cells": [
  {
   "cell_type": "markdown",
   "metadata": {},
   "source": [
    "# OVERVIEW #\n",
    "\n",
    "This notebook will import state-level United States COVID case data through an API, convert the data into useful datatypes, and then export a Pandas DataFrame to .csv file to your local machine.  \n",
    "\n",
    "*After the first run, do not re-run this notebook unless you want to re-call/update the COVID data*"
   ]
  },
  {
   "cell_type": "code",
   "execution_count": 53,
   "metadata": {},
   "outputs": [],
   "source": [
    "#import Pandas, Numpy, and MatPlotLib\n",
    "import matplotlib.pyplot as plt\n",
    "import pandas as pd\n",
    "import numpy as np"
   ]
  },
  {
   "cell_type": "code",
   "execution_count": 54,
   "metadata": {},
   "outputs": [],
   "source": [
    "#import requests in order to call the COVID data API data \n",
    "#import time in order to pause between API calls and not freeze in the process\n",
    "#import pprint in order to pretty-print the data.\n",
    "import requests\n",
    "import time\n",
    "from pprint import pprint\n"
   ]
  },
  {
   "cell_type": "markdown",
   "metadata": {},
   "source": [
    "# SECTION 1: Execute an API call to the CDC Public Use Data Website #"
   ]
  },
  {
   "cell_type": "code",
   "execution_count": 55,
   "metadata": {},
   "outputs": [],
   "source": [
    "#This is a variable which calls the API link from the COVID data website\n",
    "    #it orders the data by CDC Report Date\n",
    "    #and it has a limit larger than the max number of rows in the CDC data\n",
    "r = requests.get('https://data.cdc.gov/resource/9mfq-cb36.json?$limit=5000000')\n",
    "\n",
    "#This is the API call with a 1 second pause between requests\n",
    "state_covid_json = r.json()\n",
    "time.sleep(1)"
   ]
  },
  {
   "cell_type": "code",
   "execution_count": 56,
   "metadata": {},
   "outputs": [
    {
     "name": "stdout",
     "output_type": "stream",
     "text": [
      "[{'consent_cases': 'Agree',\n",
      "  'consent_deaths': 'Not agree',\n",
      "  'created_at': '2020-03-26T16:22:39.452',\n",
      "  'new_case': '0',\n",
      "  'new_death': '0',\n",
      "  'state': 'WV',\n",
      "  'submission_date': '2020-01-22T00:00:00.000',\n",
      "  'tot_cases': '0',\n",
      "  'tot_death': '0'},\n",
      " {'consent_cases': 'Agree',\n",
      "  'consent_deaths': 'Not agree',\n",
      "  'created_at': '2020-03-26T16:22:39.452',\n",
      "  'new_case': '0.0',\n",
      "  'new_death': '0.0',\n",
      "  'state': 'WV',\n",
      "  'submission_date': '2020-01-23T00:00:00.000',\n",
      "  'tot_cases': '0',\n",
      "  'tot_death': '0'}]\n"
     ]
    }
   ],
   "source": [
    "#pretty-print the first 2 entries to preview the data.\n",
    "pprint(state_covid_json[:2])"
   ]
  },
  {
   "cell_type": "code",
   "execution_count": 57,
   "metadata": {},
   "outputs": [
    {
     "name": "stdout",
     "output_type": "stream",
     "text": [
      "<class 'dict'>\n"
     ]
    }
   ],
   "source": [
    "#Right now, the API data is a list with nested dictionaries\n",
    "\n",
    "print(type(covid_json))"
   ]
  },
  {
   "cell_type": "code",
   "execution_count": 58,
   "metadata": {},
   "outputs": [],
   "source": [
    "#Loop through the list and call each desired datapoint, by its key, into its own list.\n",
    "#Here is a sample\n",
    "\n",
    "state, submission_date, total_cases, new_cases, deaths = [],[],[],[],[]\n",
    "\n",
    "for data in state_covid_json:\n",
    "    state.append(data['state'])\n",
    "    submission_date.append(data['submission_date'])\n",
    "    total_cases.append(data['tot_cases'])\n",
    "    new_cases.append(data['new_case'])\n",
    "    deaths.append(data['tot_death'])\n"
   ]
  },
  {
   "cell_type": "code",
   "execution_count": 59,
   "metadata": {},
   "outputs": [],
   "source": [
    "#Now that each datapoint is separated, add them back into a dictionary \n",
    "#This will make sure that each datapoint column is labelled\n",
    "state_covid_values = {'state': state, 'submission_date': submission_date, 'tot_cases': total_cases, 'new_case': new_cases, 'tot_death': deaths}\n",
    "\n",
    "#Convert the dictionary into a DataFrame\n",
    "state_covid_df = pd.DataFrame(state_covid_values)\n"
   ]
  },
  {
   "cell_type": "code",
   "execution_count": 60,
   "metadata": {},
   "outputs": [
    {
     "name": "stdout",
     "output_type": "stream",
     "text": [
      "<class 'pandas.core.frame.DataFrame'>\n",
      "RangeIndex: 19362 entries, 0 to 19361\n",
      "Data columns (total 5 columns):\n",
      " #   Column           Non-Null Count  Dtype \n",
      "---  ------           --------------  ----- \n",
      " 0   state            19362 non-null  object\n",
      " 1   submission_date  19362 non-null  object\n",
      " 2   tot_cases        19362 non-null  object\n",
      " 3   new_case         19362 non-null  object\n",
      " 4   tot_death        19362 non-null  object\n",
      "dtypes: object(5)\n",
      "memory usage: 756.5+ KB\n"
     ]
    }
   ],
   "source": [
    "#Check the COVID DataFrame with a summary\n",
    "\n",
    "state_covid_df.info()"
   ]
  },
  {
   "cell_type": "markdown",
   "metadata": {},
   "source": [
    "# SECTION 2: Data Conversion #"
   ]
  },
  {
   "cell_type": "code",
   "execution_count": 61,
   "metadata": {},
   "outputs": [
    {
     "data": {
      "text/html": [
       "<div>\n",
       "<style scoped>\n",
       "    .dataframe tbody tr th:only-of-type {\n",
       "        vertical-align: middle;\n",
       "    }\n",
       "\n",
       "    .dataframe tbody tr th {\n",
       "        vertical-align: top;\n",
       "    }\n",
       "\n",
       "    .dataframe thead th {\n",
       "        text-align: right;\n",
       "    }\n",
       "</style>\n",
       "<table border=\"1\" class=\"dataframe\">\n",
       "  <thead>\n",
       "    <tr style=\"text-align: right;\">\n",
       "      <th></th>\n",
       "      <th>state</th>\n",
       "      <th>submission_date</th>\n",
       "      <th>tot_cases</th>\n",
       "      <th>new_case</th>\n",
       "      <th>tot_death</th>\n",
       "    </tr>\n",
       "  </thead>\n",
       "  <tbody>\n",
       "    <tr>\n",
       "      <th>0</th>\n",
       "      <td>WV</td>\n",
       "      <td>2020-01-22T00:00:00.000</td>\n",
       "      <td>0</td>\n",
       "      <td>0</td>\n",
       "      <td>0</td>\n",
       "    </tr>\n",
       "    <tr>\n",
       "      <th>1</th>\n",
       "      <td>WV</td>\n",
       "      <td>2020-01-23T00:00:00.000</td>\n",
       "      <td>0</td>\n",
       "      <td>0.0</td>\n",
       "      <td>0</td>\n",
       "    </tr>\n",
       "    <tr>\n",
       "      <th>2</th>\n",
       "      <td>WV</td>\n",
       "      <td>2020-01-24T00:00:00.000</td>\n",
       "      <td>0</td>\n",
       "      <td>0.0</td>\n",
       "      <td>0</td>\n",
       "    </tr>\n",
       "    <tr>\n",
       "      <th>3</th>\n",
       "      <td>WV</td>\n",
       "      <td>2020-01-25T00:00:00.000</td>\n",
       "      <td>0</td>\n",
       "      <td>0.0</td>\n",
       "      <td>0</td>\n",
       "    </tr>\n",
       "    <tr>\n",
       "      <th>4</th>\n",
       "      <td>WV</td>\n",
       "      <td>2020-01-26T00:00:00.000</td>\n",
       "      <td>0</td>\n",
       "      <td>0.0</td>\n",
       "      <td>0</td>\n",
       "    </tr>\n",
       "  </tbody>\n",
       "</table>\n",
       "</div>"
      ],
      "text/plain": [
       "  state          submission_date tot_cases new_case tot_death\n",
       "0    WV  2020-01-22T00:00:00.000         0        0         0\n",
       "1    WV  2020-01-23T00:00:00.000         0      0.0         0\n",
       "2    WV  2020-01-24T00:00:00.000         0      0.0         0\n",
       "3    WV  2020-01-25T00:00:00.000         0      0.0         0\n",
       "4    WV  2020-01-26T00:00:00.000         0      0.0         0"
      ]
     },
     "execution_count": 61,
     "metadata": {},
     "output_type": "execute_result"
    }
   ],
   "source": [
    "#Preview the COVID DataFrame created in Section 1\n",
    "state_covid_df.head()"
   ]
  },
  {
   "cell_type": "markdown",
   "metadata": {},
   "source": [
    "#### Convert the COVID dates into standard date format ####"
   ]
  },
  {
   "cell_type": "code",
   "execution_count": 62,
   "metadata": {},
   "outputs": [
    {
     "data": {
      "text/html": [
       "<div>\n",
       "<style scoped>\n",
       "    .dataframe tbody tr th:only-of-type {\n",
       "        vertical-align: middle;\n",
       "    }\n",
       "\n",
       "    .dataframe tbody tr th {\n",
       "        vertical-align: top;\n",
       "    }\n",
       "\n",
       "    .dataframe thead th {\n",
       "        text-align: right;\n",
       "    }\n",
       "</style>\n",
       "<table border=\"1\" class=\"dataframe\">\n",
       "  <thead>\n",
       "    <tr style=\"text-align: right;\">\n",
       "      <th></th>\n",
       "      <th>state</th>\n",
       "      <th>submission_date</th>\n",
       "      <th>tot_cases</th>\n",
       "      <th>new_case</th>\n",
       "      <th>tot_death</th>\n",
       "    </tr>\n",
       "  </thead>\n",
       "  <tbody>\n",
       "    <tr>\n",
       "      <th>0</th>\n",
       "      <td>WV</td>\n",
       "      <td>2020-01-22</td>\n",
       "      <td>0</td>\n",
       "      <td>0</td>\n",
       "      <td>0</td>\n",
       "    </tr>\n",
       "    <tr>\n",
       "      <th>1</th>\n",
       "      <td>WV</td>\n",
       "      <td>2020-01-23</td>\n",
       "      <td>0</td>\n",
       "      <td>0.0</td>\n",
       "      <td>0</td>\n",
       "    </tr>\n",
       "    <tr>\n",
       "      <th>2</th>\n",
       "      <td>WV</td>\n",
       "      <td>2020-01-24</td>\n",
       "      <td>0</td>\n",
       "      <td>0.0</td>\n",
       "      <td>0</td>\n",
       "    </tr>\n",
       "    <tr>\n",
       "      <th>3</th>\n",
       "      <td>WV</td>\n",
       "      <td>2020-01-25</td>\n",
       "      <td>0</td>\n",
       "      <td>0.0</td>\n",
       "      <td>0</td>\n",
       "    </tr>\n",
       "    <tr>\n",
       "      <th>4</th>\n",
       "      <td>WV</td>\n",
       "      <td>2020-01-26</td>\n",
       "      <td>0</td>\n",
       "      <td>0.0</td>\n",
       "      <td>0</td>\n",
       "    </tr>\n",
       "    <tr>\n",
       "      <th>...</th>\n",
       "      <td>...</td>\n",
       "      <td>...</td>\n",
       "      <td>...</td>\n",
       "      <td>...</td>\n",
       "      <td>...</td>\n",
       "    </tr>\n",
       "    <tr>\n",
       "      <th>19357</th>\n",
       "      <td>OR</td>\n",
       "      <td>2020-12-05</td>\n",
       "      <td>83243</td>\n",
       "      <td>1806.0</td>\n",
       "      <td>1027</td>\n",
       "    </tr>\n",
       "    <tr>\n",
       "      <th>19358</th>\n",
       "      <td>OR</td>\n",
       "      <td>2020-12-06</td>\n",
       "      <td>84496</td>\n",
       "      <td>1253.0</td>\n",
       "      <td>1033</td>\n",
       "    </tr>\n",
       "    <tr>\n",
       "      <th>19359</th>\n",
       "      <td>OR</td>\n",
       "      <td>2020-12-07</td>\n",
       "      <td>85788</td>\n",
       "      <td>1292.0</td>\n",
       "      <td>1045</td>\n",
       "    </tr>\n",
       "    <tr>\n",
       "      <th>19360</th>\n",
       "      <td>OR</td>\n",
       "      <td>2020-12-08</td>\n",
       "      <td>87082</td>\n",
       "      <td>1294.0</td>\n",
       "      <td>1080</td>\n",
       "    </tr>\n",
       "    <tr>\n",
       "      <th>19361</th>\n",
       "      <td>OR</td>\n",
       "      <td>2020-12-09</td>\n",
       "      <td>88287</td>\n",
       "      <td>1205.0</td>\n",
       "      <td>1110</td>\n",
       "    </tr>\n",
       "  </tbody>\n",
       "</table>\n",
       "<p>19362 rows × 5 columns</p>\n",
       "</div>"
      ],
      "text/plain": [
       "      state submission_date tot_cases new_case tot_death\n",
       "0        WV      2020-01-22         0        0         0\n",
       "1        WV      2020-01-23         0      0.0         0\n",
       "2        WV      2020-01-24         0      0.0         0\n",
       "3        WV      2020-01-25         0      0.0         0\n",
       "4        WV      2020-01-26         0      0.0         0\n",
       "...     ...             ...       ...      ...       ...\n",
       "19357    OR      2020-12-05     83243   1806.0      1027\n",
       "19358    OR      2020-12-06     84496   1253.0      1033\n",
       "19359    OR      2020-12-07     85788   1292.0      1045\n",
       "19360    OR      2020-12-08     87082   1294.0      1080\n",
       "19361    OR      2020-12-09     88287   1205.0      1110\n",
       "\n",
       "[19362 rows x 5 columns]"
      ]
     },
     "execution_count": 62,
     "metadata": {},
     "output_type": "execute_result"
    }
   ],
   "source": [
    "#Import the datetime module and use it to convert the date column\n",
    "import datetime\n",
    "\n",
    "state_covid_df['submission_date'] = pd.to_datetime(state_covid_df['submission_date']) \n",
    "state_covid_df"
   ]
  },
  {
   "cell_type": "code",
   "execution_count": 63,
   "metadata": {},
   "outputs": [
    {
     "name": "stdout",
     "output_type": "stream",
     "text": [
      "<class 'pandas.core.frame.DataFrame'>\n",
      "RangeIndex: 19362 entries, 0 to 19361\n",
      "Data columns (total 5 columns):\n",
      " #   Column           Non-Null Count  Dtype         \n",
      "---  ------           --------------  -----         \n",
      " 0   state            19362 non-null  object        \n",
      " 1   submission_date  19362 non-null  datetime64[ns]\n",
      " 2   tot_cases        19362 non-null  object        \n",
      " 3   new_case         19362 non-null  object        \n",
      " 4   tot_death        19362 non-null  object        \n",
      "dtypes: datetime64[ns](1), object(4)\n",
      "memory usage: 756.5+ KB\n"
     ]
    }
   ],
   "source": [
    "#Check the submission date datatype - it has changed from object to datetime64\n",
    "state_covid_df.info()"
   ]
  },
  {
   "cell_type": "markdown",
   "metadata": {},
   "source": [
    "#### Convert the case counts from objects to numbers ####"
   ]
  },
  {
   "cell_type": "code",
   "execution_count": 64,
   "metadata": {},
   "outputs": [
    {
     "name": "stdout",
     "output_type": "stream",
     "text": [
      "<class 'pandas.core.frame.DataFrame'>\n",
      "RangeIndex: 19362 entries, 0 to 19361\n",
      "Data columns (total 5 columns):\n",
      " #   Column           Non-Null Count  Dtype         \n",
      "---  ------           --------------  -----         \n",
      " 0   state            19362 non-null  object        \n",
      " 1   submission_date  19362 non-null  datetime64[ns]\n",
      " 2   tot_cases        19362 non-null  int64         \n",
      " 3   new_case         19362 non-null  float64       \n",
      " 4   tot_death        19362 non-null  int64         \n",
      "dtypes: datetime64[ns](1), float64(1), int64(2), object(1)\n",
      "memory usage: 756.5+ KB\n"
     ]
    }
   ],
   "source": [
    "state_covid_df['tot_cases'] = pd.to_numeric(state_covid_df['tot_cases'])\n",
    "state_covid_df['new_case'] = pd.to_numeric(state_covid_df['new_case'])\n",
    "state_covid_df['tot_death'] = pd.to_numeric(state_covid_df['tot_death'])\n",
    "state_covid_df.info()"
   ]
  },
  {
   "cell_type": "code",
   "execution_count": 65,
   "metadata": {},
   "outputs": [
    {
     "data": {
      "text/html": [
       "<div>\n",
       "<style scoped>\n",
       "    .dataframe tbody tr th:only-of-type {\n",
       "        vertical-align: middle;\n",
       "    }\n",
       "\n",
       "    .dataframe tbody tr th {\n",
       "        vertical-align: top;\n",
       "    }\n",
       "\n",
       "    .dataframe thead th {\n",
       "        text-align: right;\n",
       "    }\n",
       "</style>\n",
       "<table border=\"1\" class=\"dataframe\">\n",
       "  <thead>\n",
       "    <tr style=\"text-align: right;\">\n",
       "      <th></th>\n",
       "      <th>state</th>\n",
       "      <th>submission_date</th>\n",
       "      <th>tot_cases</th>\n",
       "      <th>new_case</th>\n",
       "      <th>tot_death</th>\n",
       "    </tr>\n",
       "  </thead>\n",
       "  <tbody>\n",
       "    <tr>\n",
       "      <th>19357</th>\n",
       "      <td>OR</td>\n",
       "      <td>2020-12-05</td>\n",
       "      <td>83243</td>\n",
       "      <td>1806.0</td>\n",
       "      <td>1027</td>\n",
       "    </tr>\n",
       "    <tr>\n",
       "      <th>19358</th>\n",
       "      <td>OR</td>\n",
       "      <td>2020-12-06</td>\n",
       "      <td>84496</td>\n",
       "      <td>1253.0</td>\n",
       "      <td>1033</td>\n",
       "    </tr>\n",
       "    <tr>\n",
       "      <th>19359</th>\n",
       "      <td>OR</td>\n",
       "      <td>2020-12-07</td>\n",
       "      <td>85788</td>\n",
       "      <td>1292.0</td>\n",
       "      <td>1045</td>\n",
       "    </tr>\n",
       "    <tr>\n",
       "      <th>19360</th>\n",
       "      <td>OR</td>\n",
       "      <td>2020-12-08</td>\n",
       "      <td>87082</td>\n",
       "      <td>1294.0</td>\n",
       "      <td>1080</td>\n",
       "    </tr>\n",
       "    <tr>\n",
       "      <th>19361</th>\n",
       "      <td>OR</td>\n",
       "      <td>2020-12-09</td>\n",
       "      <td>88287</td>\n",
       "      <td>1205.0</td>\n",
       "      <td>1110</td>\n",
       "    </tr>\n",
       "  </tbody>\n",
       "</table>\n",
       "</div>"
      ],
      "text/plain": [
       "      state submission_date  tot_cases  new_case  tot_death\n",
       "19357    OR      2020-12-05      83243    1806.0       1027\n",
       "19358    OR      2020-12-06      84496    1253.0       1033\n",
       "19359    OR      2020-12-07      85788    1292.0       1045\n",
       "19360    OR      2020-12-08      87082    1294.0       1080\n",
       "19361    OR      2020-12-09      88287    1205.0       1110"
      ]
     },
     "execution_count": 65,
     "metadata": {},
     "output_type": "execute_result"
    }
   ],
   "source": [
    "state_covid_df.tail()"
   ]
  },
  {
   "cell_type": "markdown",
   "metadata": {},
   "source": [
    "# SECTION 3: Export as .csv # \n"
   ]
  },
  {
   "cell_type": "code",
   "execution_count": 66,
   "metadata": {},
   "outputs": [],
   "source": [
    "state_covid_df.to_csv('state_covid_data.csv') "
   ]
  },
  {
   "cell_type": "code",
   "execution_count": null,
   "metadata": {},
   "outputs": [],
   "source": []
  }
 ],
 "metadata": {
  "kernelspec": {
   "display_name": "Python 3",
   "language": "python",
   "name": "python3"
  },
  "language_info": {
   "codemirror_mode": {
    "name": "ipython",
    "version": 3
   },
   "file_extension": ".py",
   "mimetype": "text/x-python",
   "name": "python",
   "nbconvert_exporter": "python",
   "pygments_lexer": "ipython3",
   "version": "3.7.8"
  }
 },
 "nbformat": 4,
 "nbformat_minor": 4
}
