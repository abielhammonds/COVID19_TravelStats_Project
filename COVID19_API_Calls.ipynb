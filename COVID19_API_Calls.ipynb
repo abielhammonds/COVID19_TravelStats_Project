{
 "cells": [
  {
   "cell_type": "code",
   "execution_count": 1,
   "metadata": {},
   "outputs": [],
   "source": [
    "#import Pandas, Numpy, and MatPlotLib\n",
    "import matplotlib.pyplot as plt\n",
    "import pandas as pd\n",
    "import numpy as np\n"
   ]
  },
  {
   "cell_type": "code",
   "execution_count": 2,
   "metadata": {},
   "outputs": [],
   "source": [
    "#import requests in order to call the COVID data API data \n",
    "#import time in order to pause between API calls and not freeze in the process\n",
    "#import pprint in order to pretty-print the data.\n",
    "import requests\n",
    "import time\n",
    "from pprint import pprint\n"
   ]
  },
  {
   "cell_type": "code",
   "execution_count": 3,
   "metadata": {},
   "outputs": [],
   "source": [
    "#The COVID19 Data has more than 4,481,062 rows\n",
    "#To collect the data efficiently, without losing system performance\n",
    "    #I will call the data in batches (paging) using a limit and offset\n",
    "    #This will require multiple API calls"
   ]
  },
  {
   "cell_type": "code",
   "execution_count": 56,
   "metadata": {},
   "outputs": [
    {
     "ename": "TypeError",
     "evalue": "'list' object is not callable",
     "output_type": "error",
     "traceback": [
      "\u001b[1;31m---------------------------------------------------------------------------\u001b[0m",
      "\u001b[1;31mTypeError\u001b[0m                                 Traceback (most recent call last)",
      "\u001b[1;32m<ipython-input-56-411919d22cf6>\u001b[0m in \u001b[0;36m<module>\u001b[1;34m\u001b[0m\n\u001b[0;32m     15\u001b[0m \u001b[1;31m#iterate through several API calls with a one second pause in between\u001b[0m\u001b[1;33m\u001b[0m\u001b[1;33m\u001b[0m\u001b[1;33m\u001b[0m\u001b[0m\n\u001b[0;32m     16\u001b[0m \u001b[1;32mfor\u001b[0m \u001b[0mindex\u001b[0m \u001b[1;32min\u001b[0m \u001b[0murl_list\u001b[0m\u001b[1;33m:\u001b[0m\u001b[1;33m\u001b[0m\u001b[1;33m\u001b[0m\u001b[0m\n\u001b[1;32m---> 17\u001b[1;33m     \u001b[0mr\u001b[0m \u001b[1;33m=\u001b[0m \u001b[0mrequests\u001b[0m\u001b[1;33m.\u001b[0m\u001b[0mget\u001b[0m\u001b[1;33m(\u001b[0m\u001b[0murl_list\u001b[0m\u001b[1;33m(\u001b[0m\u001b[0mindex\u001b[0m\u001b[1;33m)\u001b[0m\u001b[1;33m)\u001b[0m\u001b[1;33m.\u001b[0m\u001b[0mjson\u001b[0m\u001b[1;33m(\u001b[0m\u001b[1;33m)\u001b[0m\u001b[1;33m\u001b[0m\u001b[1;33m\u001b[0m\u001b[0m\n\u001b[0m\u001b[0;32m     18\u001b[0m     \u001b[0mtime\u001b[0m\u001b[1;33m.\u001b[0m\u001b[0msleep\u001b[0m\u001b[1;33m(\u001b[0m\u001b[1;36m1\u001b[0m\u001b[1;33m)\u001b[0m\u001b[1;33m\u001b[0m\u001b[1;33m\u001b[0m\u001b[0m\n\u001b[0;32m     19\u001b[0m \u001b[1;33m\u001b[0m\u001b[0m\n",
      "\u001b[1;31mTypeError\u001b[0m: 'list' object is not callable"
     ]
    }
   ],
   "source": [
    "#This is the API link from the COVID data website\n",
    "    #it orders the data by CDC Report Date\n",
    "    #and it limits the number of rows\n",
    "    \n",
    "base_url1 = 'https://data.cdc.gov/resource/vbim-akqf.json?$order=cdc_report_dt&$limit=10&$offset=0'\n",
    "base_url2 = 'https://data.cdc.gov/resource/vbim-akqf.json?$order=cdc_report_dt&$limit=10&$offset=10'\n",
    "base_url3 = 'https://data.cdc.gov/resource/vbim-akqf.json?$order=cdc_report_dt&$limit=10&$offset=20'\n",
    "\n",
    "#This is a list that stores the API URLs\n",
    "url_list = [base_url1, base_url2, base_url3]\n",
    "\n",
    "#iterate through several API calls with a one second pause in between \n",
    "for index in url_list:\n",
    "    r = requests.get(url_list(index)).json() \n",
    "    time.sleep(1)\n",
    "\n",
    "#store the information in the covid_json list\n",
    "covid_json.append(r)"
   ]
  },
  {
   "cell_type": "code",
   "execution_count": 54,
   "metadata": {},
   "outputs": [
    {
     "name": "stdout",
     "output_type": "stream",
     "text": [
      "[{'age_group': '50 - 59 Years',\n",
      "  'cdc_report_dt': '2020-01-10T00:00:00.000',\n",
      "  'current_status': 'Probable Case',\n",
      "  'death_yn': 'No',\n",
      "  'hosp_yn': 'No',\n",
      "  'icu_yn': 'Missing',\n",
      "  'medcond_yn': 'No',\n",
      "  'onset_dt': '2020-01-10T00:00:00.000',\n",
      "  'race_ethnicity_combined': 'White, Non-Hispanic',\n",
      "  'sex': 'Female'},\n",
      " {'age_group': '20 - 29 Years',\n",
      "  'cdc_report_dt': '2020-01-10T00:00:00.000',\n",
      "  'current_status': 'Laboratory-confirmed case',\n",
      "  'death_yn': 'No',\n",
      "  'hosp_yn': 'Unknown',\n",
      "  'icu_yn': 'Missing',\n",
      "  'medcond_yn': 'Missing',\n",
      "  'onset_dt': '2020-01-10T00:00:00.000',\n",
      "  'race_ethnicity_combined': 'Unknown',\n",
      "  'sex': 'Male'},\n",
      " {'age_group': '60 - 69 Years',\n",
      "  'cdc_report_dt': '2020-01-11T00:00:00.000',\n",
      "  'current_status': 'Laboratory-confirmed case',\n",
      "  'death_yn': 'No',\n",
      "  'hosp_yn': 'Yes',\n",
      "  'icu_yn': 'Yes',\n",
      "  'medcond_yn': 'Missing',\n",
      "  'onset_dt': '2020-01-11T00:00:00.000',\n",
      "  'race_ethnicity_combined': 'Unknown',\n",
      "  'sex': 'Male'},\n",
      " {'age_group': '40 - 49 Years',\n",
      "  'cdc_report_dt': '2020-01-11T00:00:00.000',\n",
      "  'current_status': 'Probable Case',\n",
      "  'death_yn': 'No',\n",
      "  'hosp_yn': 'No',\n",
      "  'icu_yn': 'Missing',\n",
      "  'medcond_yn': 'Unknown',\n",
      "  'onset_dt': '2020-01-11T00:00:00.000',\n",
      "  'race_ethnicity_combined': 'Unknown',\n",
      "  'sex': 'Male'},\n",
      " {'age_group': '40 - 49 Years',\n",
      "  'cdc_report_dt': '2020-01-12T00:00:00.000',\n",
      "  'current_status': 'Laboratory-confirmed case',\n",
      "  'death_yn': 'Missing',\n",
      "  'hosp_yn': 'Yes',\n",
      "  'icu_yn': 'Missing',\n",
      "  'medcond_yn': 'Yes',\n",
      "  'onset_dt': '2020-01-12T00:00:00.000',\n",
      "  'pos_spec_dt': '2020-05-21T00:00:00.000',\n",
      "  'race_ethnicity_combined': 'White, Non-Hispanic',\n",
      "  'sex': 'Female'},\n",
      " {'age_group': '40 - 49 Years',\n",
      "  'cdc_report_dt': '2020-01-13T00:00:00.000',\n",
      "  'current_status': 'Probable Case',\n",
      "  'death_yn': 'Unknown',\n",
      "  'hosp_yn': 'No',\n",
      "  'icu_yn': 'Missing',\n",
      "  'medcond_yn': 'Yes',\n",
      "  'onset_dt': '2020-01-13T00:00:00.000',\n",
      "  'race_ethnicity_combined': 'White, Non-Hispanic',\n",
      "  'sex': 'Female'},\n",
      " {'age_group': '50 - 59 Years',\n",
      "  'cdc_report_dt': '2020-01-13T00:00:00.000',\n",
      "  'current_status': 'Laboratory-confirmed case',\n",
      "  'death_yn': 'No',\n",
      "  'hosp_yn': 'Yes',\n",
      "  'icu_yn': 'Yes',\n",
      "  'medcond_yn': 'Yes',\n",
      "  'onset_dt': '2020-01-13T00:00:00.000',\n",
      "  'pos_spec_dt': '2020-04-05T00:00:00.000',\n",
      "  'race_ethnicity_combined': 'White, Non-Hispanic',\n",
      "  'sex': 'Male'},\n",
      " {'age_group': '60 - 69 Years',\n",
      "  'cdc_report_dt': '2020-01-14T00:00:00.000',\n",
      "  'current_status': 'Probable Case',\n",
      "  'death_yn': 'No',\n",
      "  'hosp_yn': 'No',\n",
      "  'icu_yn': 'Missing',\n",
      "  'medcond_yn': 'Unknown',\n",
      "  'onset_dt': '2020-01-14T00:00:00.000',\n",
      "  'race_ethnicity_combined': 'Multiple/Other, Non-Hispanic',\n",
      "  'sex': 'Female'},\n",
      " {'age_group': '70 - 79 Years',\n",
      "  'cdc_report_dt': '2020-01-14T00:00:00.000',\n",
      "  'current_status': 'Laboratory-confirmed case',\n",
      "  'death_yn': 'No',\n",
      "  'hosp_yn': 'Unknown',\n",
      "  'icu_yn': 'Missing',\n",
      "  'medcond_yn': 'Missing',\n",
      "  'onset_dt': '2020-01-14T00:00:00.000',\n",
      "  'race_ethnicity_combined': 'White, Non-Hispanic',\n",
      "  'sex': 'Male'},\n",
      " {'age_group': '50 - 59 Years',\n",
      "  'cdc_report_dt': '2020-01-14T00:00:00.000',\n",
      "  'current_status': 'Laboratory-confirmed case',\n",
      "  'death_yn': 'No',\n",
      "  'hosp_yn': 'Yes',\n",
      "  'icu_yn': 'No',\n",
      "  'medcond_yn': 'Missing',\n",
      "  'onset_dt': '2020-01-14T00:00:00.000',\n",
      "  'race_ethnicity_combined': 'Asian, Non-Hispanic',\n",
      "  'sex': 'Male'}]\n"
     ]
    }
   ],
   "source": [
    "#pretty-print the first 2 entries to preview the data.\n",
    "pprint(covid_json)"
   ]
  },
  {
   "cell_type": "code",
   "execution_count": null,
   "metadata": {},
   "outputs": [],
   "source": [
    "#I want to compare the following COVID19 data points:\n",
    "    #case report date = 'cdc_rpt_dt' - number of confirmed cases\n",
    "    #death status = 'death_yn' - number of deaths\n",
    "    #hospitalization status = 'hosp_yn' - number of people hospitalized\n",
    "\n",
    "#Technically, I would pull positive report date, but this is missing from some cases \n",
    "#to be sure the dataset is complete and not missing rows (visually compare with preview on website)\n",
    "\n",
    "#these are the key stats reported re: COVID19 counts in the news\n",
    "\n",
    "#So these are the data columns I want to create a Pandas DataFrame with."
   ]
  },
  {
   "cell_type": "code",
   "execution_count": 12,
   "metadata": {},
   "outputs": [
    {
     "name": "stdout",
     "output_type": "stream",
     "text": [
      "<class 'list'>\n"
     ]
    }
   ],
   "source": [
    "#Right now, the API data is a list with nested dictionaries\n",
    "\n",
    "print(type(covid_json))"
   ]
  },
  {
   "cell_type": "code",
   "execution_count": 14,
   "metadata": {},
   "outputs": [],
   "source": [
    "#Loop through the list and call each desired datapoint, by its key, into its own list.\n",
    "#Here is a sample\n",
    "\n",
    "case_date, death, hospital = [],[],[]\n",
    "\n",
    "for data in covid_json:\n",
    "    case_date.append(data['cdc_report_dt'])\n",
    "    death.append(data['death_yn'])\n",
    "    hospital.append(data['hosp_yn'])\n"
   ]
  },
  {
   "cell_type": "code",
   "execution_count": 53,
   "metadata": {},
   "outputs": [
    {
     "ename": "ValueError",
     "evalue": "arrays must all be same length",
     "output_type": "error",
     "traceback": [
      "\u001b[1;31m---------------------------------------------------------------------------\u001b[0m",
      "\u001b[1;31mValueError\u001b[0m                                Traceback (most recent call last)",
      "\u001b[1;32m<ipython-input-53-93eaae6ef791>\u001b[0m in \u001b[0;36m<module>\u001b[1;34m\u001b[0m\n\u001b[0;32m      4\u001b[0m \u001b[1;33m\u001b[0m\u001b[0m\n\u001b[0;32m      5\u001b[0m \u001b[1;31m#Convert the dictionary into a DataFrame\u001b[0m\u001b[1;33m\u001b[0m\u001b[1;33m\u001b[0m\u001b[1;33m\u001b[0m\u001b[0m\n\u001b[1;32m----> 6\u001b[1;33m \u001b[0mcovid_df\u001b[0m \u001b[1;33m=\u001b[0m \u001b[0mpd\u001b[0m\u001b[1;33m.\u001b[0m\u001b[0mDataFrame\u001b[0m\u001b[1;33m(\u001b[0m\u001b[0mcovid_values\u001b[0m\u001b[1;33m)\u001b[0m\u001b[1;33m\u001b[0m\u001b[1;33m\u001b[0m\u001b[0m\n\u001b[0m\u001b[0;32m      7\u001b[0m \u001b[1;33m\u001b[0m\u001b[0m\n\u001b[0;32m      8\u001b[0m \u001b[1;31m#Export the DataFrame into a CSV file\u001b[0m\u001b[1;33m\u001b[0m\u001b[1;33m\u001b[0m\u001b[1;33m\u001b[0m\u001b[0m\n",
      "\u001b[1;32mc:\\users\\abiel\\appdata\\local\\programs\\python\\python37\\lib\\site-packages\\pandas\\core\\frame.py\u001b[0m in \u001b[0;36m__init__\u001b[1;34m(self, data, index, columns, dtype, copy)\u001b[0m\n\u001b[0;32m    466\u001b[0m \u001b[1;33m\u001b[0m\u001b[0m\n\u001b[0;32m    467\u001b[0m         \u001b[1;32melif\u001b[0m \u001b[0misinstance\u001b[0m\u001b[1;33m(\u001b[0m\u001b[0mdata\u001b[0m\u001b[1;33m,\u001b[0m \u001b[0mdict\u001b[0m\u001b[1;33m)\u001b[0m\u001b[1;33m:\u001b[0m\u001b[1;33m\u001b[0m\u001b[1;33m\u001b[0m\u001b[0m\n\u001b[1;32m--> 468\u001b[1;33m             \u001b[0mmgr\u001b[0m \u001b[1;33m=\u001b[0m \u001b[0minit_dict\u001b[0m\u001b[1;33m(\u001b[0m\u001b[0mdata\u001b[0m\u001b[1;33m,\u001b[0m \u001b[0mindex\u001b[0m\u001b[1;33m,\u001b[0m \u001b[0mcolumns\u001b[0m\u001b[1;33m,\u001b[0m \u001b[0mdtype\u001b[0m\u001b[1;33m=\u001b[0m\u001b[0mdtype\u001b[0m\u001b[1;33m)\u001b[0m\u001b[1;33m\u001b[0m\u001b[1;33m\u001b[0m\u001b[0m\n\u001b[0m\u001b[0;32m    469\u001b[0m         \u001b[1;32melif\u001b[0m \u001b[0misinstance\u001b[0m\u001b[1;33m(\u001b[0m\u001b[0mdata\u001b[0m\u001b[1;33m,\u001b[0m \u001b[0mma\u001b[0m\u001b[1;33m.\u001b[0m\u001b[0mMaskedArray\u001b[0m\u001b[1;33m)\u001b[0m\u001b[1;33m:\u001b[0m\u001b[1;33m\u001b[0m\u001b[1;33m\u001b[0m\u001b[0m\n\u001b[0;32m    470\u001b[0m             \u001b[1;32mimport\u001b[0m \u001b[0mnumpy\u001b[0m\u001b[1;33m.\u001b[0m\u001b[0mma\u001b[0m\u001b[1;33m.\u001b[0m\u001b[0mmrecords\u001b[0m \u001b[1;32mas\u001b[0m \u001b[0mmrecords\u001b[0m\u001b[1;33m\u001b[0m\u001b[1;33m\u001b[0m\u001b[0m\n",
      "\u001b[1;32mc:\\users\\abiel\\appdata\\local\\programs\\python\\python37\\lib\\site-packages\\pandas\\core\\internals\\construction.py\u001b[0m in \u001b[0;36minit_dict\u001b[1;34m(data, index, columns, dtype)\u001b[0m\n\u001b[0;32m    281\u001b[0m             \u001b[0marr\u001b[0m \u001b[1;32mif\u001b[0m \u001b[1;32mnot\u001b[0m \u001b[0mis_datetime64tz_dtype\u001b[0m\u001b[1;33m(\u001b[0m\u001b[0marr\u001b[0m\u001b[1;33m)\u001b[0m \u001b[1;32melse\u001b[0m \u001b[0marr\u001b[0m\u001b[1;33m.\u001b[0m\u001b[0mcopy\u001b[0m\u001b[1;33m(\u001b[0m\u001b[1;33m)\u001b[0m \u001b[1;32mfor\u001b[0m \u001b[0marr\u001b[0m \u001b[1;32min\u001b[0m \u001b[0marrays\u001b[0m\u001b[1;33m\u001b[0m\u001b[1;33m\u001b[0m\u001b[0m\n\u001b[0;32m    282\u001b[0m         ]\n\u001b[1;32m--> 283\u001b[1;33m     \u001b[1;32mreturn\u001b[0m \u001b[0marrays_to_mgr\u001b[0m\u001b[1;33m(\u001b[0m\u001b[0marrays\u001b[0m\u001b[1;33m,\u001b[0m \u001b[0mdata_names\u001b[0m\u001b[1;33m,\u001b[0m \u001b[0mindex\u001b[0m\u001b[1;33m,\u001b[0m \u001b[0mcolumns\u001b[0m\u001b[1;33m,\u001b[0m \u001b[0mdtype\u001b[0m\u001b[1;33m=\u001b[0m\u001b[0mdtype\u001b[0m\u001b[1;33m)\u001b[0m\u001b[1;33m\u001b[0m\u001b[1;33m\u001b[0m\u001b[0m\n\u001b[0m\u001b[0;32m    284\u001b[0m \u001b[1;33m\u001b[0m\u001b[0m\n\u001b[0;32m    285\u001b[0m \u001b[1;33m\u001b[0m\u001b[0m\n",
      "\u001b[1;32mc:\\users\\abiel\\appdata\\local\\programs\\python\\python37\\lib\\site-packages\\pandas\\core\\internals\\construction.py\u001b[0m in \u001b[0;36marrays_to_mgr\u001b[1;34m(arrays, arr_names, index, columns, dtype, verify_integrity)\u001b[0m\n\u001b[0;32m     76\u001b[0m         \u001b[1;31m# figure out the index, if necessary\u001b[0m\u001b[1;33m\u001b[0m\u001b[1;33m\u001b[0m\u001b[1;33m\u001b[0m\u001b[0m\n\u001b[0;32m     77\u001b[0m         \u001b[1;32mif\u001b[0m \u001b[0mindex\u001b[0m \u001b[1;32mis\u001b[0m \u001b[1;32mNone\u001b[0m\u001b[1;33m:\u001b[0m\u001b[1;33m\u001b[0m\u001b[1;33m\u001b[0m\u001b[0m\n\u001b[1;32m---> 78\u001b[1;33m             \u001b[0mindex\u001b[0m \u001b[1;33m=\u001b[0m \u001b[0mextract_index\u001b[0m\u001b[1;33m(\u001b[0m\u001b[0marrays\u001b[0m\u001b[1;33m)\u001b[0m\u001b[1;33m\u001b[0m\u001b[1;33m\u001b[0m\u001b[0m\n\u001b[0m\u001b[0;32m     79\u001b[0m         \u001b[1;32melse\u001b[0m\u001b[1;33m:\u001b[0m\u001b[1;33m\u001b[0m\u001b[1;33m\u001b[0m\u001b[0m\n\u001b[0;32m     80\u001b[0m             \u001b[0mindex\u001b[0m \u001b[1;33m=\u001b[0m \u001b[0mensure_index\u001b[0m\u001b[1;33m(\u001b[0m\u001b[0mindex\u001b[0m\u001b[1;33m)\u001b[0m\u001b[1;33m\u001b[0m\u001b[1;33m\u001b[0m\u001b[0m\n",
      "\u001b[1;32mc:\\users\\abiel\\appdata\\local\\programs\\python\\python37\\lib\\site-packages\\pandas\\core\\internals\\construction.py\u001b[0m in \u001b[0;36mextract_index\u001b[1;34m(data)\u001b[0m\n\u001b[0;32m    395\u001b[0m             \u001b[0mlengths\u001b[0m \u001b[1;33m=\u001b[0m \u001b[0mlist\u001b[0m\u001b[1;33m(\u001b[0m\u001b[0mset\u001b[0m\u001b[1;33m(\u001b[0m\u001b[0mraw_lengths\u001b[0m\u001b[1;33m)\u001b[0m\u001b[1;33m)\u001b[0m\u001b[1;33m\u001b[0m\u001b[1;33m\u001b[0m\u001b[0m\n\u001b[0;32m    396\u001b[0m             \u001b[1;32mif\u001b[0m \u001b[0mlen\u001b[0m\u001b[1;33m(\u001b[0m\u001b[0mlengths\u001b[0m\u001b[1;33m)\u001b[0m \u001b[1;33m>\u001b[0m \u001b[1;36m1\u001b[0m\u001b[1;33m:\u001b[0m\u001b[1;33m\u001b[0m\u001b[1;33m\u001b[0m\u001b[0m\n\u001b[1;32m--> 397\u001b[1;33m                 \u001b[1;32mraise\u001b[0m \u001b[0mValueError\u001b[0m\u001b[1;33m(\u001b[0m\u001b[1;34m\"arrays must all be same length\"\u001b[0m\u001b[1;33m)\u001b[0m\u001b[1;33m\u001b[0m\u001b[1;33m\u001b[0m\u001b[0m\n\u001b[0m\u001b[0;32m    398\u001b[0m \u001b[1;33m\u001b[0m\u001b[0m\n\u001b[0;32m    399\u001b[0m             \u001b[1;32mif\u001b[0m \u001b[0mhave_dicts\u001b[0m\u001b[1;33m:\u001b[0m\u001b[1;33m\u001b[0m\u001b[1;33m\u001b[0m\u001b[0m\n",
      "\u001b[1;31mValueError\u001b[0m: arrays must all be same length"
     ]
    }
   ],
   "source": [
    "#Now that each datapoint is separated, add them back into a dictionary \n",
    "#This will make sure that each datapoint column is labelled\n",
    "covid_values = {'cdc_rpt_dt': case_date, 'death_yn': death, 'hosp_yn': hospital}\n",
    "\n",
    "#Convert the dictionary into a DataFrame\n",
    "covid_df = pd.DataFrame(covid_values)\n",
    "\n",
    "#Export the DataFrame into a CSV file\n",
    "covid_df.to_csv('new_covid_data.csv')"
   ]
  },
  {
   "cell_type": "code",
   "execution_count": null,
   "metadata": {},
   "outputs": [],
   "source": [
    "#Now, only run the cells above this one if you want to update (add to) the COVID data.\n",
    "#This dataset is continually added to by the CDC and the API call will refresh it."
   ]
  }
 ],
 "metadata": {
  "kernelspec": {
   "display_name": "Python 3",
   "language": "python",
   "name": "python3"
  },
  "language_info": {
   "codemirror_mode": {
    "name": "ipython",
    "version": 3
   },
   "file_extension": ".py",
   "mimetype": "text/x-python",
   "name": "python",
   "nbconvert_exporter": "python",
   "pygments_lexer": "ipython3",
   "version": "3.7.8"
  }
 },
 "nbformat": 4,
 "nbformat_minor": 4
}
