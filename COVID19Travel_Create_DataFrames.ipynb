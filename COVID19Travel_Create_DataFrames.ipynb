{
 "cells": [
  {
   "cell_type": "code",
   "execution_count": 104,
   "metadata": {},
   "outputs": [],
   "source": [
    "#import Pandas, Numpy, and MatPlotLib\n",
    "import matplotlib.pyplot as plt\n",
    "import pandas as pd\n",
    "import numpy as np\n"
   ]
  },
  {
   "cell_type": "code",
   "execution_count": 108,
   "metadata": {},
   "outputs": [],
   "source": [
    "#import requests in order to call the COVID data API data \n",
    "#import time in order to pause between API calls and not freeze in the process\n",
    "#import pprint in order to pretty-print the data.\n",
    "import requests\n",
    "import time\n",
    "from pprint import pprint\n"
   ]
  },
  {
   "cell_type": "code",
   "execution_count": null,
   "metadata": {},
   "outputs": [],
   "source": [
    "#I want to compare the following COVID19 data points:\n",
    "    #test result confirmation date = 'pos_spec_dt' - number of confirmed cases\n",
    "    #death status = 'death_yn' - number of deaths\n",
    "    #hospitalization status = 'hosp_yn' - number of people hospitalized\n",
    "\n",
    "#I'm also pulling in the date the case was reported to the cdc = 'cdc_rpt_dt' for reference \n",
    "#to be sure the dataset is complete and not missing rows (visually compare with preview on website)\n",
    "\n",
    "#these are the key stats reported re: COVID19 counts in the news\n",
    "\n",
    "#So these are the data columns I want to create a Pandas DataFrame with."
   ]
  },
  {
   "cell_type": "code",
   "execution_count": 155,
   "metadata": {},
   "outputs": [
    {
     "data": {
      "text/html": [
       "<div>\n",
       "<style scoped>\n",
       "    .dataframe tbody tr th:only-of-type {\n",
       "        vertical-align: middle;\n",
       "    }\n",
       "\n",
       "    .dataframe tbody tr th {\n",
       "        vertical-align: top;\n",
       "    }\n",
       "\n",
       "    .dataframe thead th {\n",
       "        text-align: right;\n",
       "    }\n",
       "</style>\n",
       "<table border=\"1\" class=\"dataframe\">\n",
       "  <thead>\n",
       "    <tr style=\"text-align: right;\">\n",
       "      <th></th>\n",
       "      <th>Unnamed: 0</th>\n",
       "      <th>cdc_rpt_dt</th>\n",
       "      <th>pos_spec_dt</th>\n",
       "      <th>death_yn</th>\n",
       "      <th>hosp_yn</th>\n",
       "    </tr>\n",
       "  </thead>\n",
       "  <tbody>\n",
       "    <tr>\n",
       "      <th>0</th>\n",
       "      <td>0</td>\n",
       "      <td>2020-03-22T00:00:00.000</td>\n",
       "      <td>2020-03-15T00:00:00.000</td>\n",
       "      <td>No</td>\n",
       "      <td>Yes</td>\n",
       "    </tr>\n",
       "    <tr>\n",
       "      <th>1</th>\n",
       "      <td>1</td>\n",
       "      <td>2020-03-23T00:00:00.000</td>\n",
       "      <td>2020-03-15T00:00:00.000</td>\n",
       "      <td>Unknown</td>\n",
       "      <td>Unknown</td>\n",
       "    </tr>\n",
       "    <tr>\n",
       "      <th>2</th>\n",
       "      <td>2</td>\n",
       "      <td>2020-03-15T00:00:00.000</td>\n",
       "      <td>2020-03-15T00:00:00.000</td>\n",
       "      <td>Missing</td>\n",
       "      <td>Missing</td>\n",
       "    </tr>\n",
       "    <tr>\n",
       "      <th>3</th>\n",
       "      <td>3</td>\n",
       "      <td>2020-03-15T00:00:00.000</td>\n",
       "      <td>2020-03-15T00:00:00.000</td>\n",
       "      <td>Missing</td>\n",
       "      <td>Missing</td>\n",
       "    </tr>\n",
       "    <tr>\n",
       "      <th>4</th>\n",
       "      <td>4</td>\n",
       "      <td>2020-03-15T00:00:00.000</td>\n",
       "      <td>2020-03-15T00:00:00.000</td>\n",
       "      <td>Missing</td>\n",
       "      <td>Missing</td>\n",
       "    </tr>\n",
       "  </tbody>\n",
       "</table>\n",
       "</div>"
      ],
      "text/plain": [
       "   Unnamed: 0               cdc_rpt_dt              pos_spec_dt death_yn  \\\n",
       "0           0  2020-03-22T00:00:00.000  2020-03-15T00:00:00.000       No   \n",
       "1           1  2020-03-23T00:00:00.000  2020-03-15T00:00:00.000  Unknown   \n",
       "2           2  2020-03-15T00:00:00.000  2020-03-15T00:00:00.000  Missing   \n",
       "3           3  2020-03-15T00:00:00.000  2020-03-15T00:00:00.000  Missing   \n",
       "4           4  2020-03-15T00:00:00.000  2020-03-15T00:00:00.000  Missing   \n",
       "\n",
       "   hosp_yn  \n",
       "0      Yes  \n",
       "1  Unknown  \n",
       "2  Missing  \n",
       "3  Missing  \n",
       "4  Missing  "
      ]
     },
     "execution_count": 155,
     "metadata": {},
     "output_type": "execute_result"
    }
   ],
   "source": [
    "\n",
    "#read COVID data csv file in as Pandas DataFrame and preview it\n",
    "covid_data = pd.read_csv('covid_data.csv')\n",
    "covid_data.head()"
   ]
  },
  {
   "cell_type": "code",
   "execution_count": 156,
   "metadata": {},
   "outputs": [
    {
     "data": {
      "text/html": [
       "<div>\n",
       "<style scoped>\n",
       "    .dataframe tbody tr th:only-of-type {\n",
       "        vertical-align: middle;\n",
       "    }\n",
       "\n",
       "    .dataframe tbody tr th {\n",
       "        vertical-align: top;\n",
       "    }\n",
       "\n",
       "    .dataframe thead th {\n",
       "        text-align: right;\n",
       "    }\n",
       "</style>\n",
       "<table border=\"1\" class=\"dataframe\">\n",
       "  <thead>\n",
       "    <tr style=\"text-align: right;\">\n",
       "      <th></th>\n",
       "      <th>Date</th>\n",
       "      <th>Total Traveler Throughput</th>\n",
       "      <th>Total Traveler Throughput_1 Year Ago_Same Weekday</th>\n",
       "    </tr>\n",
       "  </thead>\n",
       "  <tbody>\n",
       "    <tr>\n",
       "      <th>0</th>\n",
       "      <td>10/4/2020</td>\n",
       "      <td>900,911</td>\n",
       "      <td>2,542,118</td>\n",
       "    </tr>\n",
       "    <tr>\n",
       "      <th>1</th>\n",
       "      <td>10/3/2020</td>\n",
       "      <td>677,661</td>\n",
       "      <td>1,921,185</td>\n",
       "    </tr>\n",
       "    <tr>\n",
       "      <th>2</th>\n",
       "      <td>10/2/2020</td>\n",
       "      <td>857,186</td>\n",
       "      <td>2,526,835</td>\n",
       "    </tr>\n",
       "    <tr>\n",
       "      <th>3</th>\n",
       "      <td>10/1/2020</td>\n",
       "      <td>855,908</td>\n",
       "      <td>2,447,687</td>\n",
       "    </tr>\n",
       "    <tr>\n",
       "      <th>4</th>\n",
       "      <td>9/30/2020</td>\n",
       "      <td>634,046</td>\n",
       "      <td>2,082,179</td>\n",
       "    </tr>\n",
       "  </tbody>\n",
       "</table>\n",
       "</div>"
      ],
      "text/plain": [
       "        Date Total Traveler Throughput  \\\n",
       "0  10/4/2020                   900,911   \n",
       "1  10/3/2020                   677,661   \n",
       "2  10/2/2020                   857,186   \n",
       "3  10/1/2020                   855,908   \n",
       "4  9/30/2020                   634,046   \n",
       "\n",
       "  Total Traveler Throughput_1 Year Ago_Same Weekday  \n",
       "0                                         2,542,118  \n",
       "1                                         1,921,185  \n",
       "2                                         2,526,835  \n",
       "3                                         2,447,687  \n",
       "4                                         2,082,179  "
      ]
     },
     "execution_count": 156,
     "metadata": {},
     "output_type": "execute_result"
    }
   ],
   "source": [
    "#Preview the data\n",
    "tsa_data = pd.read_csv('2020_10_05_TSA_Data.csv',delimiter=',')\n",
    "tsa_data.head()"
   ]
  },
  {
   "cell_type": "code",
   "execution_count": 157,
   "metadata": {},
   "outputs": [
    {
     "name": "stdout",
     "output_type": "stream",
     "text": [
      "<class 'pandas.core.frame.DataFrame'>\n",
      "RangeIndex: 1000 entries, 0 to 999\n",
      "Data columns (total 5 columns):\n",
      " #   Column       Non-Null Count  Dtype \n",
      "---  ------       --------------  ----- \n",
      " 0   Unnamed: 0   1000 non-null   int64 \n",
      " 1   cdc_rpt_dt   1000 non-null   object\n",
      " 2   pos_spec_dt  1000 non-null   object\n",
      " 3   death_yn     1000 non-null   object\n",
      " 4   hosp_yn      1000 non-null   object\n",
      "dtypes: int64(1), object(4)\n",
      "memory usage: 39.2+ KB\n"
     ]
    }
   ],
   "source": [
    "#QUESTION FOR MENTORS - MY COVID DATASET IS LIMITED TO 1,000 ROWS.  HOW DO I GET THE FULL DATA?\n",
    "\n",
    "covid_data.info()\n",
    "\n",
    "#here is the website: https://data.cdc.gov/Case-Surveillance/COVID-19-Case-Surveillance-Public-Use-Data/vbim-akqf\n",
    "\n",
    "#there should be closer to 4.5million rows"
   ]
  },
  {
   "cell_type": "code",
   "execution_count": null,
   "metadata": {},
   "outputs": [],
   "source": [
    "#Here is a list of next steps:\n",
    "\n",
    "#1. convert the COVID dates into standard date format\n",
    "\n",
    "#2. group the covid data by days (pos_spec_dt)\n",
    "    #for each day, I will have total number of cases, deaths, hospitalizations\n",
    "    \n",
    "#3. combine the COVID and TSA dataframes so that for each day, I have all values\n",
    "    #so, perhaps make the date the index\n",
    "\n",
    "#4. then begin creating the visualizations to show trends"
   ]
  }
 ],
 "metadata": {
  "kernelspec": {
   "display_name": "Python 3",
   "language": "python",
   "name": "python3"
  },
  "language_info": {
   "codemirror_mode": {
    "name": "ipython",
    "version": 3
   },
   "file_extension": ".py",
   "mimetype": "text/x-python",
   "name": "python",
   "nbconvert_exporter": "python",
   "pygments_lexer": "ipython3",
   "version": "3.7.8"
  }
 },
 "nbformat": 4,
 "nbformat_minor": 4
}
