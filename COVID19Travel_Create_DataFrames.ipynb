{
 "cells": [
  {
   "cell_type": "markdown",
   "metadata": {},
   "source": [
    "# OVERVIEW #\n",
    "\n",
    "This notebook will import the grouped version of the United States COVID data exported as a .csv file in the COVID19_API_Calls notebook.\n",
    "\n",
    "\n",
    "In the COVID19_API_Calls.ipynb file, COVID data was imported through an API, saved in a DataFrame, then grouped by case reported date with hospitalization and death counts.\n",
    "\n",
    "\n",
    "**You will need to visit the [TSA website here](https://www.tsa.gov/coronavirus/passenger-throughput) and copy/paste the airline traveler data into a .csv file on your local machine.**\n",
    "\n",
    "**NAME YOUR TSA FILE: \"TSA_Data.csv\"**\n",
    "\n",
    "\n",
    "This notebook will call in that TSA data file, create DataFrames with both sets of data, convert datatypes, and merge the data into a single DataFrame.  Finally, the merged DataFrame will be exported as a .csv file."
   ]
  },
  {
   "cell_type": "code",
   "execution_count": 1,
   "metadata": {},
   "outputs": [],
   "source": [
    "#import Pandas, Numpy, and MatPlotLib\n",
    "import matplotlib.pyplot as plt\n",
    "import pandas as pd\n",
    "import numpy as np\n"
   ]
  },
  {
   "cell_type": "markdown",
   "metadata": {},
   "source": [
    "# SECTION 1: Import the COVID and TSA .csv files #"
   ]
  },
  {
   "cell_type": "code",
   "execution_count": 2,
   "metadata": {},
   "outputs": [
    {
     "data": {
      "text/html": [
       "<div>\n",
       "<style scoped>\n",
       "    .dataframe tbody tr th:only-of-type {\n",
       "        vertical-align: middle;\n",
       "    }\n",
       "\n",
       "    .dataframe tbody tr th {\n",
       "        vertical-align: top;\n",
       "    }\n",
       "\n",
       "    .dataframe thead th {\n",
       "        text-align: right;\n",
       "    }\n",
       "</style>\n",
       "<table border=\"1\" class=\"dataframe\">\n",
       "  <thead>\n",
       "    <tr style=\"text-align: right;\">\n",
       "      <th></th>\n",
       "      <th>cdc_report_dt</th>\n",
       "      <th>Cases</th>\n",
       "      <th>Deaths</th>\n",
       "      <th>Hospitalizations</th>\n",
       "    </tr>\n",
       "  </thead>\n",
       "  <tbody>\n",
       "    <tr>\n",
       "      <th>281</th>\n",
       "      <td>2020-10-12</td>\n",
       "      <td>39044</td>\n",
       "      <td>344</td>\n",
       "      <td>1577</td>\n",
       "    </tr>\n",
       "    <tr>\n",
       "      <th>282</th>\n",
       "      <td>2020-10-13</td>\n",
       "      <td>57448</td>\n",
       "      <td>526</td>\n",
       "      <td>2521</td>\n",
       "    </tr>\n",
       "    <tr>\n",
       "      <th>283</th>\n",
       "      <td>2020-10-14</td>\n",
       "      <td>34957</td>\n",
       "      <td>270</td>\n",
       "      <td>1337</td>\n",
       "    </tr>\n",
       "    <tr>\n",
       "      <th>284</th>\n",
       "      <td>2020-10-15</td>\n",
       "      <td>49693</td>\n",
       "      <td>382</td>\n",
       "      <td>1458</td>\n",
       "    </tr>\n",
       "    <tr>\n",
       "      <th>285</th>\n",
       "      <td>2020-10-16</td>\n",
       "      <td>58350</td>\n",
       "      <td>465</td>\n",
       "      <td>1796</td>\n",
       "    </tr>\n",
       "  </tbody>\n",
       "</table>\n",
       "</div>"
      ],
      "text/plain": [
       "    cdc_report_dt  Cases  Deaths  Hospitalizations\n",
       "281    2020-10-12  39044     344              1577\n",
       "282    2020-10-13  57448     526              2521\n",
       "283    2020-10-14  34957     270              1337\n",
       "284    2020-10-15  49693     382              1458\n",
       "285    2020-10-16  58350     465              1796"
      ]
     },
     "execution_count": 2,
     "metadata": {},
     "output_type": "execute_result"
    }
   ],
   "source": [
    "#read COVID data csv file in as Pandas DataFrame and preview it\n",
    "covid_data = pd.read_csv('covid_data.csv')\n",
    "covid_data.tail()"
   ]
  },
  {
   "cell_type": "code",
   "execution_count": 3,
   "metadata": {},
   "outputs": [
    {
     "data": {
      "text/html": [
       "<div>\n",
       "<style scoped>\n",
       "    .dataframe tbody tr th:only-of-type {\n",
       "        vertical-align: middle;\n",
       "    }\n",
       "\n",
       "    .dataframe tbody tr th {\n",
       "        vertical-align: top;\n",
       "    }\n",
       "\n",
       "    .dataframe thead th {\n",
       "        text-align: right;\n",
       "    }\n",
       "</style>\n",
       "<table border=\"1\" class=\"dataframe\">\n",
       "  <thead>\n",
       "    <tr style=\"text-align: right;\">\n",
       "      <th></th>\n",
       "      <th>Date</th>\n",
       "      <th>Total Traveler Throughput</th>\n",
       "      <th>Total Traveler Throughput_1 Year Ago_Same Weekday</th>\n",
       "    </tr>\n",
       "  </thead>\n",
       "  <tbody>\n",
       "    <tr>\n",
       "      <th>0</th>\n",
       "      <td>11/6/2020</td>\n",
       "      <td>895091</td>\n",
       "      <td>2544350</td>\n",
       "    </tr>\n",
       "    <tr>\n",
       "      <th>1</th>\n",
       "      <td>11/5/2020</td>\n",
       "      <td>867105</td>\n",
       "      <td>2507365</td>\n",
       "    </tr>\n",
       "    <tr>\n",
       "      <th>2</th>\n",
       "      <td>11/4/2020</td>\n",
       "      <td>636533</td>\n",
       "      <td>2147882</td>\n",
       "    </tr>\n",
       "    <tr>\n",
       "      <th>3</th>\n",
       "      <td>11/3/2020</td>\n",
       "      <td>575829</td>\n",
       "      <td>2005101</td>\n",
       "    </tr>\n",
       "    <tr>\n",
       "      <th>4</th>\n",
       "      <td>11/2/2020</td>\n",
       "      <td>846138</td>\n",
       "      <td>2403304</td>\n",
       "    </tr>\n",
       "  </tbody>\n",
       "</table>\n",
       "</div>"
      ],
      "text/plain": [
       "        Date  Total Traveler Throughput  \\\n",
       "0  11/6/2020                     895091   \n",
       "1  11/5/2020                     867105   \n",
       "2  11/4/2020                     636533   \n",
       "3  11/3/2020                     575829   \n",
       "4  11/2/2020                     846138   \n",
       "\n",
       "   Total Traveler Throughput_1 Year Ago_Same Weekday  \n",
       "0                                            2544350  \n",
       "1                                            2507365  \n",
       "2                                            2147882  \n",
       "3                                            2005101  \n",
       "4                                            2403304  "
      ]
     },
     "execution_count": 3,
     "metadata": {},
     "output_type": "execute_result"
    }
   ],
   "source": [
    "#read TSA data csv file in as a Pandas DataFrame and preview it\n",
    "tsa_data = pd.read_csv('TSA_Data.csv',delimiter=',')\n",
    "tsa_data.head()"
   ]
  },
  {
   "cell_type": "markdown",
   "metadata": {},
   "source": [
    "# SECTION 2: Convert Datatypes #"
   ]
  },
  {
   "cell_type": "code",
   "execution_count": 4,
   "metadata": {},
   "outputs": [
    {
     "name": "stdout",
     "output_type": "stream",
     "text": [
      "<class 'pandas.core.frame.DataFrame'>\n",
      "RangeIndex: 286 entries, 0 to 285\n",
      "Data columns (total 4 columns):\n",
      " #   Column            Non-Null Count  Dtype \n",
      "---  ------            --------------  ----- \n",
      " 0   cdc_report_dt     286 non-null    object\n",
      " 1   Cases             286 non-null    int64 \n",
      " 2   Deaths            286 non-null    int64 \n",
      " 3   Hospitalizations  286 non-null    int64 \n",
      "dtypes: int64(3), object(1)\n",
      "memory usage: 9.1+ KB\n"
     ]
    }
   ],
   "source": [
    "#Check the datetype for the COVID DataFrame using .info().  It has changed to an object.\n",
    "covid_data.info()"
   ]
  },
  {
   "cell_type": "code",
   "execution_count": 6,
   "metadata": {},
   "outputs": [
    {
     "name": "stdout",
     "output_type": "stream",
     "text": [
      "<class 'pandas.core.frame.DataFrame'>\n",
      "RangeIndex: 251 entries, 0 to 250\n",
      "Data columns (total 3 columns):\n",
      " #   Column                                             Non-Null Count  Dtype \n",
      "---  ------                                             --------------  ----- \n",
      " 0   Date                                               251 non-null    object\n",
      " 1   Total Traveler Throughput                          251 non-null    int64 \n",
      " 2   Total Traveler Throughput_1 Year Ago_Same Weekday  251 non-null    int64 \n",
      "dtypes: int64(2), object(1)\n",
      "memory usage: 6.0+ KB\n"
     ]
    }
   ],
   "source": [
    "#Check the datetype for the TSA DataFrame using .info().  It has changed to an object also.\n",
    "#Note: the traveler numbers also came through as objects also and will need to be converted\n",
    "tsa_data.info()"
   ]
  },
  {
   "cell_type": "markdown",
   "metadata": {},
   "source": [
    "#### Convert dates to datetime64 ####"
   ]
  },
  {
   "cell_type": "code",
   "execution_count": 7,
   "metadata": {},
   "outputs": [],
   "source": [
    "#Import the datetime module and use it to extract date details\n",
    "import datetime\n"
   ]
  },
  {
   "cell_type": "code",
   "execution_count": 8,
   "metadata": {},
   "outputs": [
    {
     "name": "stdout",
     "output_type": "stream",
     "text": [
      "<class 'pandas.core.frame.DataFrame'>\n",
      "RangeIndex: 286 entries, 0 to 285\n",
      "Data columns (total 1 columns):\n",
      " #   Column         Non-Null Count  Dtype         \n",
      "---  ------         --------------  -----         \n",
      " 0   cdc_report_dt  286 non-null    datetime64[ns]\n",
      "dtypes: datetime64[ns](1)\n",
      "memory usage: 2.4 KB\n"
     ]
    }
   ],
   "source": [
    "#Convert the COVID report date\n",
    "case_date = pd.to_datetime(covid_data[\"cdc_report_dt\"]) \n",
    "covid_case_date = pd.DataFrame(case_date)\n",
    "\n",
    "#Check the datatype, it is datetime\n",
    "covid_case_date.info()"
   ]
  },
  {
   "cell_type": "code",
   "execution_count": 9,
   "metadata": {},
   "outputs": [
    {
     "name": "stdout",
     "output_type": "stream",
     "text": [
      "<class 'pandas.core.frame.DataFrame'>\n",
      "RangeIndex: 251 entries, 0 to 250\n",
      "Data columns (total 1 columns):\n",
      " #   Column  Non-Null Count  Dtype         \n",
      "---  ------  --------------  -----         \n",
      " 0   Date    251 non-null    datetime64[ns]\n",
      "dtypes: datetime64[ns](1)\n",
      "memory usage: 2.1 KB\n"
     ]
    }
   ],
   "source": [
    "#Convert the TSA traveler count date\n",
    "tsa_date = pd.to_datetime(tsa_data[\"Date\"]) \n",
    "tsa_travel_date = pd.DataFrame(tsa_date)\n",
    "\n",
    "#Check the datatype, it is datetime\n",
    "tsa_travel_date.info()"
   ]
  },
  {
   "cell_type": "markdown",
   "metadata": {},
   "source": [
    "#### Convert TSA traveler numbers to float64 ####"
   ]
  },
  {
   "cell_type": "code",
   "execution_count": 10,
   "metadata": {},
   "outputs": [
    {
     "name": "stdout",
     "output_type": "stream",
     "text": [
      "<class 'pandas.core.frame.DataFrame'>\n",
      "RangeIndex: 251 entries, 0 to 250\n",
      "Data columns (total 1 columns):\n",
      " #   Column                     Non-Null Count  Dtype\n",
      "---  ------                     --------------  -----\n",
      " 0   Total Traveler Throughput  251 non-null    int64\n",
      "dtypes: int64(1)\n",
      "memory usage: 2.1 KB\n",
      "<class 'pandas.core.frame.DataFrame'>\n",
      "RangeIndex: 251 entries, 0 to 250\n",
      "Data columns (total 1 columns):\n",
      " #   Column                                             Non-Null Count  Dtype\n",
      "---  ------                                             --------------  -----\n",
      " 0   Total Traveler Throughput_1 Year Ago_Same Weekday  251 non-null    int64\n",
      "dtypes: int64(1)\n",
      "memory usage: 2.1 KB\n"
     ]
    }
   ],
   "source": [
    "#Now I can convert the TSA traveler numbers from Python object datatypes to integer datatypes\n",
    "\n",
    "tsa_2020_1 = pd.to_numeric(tsa_data['Total Traveler Throughput'])\n",
    "tsa_2020 = pd.DataFrame(tsa_2020_1)\n",
    "tsa_2020.info()  #this is my new 2020 traveler number DataFrame, the datatype is float\n",
    "\n",
    "tsa_2019_1 = pd.to_numeric(tsa_data['Total Traveler Throughput_1 Year Ago_Same Weekday'])\n",
    "tsa_2019 = pd.DataFrame(tsa_2019_1)\n",
    "tsa_2019.info()  #this is my new 2019 traveler number DataFrame, the datatype is float"
   ]
  },
  {
   "cell_type": "markdown",
   "metadata": {},
   "source": [
    "# SECTION 3: Create DataFrames #"
   ]
  },
  {
   "cell_type": "markdown",
   "metadata": {},
   "source": [
    "#### Create a separate DataFrame for each datapoint ####\n",
    "\n",
    "They will be combined into a single DataFrame later"
   ]
  },
  {
   "cell_type": "code",
   "execution_count": 12,
   "metadata": {},
   "outputs": [
    {
     "name": "stdout",
     "output_type": "stream",
     "text": [
      "<class 'pandas.core.frame.DataFrame'>\n",
      "RangeIndex: 251 entries, 0 to 250\n",
      "Data columns (total 1 columns):\n",
      " #   Column                     Non-Null Count  Dtype\n",
      "---  ------                     --------------  -----\n",
      " 0   Total Traveler Throughput  251 non-null    int64\n",
      "dtypes: int64(1)\n",
      "memory usage: 2.1 KB\n"
     ]
    }
   ],
   "source": [
    "#These are my COVID datapoints\n",
    "covid_case_date  #the converted covid case date from the COVID DataFrame\n",
    "\n",
    "covid_cases = pd.DataFrame(covid_data['Cases'])\n",
    "covid_deaths = pd.DataFrame(covid_data['Deaths'])\n",
    "covid_hopitalizations = pd.DataFrame(covid_data['Hospitalizations'])\n",
    "\n",
    "#These are my TSA datapoints\n",
    "tsa_travel_date  #the converted tsa traveler count date from the TSA DataFrame\n",
    "\n",
    "tsa_2020 #this is my new 2020 traveler number DataFrame, the datatype is float\n",
    "tsa_2019 #this is my new 2019 traveler number DataFrame, the datatype is float\n",
    "\n",
    "tsa_2020.info()"
   ]
  },
  {
   "cell_type": "code",
   "execution_count": 28,
   "metadata": {},
   "outputs": [],
   "source": [
    "#Use this cell to check the datatypes, if desired\n",
    "\n",
    "#covid_case_date.info()\n",
    "#covid_cases.info()\n",
    "#covid_deaths.info()\n",
    "#covid_hopitalizations.info()\n",
    "#tsa_travel_date.info()\n",
    "#tsa_2020.info()\n",
    "#tsa_2019.info()"
   ]
  },
  {
   "cell_type": "markdown",
   "metadata": {},
   "source": [
    "#### I don't want to create a combined DataFrame at this stage because there are ####\n",
    "\n",
    "1. COVID case dates and counts, dated earlier than the TSA traveler date counts\n",
    "\n",
    "2. TSA traveler date counts dated later than the COVID case dates and counts\n",
    "\n",
    "If I concatenate the DataFrame columns I just created, they will merge on the index number, not the date\n"
   ]
  },
  {
   "cell_type": "markdown",
   "metadata": {},
   "source": [
    "#### Create a COVID DataFrame using the date as the index ####"
   ]
  },
  {
   "cell_type": "code",
   "execution_count": 13,
   "metadata": {},
   "outputs": [
    {
     "data": {
      "text/html": [
       "<div>\n",
       "<style scoped>\n",
       "    .dataframe tbody tr th:only-of-type {\n",
       "        vertical-align: middle;\n",
       "    }\n",
       "\n",
       "    .dataframe tbody tr th {\n",
       "        vertical-align: top;\n",
       "    }\n",
       "\n",
       "    .dataframe thead th {\n",
       "        text-align: right;\n",
       "    }\n",
       "</style>\n",
       "<table border=\"1\" class=\"dataframe\">\n",
       "  <thead>\n",
       "    <tr style=\"text-align: right;\">\n",
       "      <th></th>\n",
       "      <th>Cases</th>\n",
       "      <th>Deaths</th>\n",
       "      <th>Hospitalizations</th>\n",
       "    </tr>\n",
       "    <tr>\n",
       "      <th>cdc_report_dt</th>\n",
       "      <th></th>\n",
       "      <th></th>\n",
       "      <th></th>\n",
       "    </tr>\n",
       "  </thead>\n",
       "  <tbody>\n",
       "    <tr>\n",
       "      <th>2020-01-01</th>\n",
       "      <td>12</td>\n",
       "      <td>0</td>\n",
       "      <td>1</td>\n",
       "    </tr>\n",
       "    <tr>\n",
       "      <th>2020-01-02</th>\n",
       "      <td>3</td>\n",
       "      <td>0</td>\n",
       "      <td>0</td>\n",
       "    </tr>\n",
       "    <tr>\n",
       "      <th>2020-01-03</th>\n",
       "      <td>2</td>\n",
       "      <td>0</td>\n",
       "      <td>0</td>\n",
       "    </tr>\n",
       "    <tr>\n",
       "      <th>2020-01-05</th>\n",
       "      <td>1</td>\n",
       "      <td>0</td>\n",
       "      <td>0</td>\n",
       "    </tr>\n",
       "    <tr>\n",
       "      <th>2020-01-08</th>\n",
       "      <td>1</td>\n",
       "      <td>0</td>\n",
       "      <td>0</td>\n",
       "    </tr>\n",
       "  </tbody>\n",
       "</table>\n",
       "</div>"
      ],
      "text/plain": [
       "               Cases  Deaths  Hospitalizations\n",
       "cdc_report_dt                                 \n",
       "2020-01-01        12       0                 1\n",
       "2020-01-02         3       0                 0\n",
       "2020-01-03         2       0                 0\n",
       "2020-01-05         1       0                 0\n",
       "2020-01-08         1       0                 0"
      ]
     },
     "execution_count": 13,
     "metadata": {},
     "output_type": "execute_result"
    }
   ],
   "source": [
    "#Concatenate the COVID DataFrame columns \n",
    "covid_df = pd.concat([covid_case_date, covid_cases, covid_deaths, covid_hopitalizations], axis=1)\n",
    "covid_df.head()\n",
    "\n",
    "#Set the Date Column as the Index\n",
    "covid_dataframe = covid_df.set_index('cdc_report_dt')\n",
    "\n",
    "#Preview the new DataFrame\n",
    "covid_dataframe.head()"
   ]
  },
  {
   "cell_type": "markdown",
   "metadata": {},
   "source": [
    "#### Create a TSA Traveler Count DataFrame using the date as the index ####"
   ]
  },
  {
   "cell_type": "code",
   "execution_count": 14,
   "metadata": {},
   "outputs": [
    {
     "data": {
      "text/html": [
       "<div>\n",
       "<style scoped>\n",
       "    .dataframe tbody tr th:only-of-type {\n",
       "        vertical-align: middle;\n",
       "    }\n",
       "\n",
       "    .dataframe tbody tr th {\n",
       "        vertical-align: top;\n",
       "    }\n",
       "\n",
       "    .dataframe thead th {\n",
       "        text-align: right;\n",
       "    }\n",
       "</style>\n",
       "<table border=\"1\" class=\"dataframe\">\n",
       "  <thead>\n",
       "    <tr style=\"text-align: right;\">\n",
       "      <th></th>\n",
       "      <th>Total Traveler Throughput</th>\n",
       "      <th>Total Traveler Throughput_1 Year Ago_Same Weekday</th>\n",
       "    </tr>\n",
       "    <tr>\n",
       "      <th>Date</th>\n",
       "      <th></th>\n",
       "      <th></th>\n",
       "    </tr>\n",
       "  </thead>\n",
       "  <tbody>\n",
       "    <tr>\n",
       "      <th>2020-11-06</th>\n",
       "      <td>895091</td>\n",
       "      <td>2544350</td>\n",
       "    </tr>\n",
       "    <tr>\n",
       "      <th>2020-11-05</th>\n",
       "      <td>867105</td>\n",
       "      <td>2507365</td>\n",
       "    </tr>\n",
       "    <tr>\n",
       "      <th>2020-11-04</th>\n",
       "      <td>636533</td>\n",
       "      <td>2147882</td>\n",
       "    </tr>\n",
       "    <tr>\n",
       "      <th>2020-11-03</th>\n",
       "      <td>575829</td>\n",
       "      <td>2005101</td>\n",
       "    </tr>\n",
       "    <tr>\n",
       "      <th>2020-11-02</th>\n",
       "      <td>846138</td>\n",
       "      <td>2403304</td>\n",
       "    </tr>\n",
       "  </tbody>\n",
       "</table>\n",
       "</div>"
      ],
      "text/plain": [
       "            Total Traveler Throughput  \\\n",
       "Date                                    \n",
       "2020-11-06                     895091   \n",
       "2020-11-05                     867105   \n",
       "2020-11-04                     636533   \n",
       "2020-11-03                     575829   \n",
       "2020-11-02                     846138   \n",
       "\n",
       "            Total Traveler Throughput_1 Year Ago_Same Weekday  \n",
       "Date                                                           \n",
       "2020-11-06                                            2544350  \n",
       "2020-11-05                                            2507365  \n",
       "2020-11-04                                            2147882  \n",
       "2020-11-03                                            2005101  \n",
       "2020-11-02                                            2403304  "
      ]
     },
     "execution_count": 14,
     "metadata": {},
     "output_type": "execute_result"
    }
   ],
   "source": [
    "#Concatenate the TSA DataFrame columns \n",
    "tsa_df = pd.concat([tsa_travel_date, tsa_2020, tsa_2019], axis=1)\n",
    "\n",
    "#Set the Date Column as the Index\n",
    "tsa_dataframe = tsa_df.set_index('Date')\n",
    "\n",
    "#Preview the new DataFrame\n",
    "tsa_dataframe.head()\n"
   ]
  },
  {
   "cell_type": "markdown",
   "metadata": {},
   "source": [
    "#### Now, the COVID and TSA DataFrames can be merged together on the Date index ####\n",
    "\n",
    "\n",
    "This will be accomplished with an inner merge, which will only join the rows that have matching values (matching dates).\n",
    "\n",
    "\n",
    "This merge will be exclude any COVID case dates or TSA traveler count dates that are not in both DataFrames."
   ]
  },
  {
   "cell_type": "code",
   "execution_count": 15,
   "metadata": {},
   "outputs": [
    {
     "data": {
      "text/html": [
       "<div>\n",
       "<style scoped>\n",
       "    .dataframe tbody tr th:only-of-type {\n",
       "        vertical-align: middle;\n",
       "    }\n",
       "\n",
       "    .dataframe tbody tr th {\n",
       "        vertical-align: top;\n",
       "    }\n",
       "\n",
       "    .dataframe thead th {\n",
       "        text-align: right;\n",
       "    }\n",
       "</style>\n",
       "<table border=\"1\" class=\"dataframe\">\n",
       "  <thead>\n",
       "    <tr style=\"text-align: right;\">\n",
       "      <th></th>\n",
       "      <th>Cases</th>\n",
       "      <th>Deaths</th>\n",
       "      <th>Hospitalizations</th>\n",
       "      <th>Total Traveler Throughput</th>\n",
       "      <th>Total Traveler Throughput_1 Year Ago_Same Weekday</th>\n",
       "    </tr>\n",
       "  </thead>\n",
       "  <tbody>\n",
       "    <tr>\n",
       "      <th>2020-10-12</th>\n",
       "      <td>39044</td>\n",
       "      <td>344</td>\n",
       "      <td>1577</td>\n",
       "      <td>958440</td>\n",
       "      <td>2616771</td>\n",
       "    </tr>\n",
       "    <tr>\n",
       "      <th>2020-10-13</th>\n",
       "      <td>57448</td>\n",
       "      <td>526</td>\n",
       "      <td>2521</td>\n",
       "      <td>680894</td>\n",
       "      <td>2313632</td>\n",
       "    </tr>\n",
       "    <tr>\n",
       "      <th>2020-10-14</th>\n",
       "      <td>34957</td>\n",
       "      <td>270</td>\n",
       "      <td>1337</td>\n",
       "      <td>717940</td>\n",
       "      <td>2317763</td>\n",
       "    </tr>\n",
       "    <tr>\n",
       "      <th>2020-10-15</th>\n",
       "      <td>49693</td>\n",
       "      <td>382</td>\n",
       "      <td>1458</td>\n",
       "      <td>950024</td>\n",
       "      <td>2581007</td>\n",
       "    </tr>\n",
       "    <tr>\n",
       "      <th>2020-10-16</th>\n",
       "      <td>58350</td>\n",
       "      <td>465</td>\n",
       "      <td>1796</td>\n",
       "      <td>973046</td>\n",
       "      <td>2637667</td>\n",
       "    </tr>\n",
       "  </tbody>\n",
       "</table>\n",
       "</div>"
      ],
      "text/plain": [
       "            Cases  Deaths  Hospitalizations  Total Traveler Throughput  \\\n",
       "2020-10-12  39044     344              1577                     958440   \n",
       "2020-10-13  57448     526              2521                     680894   \n",
       "2020-10-14  34957     270              1337                     717940   \n",
       "2020-10-15  49693     382              1458                     950024   \n",
       "2020-10-16  58350     465              1796                     973046   \n",
       "\n",
       "            Total Traveler Throughput_1 Year Ago_Same Weekday  \n",
       "2020-10-12                                            2616771  \n",
       "2020-10-13                                            2313632  \n",
       "2020-10-14                                            2317763  \n",
       "2020-10-15                                            2581007  \n",
       "2020-10-16                                            2637667  "
      ]
     },
     "execution_count": 15,
     "metadata": {},
     "output_type": "execute_result"
    }
   ],
   "source": [
    "#Merge the COVID and TSA DataFrames on the Date index\n",
    "   \n",
    "    \n",
    "merged_df = pd.merge(covid_dataframe, tsa_dataframe, left_index=True, right_index=True)\n",
    "merged_df.tail()"
   ]
  },
  {
   "cell_type": "markdown",
   "metadata": {},
   "source": [
    "# SECTION 4: Rename columns and export as .csv"
   ]
  },
  {
   "cell_type": "code",
   "execution_count": 16,
   "metadata": {},
   "outputs": [
    {
     "data": {
      "text/html": [
       "<div>\n",
       "<style scoped>\n",
       "    .dataframe tbody tr th:only-of-type {\n",
       "        vertical-align: middle;\n",
       "    }\n",
       "\n",
       "    .dataframe tbody tr th {\n",
       "        vertical-align: top;\n",
       "    }\n",
       "\n",
       "    .dataframe thead th {\n",
       "        text-align: right;\n",
       "    }\n",
       "</style>\n",
       "<table border=\"1\" class=\"dataframe\">\n",
       "  <thead>\n",
       "    <tr style=\"text-align: right;\">\n",
       "      <th></th>\n",
       "      <th>Cases</th>\n",
       "      <th>Deaths</th>\n",
       "      <th>Hospitalizations</th>\n",
       "      <th>2020 Traveler Count</th>\n",
       "      <th>2019 Traveler Count (Same Weekday)</th>\n",
       "    </tr>\n",
       "  </thead>\n",
       "  <tbody>\n",
       "    <tr>\n",
       "      <th>2020-03-01</th>\n",
       "      <td>232</td>\n",
       "      <td>12</td>\n",
       "      <td>71</td>\n",
       "      <td>2280522</td>\n",
       "      <td>2301439</td>\n",
       "    </tr>\n",
       "    <tr>\n",
       "      <th>2020-03-02</th>\n",
       "      <td>161</td>\n",
       "      <td>14</td>\n",
       "      <td>46</td>\n",
       "      <td>2089641</td>\n",
       "      <td>2257920</td>\n",
       "    </tr>\n",
       "    <tr>\n",
       "      <th>2020-03-03</th>\n",
       "      <td>224</td>\n",
       "      <td>11</td>\n",
       "      <td>58</td>\n",
       "      <td>1736393</td>\n",
       "      <td>1979558</td>\n",
       "    </tr>\n",
       "    <tr>\n",
       "      <th>2020-03-04</th>\n",
       "      <td>217</td>\n",
       "      <td>15</td>\n",
       "      <td>67</td>\n",
       "      <td>1877401</td>\n",
       "      <td>2143619</td>\n",
       "    </tr>\n",
       "    <tr>\n",
       "      <th>2020-03-05</th>\n",
       "      <td>252</td>\n",
       "      <td>9</td>\n",
       "      <td>73</td>\n",
       "      <td>2130015</td>\n",
       "      <td>2402692</td>\n",
       "    </tr>\n",
       "  </tbody>\n",
       "</table>\n",
       "</div>"
      ],
      "text/plain": [
       "            Cases  Deaths  Hospitalizations  2020 Traveler Count  \\\n",
       "2020-03-01    232      12                71              2280522   \n",
       "2020-03-02    161      14                46              2089641   \n",
       "2020-03-03    224      11                58              1736393   \n",
       "2020-03-04    217      15                67              1877401   \n",
       "2020-03-05    252       9                73              2130015   \n",
       "\n",
       "            2019 Traveler Count (Same Weekday)  \n",
       "2020-03-01                             2301439  \n",
       "2020-03-02                             2257920  \n",
       "2020-03-03                             1979558  \n",
       "2020-03-04                             2143619  \n",
       "2020-03-05                             2402692  "
      ]
     },
     "execution_count": 16,
     "metadata": {},
     "output_type": "execute_result"
    }
   ],
   "source": [
    "#Rename the columns so that they are easier to consume\n",
    "\n",
    "covid_travel = merged_df.rename(columns = {'Total Traveler Throughput': '2020 Traveler Count', 'Total Traveler Throughput_1 Year Ago_Same Weekday': '2019 Traveler Count (Same Weekday)'})\n",
    "covid_travel.head()\n",
    "\n",
    "#Datetime format = year-month-day"
   ]
  },
  {
   "cell_type": "code",
   "execution_count": 17,
   "metadata": {},
   "outputs": [
    {
     "name": "stdout",
     "output_type": "stream",
     "text": [
      "<class 'pandas.core.frame.DataFrame'>\n",
      "DatetimeIndex: 230 entries, 2020-03-01 to 2020-10-16\n",
      "Freq: D\n",
      "Data columns (total 5 columns):\n",
      " #   Column                              Non-Null Count  Dtype\n",
      "---  ------                              --------------  -----\n",
      " 0   Cases                               230 non-null    int64\n",
      " 1   Deaths                              230 non-null    int64\n",
      " 2   Hospitalizations                    230 non-null    int64\n",
      " 3   2020 Traveler Count                 230 non-null    int64\n",
      " 4   2019 Traveler Count (Same Weekday)  230 non-null    int64\n",
      "dtypes: int64(5)\n",
      "memory usage: 10.8 KB\n"
     ]
    }
   ],
   "source": [
    "#And here is the information about this finalized DataFrame\n",
    "covid_travel.info()"
   ]
  },
  {
   "cell_type": "code",
   "execution_count": 18,
   "metadata": {},
   "outputs": [],
   "source": [
    "#store this DataFrame as a .csv in order to open it in a different ('Visualization') notebook.\n",
    "\n",
    "covid_travel.to_csv('covid_travel.csv')"
   ]
  },
  {
   "cell_type": "code",
   "execution_count": null,
   "metadata": {},
   "outputs": [],
   "source": []
  }
 ],
 "metadata": {
  "kernelspec": {
   "display_name": "Python 3",
   "language": "python",
   "name": "python3"
  },
  "language_info": {
   "codemirror_mode": {
    "name": "ipython",
    "version": 3
   },
   "file_extension": ".py",
   "mimetype": "text/x-python",
   "name": "python",
   "nbconvert_exporter": "python",
   "pygments_lexer": "ipython3",
   "version": "3.7.8"
  }
 },
 "nbformat": 4,
 "nbformat_minor": 4
}
