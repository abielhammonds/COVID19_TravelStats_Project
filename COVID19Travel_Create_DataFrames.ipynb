{
 "cells": [
  {
   "cell_type": "markdown",
   "metadata": {},
   "source": [
    "# OVERVIEW #\n",
    "\n",
    "This notebook will import the grouped version of the COVID data exported as a .csv file in the COVID19_API_Calls notebook.\n",
    "\n",
    "\n",
    "In the COVID19_API_Calls.ipynb file, CDC COVID data was called through an API, saved in a DataFrame, then grouped by case reported date with hospitalization and death counts.\n",
    "\n",
    "\n",
    "**You will need to visit the [TSA website here](https://www.tsa.gov/coronavirus/passenger-throughput) and copy/paste the traveler data into a .csv file on your local machine.**\n",
    "\n",
    "*NAME YOUR TSA FILE: \"TSA_Data.csv\"\n",
    "\n",
    "\n",
    "This notebook will call in that TSA data file, create DataFrames with both sets of data, convert datatypes, and merge the data into a single DataFrame.  Finally, the merged DataFrame will be exported as a .csv file."
   ]
  },
  {
   "cell_type": "code",
   "execution_count": 13,
   "metadata": {},
   "outputs": [],
   "source": [
    "#import Pandas, Numpy, and MatPlotLib\n",
    "import matplotlib.pyplot as plt\n",
    "import pandas as pd\n",
    "import numpy as np\n"
   ]
  },
  {
   "cell_type": "markdown",
   "metadata": {},
   "source": [
    "# SECTION 1: Import the COVID and TSA .csv files #"
   ]
  },
  {
   "cell_type": "code",
   "execution_count": 3,
   "metadata": {},
   "outputs": [
    {
     "data": {
      "text/html": [
       "<div>\n",
       "<style scoped>\n",
       "    .dataframe tbody tr th:only-of-type {\n",
       "        vertical-align: middle;\n",
       "    }\n",
       "\n",
       "    .dataframe tbody tr th {\n",
       "        vertical-align: top;\n",
       "    }\n",
       "\n",
       "    .dataframe thead th {\n",
       "        text-align: right;\n",
       "    }\n",
       "</style>\n",
       "<table border=\"1\" class=\"dataframe\">\n",
       "  <thead>\n",
       "    <tr style=\"text-align: right;\">\n",
       "      <th></th>\n",
       "      <th>cdc_report_dt</th>\n",
       "      <th>Cases</th>\n",
       "      <th>Deaths</th>\n",
       "      <th>Hospitalizations</th>\n",
       "    </tr>\n",
       "  </thead>\n",
       "  <tbody>\n",
       "    <tr>\n",
       "      <th>250</th>\n",
       "      <td>2020-09-11</td>\n",
       "      <td>20163</td>\n",
       "      <td>188</td>\n",
       "      <td>812</td>\n",
       "    </tr>\n",
       "    <tr>\n",
       "      <th>251</th>\n",
       "      <td>2020-09-12</td>\n",
       "      <td>18277</td>\n",
       "      <td>100</td>\n",
       "      <td>574</td>\n",
       "    </tr>\n",
       "    <tr>\n",
       "      <th>252</th>\n",
       "      <td>2020-09-13</td>\n",
       "      <td>15436</td>\n",
       "      <td>154</td>\n",
       "      <td>560</td>\n",
       "    </tr>\n",
       "    <tr>\n",
       "      <th>253</th>\n",
       "      <td>2020-09-14</td>\n",
       "      <td>25893</td>\n",
       "      <td>163</td>\n",
       "      <td>1031</td>\n",
       "    </tr>\n",
       "    <tr>\n",
       "      <th>254</th>\n",
       "      <td>2020-09-15</td>\n",
       "      <td>39927</td>\n",
       "      <td>400</td>\n",
       "      <td>1754</td>\n",
       "    </tr>\n",
       "  </tbody>\n",
       "</table>\n",
       "</div>"
      ],
      "text/plain": [
       "    cdc_report_dt  Cases  Deaths  Hospitalizations\n",
       "250    2020-09-11  20163     188               812\n",
       "251    2020-09-12  18277     100               574\n",
       "252    2020-09-13  15436     154               560\n",
       "253    2020-09-14  25893     163              1031\n",
       "254    2020-09-15  39927     400              1754"
      ]
     },
     "execution_count": 3,
     "metadata": {},
     "output_type": "execute_result"
    }
   ],
   "source": [
    "#read COVID data csv file in as Pandas DataFrame and preview it\n",
    "covid_data = pd.read_csv('covid_data.csv')\n",
    "covid_data.tail()"
   ]
  },
  {
   "cell_type": "code",
   "execution_count": 4,
   "metadata": {},
   "outputs": [
    {
     "data": {
      "text/html": [
       "<div>\n",
       "<style scoped>\n",
       "    .dataframe tbody tr th:only-of-type {\n",
       "        vertical-align: middle;\n",
       "    }\n",
       "\n",
       "    .dataframe tbody tr th {\n",
       "        vertical-align: top;\n",
       "    }\n",
       "\n",
       "    .dataframe thead th {\n",
       "        text-align: right;\n",
       "    }\n",
       "</style>\n",
       "<table border=\"1\" class=\"dataframe\">\n",
       "  <thead>\n",
       "    <tr style=\"text-align: right;\">\n",
       "      <th></th>\n",
       "      <th>Date</th>\n",
       "      <th>Total Traveler Throughput</th>\n",
       "      <th>Total Traveler Throughput_1 Year Ago_Same Weekday</th>\n",
       "    </tr>\n",
       "  </thead>\n",
       "  <tbody>\n",
       "    <tr>\n",
       "      <th>0</th>\n",
       "      <td>10/9/2020</td>\n",
       "      <td>968545.0</td>\n",
       "      <td>2688032.0</td>\n",
       "    </tr>\n",
       "    <tr>\n",
       "      <th>1</th>\n",
       "      <td>10/8/2020</td>\n",
       "      <td>936915.0</td>\n",
       "      <td>2605291.0</td>\n",
       "    </tr>\n",
       "    <tr>\n",
       "      <th>2</th>\n",
       "      <td>10/7/2020</td>\n",
       "      <td>668519.0</td>\n",
       "      <td>2215233.0</td>\n",
       "    </tr>\n",
       "    <tr>\n",
       "      <th>3</th>\n",
       "      <td>10/6/2020</td>\n",
       "      <td>590766.0</td>\n",
       "      <td>2035628.0</td>\n",
       "    </tr>\n",
       "    <tr>\n",
       "      <th>4</th>\n",
       "      <td>10/5/2020</td>\n",
       "      <td>816838.0</td>\n",
       "      <td>2400153.0</td>\n",
       "    </tr>\n",
       "  </tbody>\n",
       "</table>\n",
       "</div>"
      ],
      "text/plain": [
       "        Date  Total Traveler Throughput  \\\n",
       "0  10/9/2020                   968545.0   \n",
       "1  10/8/2020                   936915.0   \n",
       "2  10/7/2020                   668519.0   \n",
       "3  10/6/2020                   590766.0   \n",
       "4  10/5/2020                   816838.0   \n",
       "\n",
       "   Total Traveler Throughput_1 Year Ago_Same Weekday  \n",
       "0                                          2688032.0  \n",
       "1                                          2605291.0  \n",
       "2                                          2215233.0  \n",
       "3                                          2035628.0  \n",
       "4                                          2400153.0  "
      ]
     },
     "execution_count": 4,
     "metadata": {},
     "output_type": "execute_result"
    }
   ],
   "source": [
    "#read TSA data csv file in as a Pandas DataFrame and preview it\n",
    "tsa_data = pd.read_csv('TSA_Data.csv',delimiter=',')\n",
    "tsa_data.head()"
   ]
  },
  {
   "cell_type": "code",
   "execution_count": 6,
   "metadata": {},
   "outputs": [],
   "source": [
    "#The next step is to combine the COVID and TSA DataFrames so that for each day, I have all values\n",
    "\n",
    "#For both DataFrames, I want the date to be the index and I want the date to be the same datetype\n"
   ]
  },
  {
   "cell_type": "markdown",
   "metadata": {},
   "source": [
    "# SECTION 2: Convert Datatypes #"
   ]
  },
  {
   "cell_type": "code",
   "execution_count": 5,
   "metadata": {},
   "outputs": [
    {
     "name": "stdout",
     "output_type": "stream",
     "text": [
      "<class 'pandas.core.frame.DataFrame'>\n",
      "RangeIndex: 255 entries, 0 to 254\n",
      "Data columns (total 4 columns):\n",
      " #   Column            Non-Null Count  Dtype \n",
      "---  ------            --------------  ----- \n",
      " 0   cdc_report_dt     255 non-null    object\n",
      " 1   Cases             255 non-null    int64 \n",
      " 2   Deaths            255 non-null    int64 \n",
      " 3   Hospitalizations  255 non-null    int64 \n",
      "dtypes: int64(3), object(1)\n",
      "memory usage: 8.1+ KB\n"
     ]
    }
   ],
   "source": [
    "#Check the datetype for the COVID DataFrame using .info().  It has changed to an object.\n",
    "covid_data.info()"
   ]
  },
  {
   "cell_type": "code",
   "execution_count": 6,
   "metadata": {},
   "outputs": [
    {
     "name": "stdout",
     "output_type": "stream",
     "text": [
      "<class 'pandas.core.frame.DataFrame'>\n",
      "RangeIndex: 224 entries, 0 to 223\n",
      "Data columns (total 3 columns):\n",
      " #   Column                                             Non-Null Count  Dtype  \n",
      "---  ------                                             --------------  -----  \n",
      " 0   Date                                               223 non-null    object \n",
      " 1   Total Traveler Throughput                          223 non-null    float64\n",
      " 2   Total Traveler Throughput_1 Year Ago_Same Weekday  223 non-null    float64\n",
      "dtypes: float64(2), object(1)\n",
      "memory usage: 5.4+ KB\n"
     ]
    }
   ],
   "source": [
    "#Check the datetype for the TSA DataFrame using .info().  It has changed to an object also.\n",
    "#Note: the traveler numbers also came through as objects also and will need to be converted\n",
    "tsa_data.info()"
   ]
  },
  {
   "cell_type": "markdown",
   "metadata": {},
   "source": [
    "#### Convert dates to datetime64 ####"
   ]
  },
  {
   "cell_type": "code",
   "execution_count": 10,
   "metadata": {},
   "outputs": [],
   "source": [
    "#Import the datetime module and use it to extract date details\n",
    "import datetime\n"
   ]
  },
  {
   "cell_type": "code",
   "execution_count": 11,
   "metadata": {},
   "outputs": [
    {
     "name": "stdout",
     "output_type": "stream",
     "text": [
      "<class 'pandas.core.frame.DataFrame'>\n",
      "RangeIndex: 255 entries, 0 to 254\n",
      "Data columns (total 1 columns):\n",
      " #   Column         Non-Null Count  Dtype         \n",
      "---  ------         --------------  -----         \n",
      " 0   cdc_report_dt  255 non-null    datetime64[ns]\n",
      "dtypes: datetime64[ns](1)\n",
      "memory usage: 2.1 KB\n"
     ]
    }
   ],
   "source": [
    "#Convert the COVID report date\n",
    "case_date = pd.to_datetime(covid_data[\"cdc_report_dt\"]) \n",
    "covid_case_date = pd.DataFrame(case_date)\n",
    "\n",
    "#Check the datatype, it is datetime\n",
    "covid_case_date.info()"
   ]
  },
  {
   "cell_type": "code",
   "execution_count": 12,
   "metadata": {},
   "outputs": [
    {
     "name": "stdout",
     "output_type": "stream",
     "text": [
      "<class 'pandas.core.frame.DataFrame'>\n",
      "RangeIndex: 224 entries, 0 to 223\n",
      "Data columns (total 1 columns):\n",
      " #   Column  Non-Null Count  Dtype         \n",
      "---  ------  --------------  -----         \n",
      " 0   Date    223 non-null    datetime64[ns]\n",
      "dtypes: datetime64[ns](1)\n",
      "memory usage: 1.9 KB\n"
     ]
    }
   ],
   "source": [
    "#Convert the TSA traveler count date\n",
    "tsa_date = pd.to_datetime(tsa_data[\"Date\"]) \n",
    "tsa_travel_date = pd.DataFrame(tsa_date)\n",
    "\n",
    "#Check the datatype, it is datetime\n",
    "tsa_travel_date.info()"
   ]
  },
  {
   "cell_type": "markdown",
   "metadata": {},
   "source": [
    "#### Convert TSA traveler numbers to float64 ####"
   ]
  },
  {
   "cell_type": "code",
   "execution_count": 12,
   "metadata": {},
   "outputs": [
    {
     "name": "stdout",
     "output_type": "stream",
     "text": [
      "<class 'pandas.core.frame.DataFrame'>\n",
      "RangeIndex: 224 entries, 0 to 223\n",
      "Data columns (total 1 columns):\n",
      " #   Column                     Non-Null Count  Dtype  \n",
      "---  ------                     --------------  -----  \n",
      " 0   Total Traveler Throughput  223 non-null    float64\n",
      "dtypes: float64(1)\n",
      "memory usage: 1.9 KB\n",
      "<class 'pandas.core.frame.DataFrame'>\n",
      "RangeIndex: 224 entries, 0 to 223\n",
      "Data columns (total 1 columns):\n",
      " #   Column                                             Non-Null Count  Dtype  \n",
      "---  ------                                             --------------  -----  \n",
      " 0   Total Traveler Throughput_1 Year Ago_Same Weekday  223 non-null    float64\n",
      "dtypes: float64(1)\n",
      "memory usage: 1.9 KB\n"
     ]
    }
   ],
   "source": [
    "#Now I can convert the TSA traveler numbers from Python object datatypes to integer datatypes\n",
    "\n",
    "tsa_2020_1 = pd.to_numeric(tsa_data['Total Traveler Throughput'])\n",
    "tsa_2020 = pd.DataFrame(tsa_2020_1)\n",
    "tsa_2020.info()  #this is my new 2020 traveler number DataFrame, the datatype is float\n",
    "\n",
    "tsa_2019_1 = pd.to_numeric(tsa_data['Total Traveler Throughput_1 Year Ago_Same Weekday'])\n",
    "tsa_2019 = pd.DataFrame(tsa_2019_1)\n",
    "tsa_2019.info()  #this is my new 2019 traveler number DataFrame, the datatype is float"
   ]
  },
  {
   "cell_type": "code",
   "execution_count": 13,
   "metadata": {},
   "outputs": [
    {
     "name": "stdout",
     "output_type": "stream",
     "text": [
      "<class 'pandas.core.frame.DataFrame'>\n",
      "RangeIndex: 224 entries, 0 to 223\n",
      "Data columns (total 1 columns):\n",
      " #   Column                     Non-Null Count  Dtype  \n",
      "---  ------                     --------------  -----  \n",
      " 0   Total Traveler Throughput  223 non-null    float64\n",
      "dtypes: float64(1)\n",
      "memory usage: 1.9 KB\n"
     ]
    }
   ],
   "source": [
    "#Now I can create separate DataFrames using the other datapoints\n",
    "    #I will re-combine them later into one DataFrame together\n",
    "    \n",
    "#These are my COVID datapoints\n",
    "covid_case_date  #the converted covid case date from the COVID DataFrame\n",
    "\n",
    "covid_cases = pd.DataFrame(covid_data['Cases'])\n",
    "covid_deaths = pd.DataFrame(covid_data['Deaths'])\n",
    "covid_hopitalizations = pd.DataFrame(covid_data['Hospitalizations'])\n",
    "\n",
    "#These are my TSA datapoints\n",
    "tsa_travel_date  #the converted tsa traveler count date from the TSA DataFrame\n",
    "\n",
    "tsa_2020 #this is my new 2020 traveler number DataFrame, the datatype is float\n",
    "tsa_2019 #this is my new 2019 traveler number DataFrame, the datatype is float\n",
    "\n",
    "tsa_2020.info()"
   ]
  },
  {
   "cell_type": "code",
   "execution_count": 14,
   "metadata": {},
   "outputs": [],
   "source": [
    "#I don't want to create a combined DataFrame at this stage because there are \n",
    "    #COVID case dates and counts, dated earlier than the TSA traveler date counts\n",
    "    #TSA traveler date counts dated later than the COVID case dates and counts\n",
    "    #If I concatenate the DataFrame columns I just created, they will merge on the index number, not the date\n",
    "    \n",
    "#Next, I will create a COVID DataFrame using the date as the index; I will do the same with the TSA data.\n",
    "#And then I'll merge those two DataFrames\n"
   ]
  },
  {
   "cell_type": "code",
   "execution_count": 15,
   "metadata": {},
   "outputs": [
    {
     "data": {
      "text/html": [
       "<div>\n",
       "<style scoped>\n",
       "    .dataframe tbody tr th:only-of-type {\n",
       "        vertical-align: middle;\n",
       "    }\n",
       "\n",
       "    .dataframe tbody tr th {\n",
       "        vertical-align: top;\n",
       "    }\n",
       "\n",
       "    .dataframe thead th {\n",
       "        text-align: right;\n",
       "    }\n",
       "</style>\n",
       "<table border=\"1\" class=\"dataframe\">\n",
       "  <thead>\n",
       "    <tr style=\"text-align: right;\">\n",
       "      <th></th>\n",
       "      <th>Cases</th>\n",
       "      <th>Deaths</th>\n",
       "      <th>Hospitalizations</th>\n",
       "    </tr>\n",
       "    <tr>\n",
       "      <th>cdc_report_dt</th>\n",
       "      <th></th>\n",
       "      <th></th>\n",
       "      <th></th>\n",
       "    </tr>\n",
       "  </thead>\n",
       "  <tbody>\n",
       "    <tr>\n",
       "      <th>2020-01-01</th>\n",
       "      <td>12</td>\n",
       "      <td>0</td>\n",
       "      <td>1</td>\n",
       "    </tr>\n",
       "    <tr>\n",
       "      <th>2020-01-02</th>\n",
       "      <td>2</td>\n",
       "      <td>0</td>\n",
       "      <td>0</td>\n",
       "    </tr>\n",
       "    <tr>\n",
       "      <th>2020-01-03</th>\n",
       "      <td>2</td>\n",
       "      <td>0</td>\n",
       "      <td>0</td>\n",
       "    </tr>\n",
       "    <tr>\n",
       "      <th>2020-01-05</th>\n",
       "      <td>1</td>\n",
       "      <td>0</td>\n",
       "      <td>0</td>\n",
       "    </tr>\n",
       "    <tr>\n",
       "      <th>2020-01-08</th>\n",
       "      <td>1</td>\n",
       "      <td>0</td>\n",
       "      <td>0</td>\n",
       "    </tr>\n",
       "  </tbody>\n",
       "</table>\n",
       "</div>"
      ],
      "text/plain": [
       "               Cases  Deaths  Hospitalizations\n",
       "cdc_report_dt                                 \n",
       "2020-01-01        12       0                 1\n",
       "2020-01-02         2       0                 0\n",
       "2020-01-03         2       0                 0\n",
       "2020-01-05         1       0                 0\n",
       "2020-01-08         1       0                 0"
      ]
     },
     "execution_count": 15,
     "metadata": {},
     "output_type": "execute_result"
    }
   ],
   "source": [
    "#Concatenate the COVID DataFrame columns \n",
    "covid_df = pd.concat([covid_case_date, covid_cases, covid_deaths, covid_hopitalizations], axis=1)\n",
    "covid_df.head()\n",
    "\n",
    "#Set the Date Column as the Index\n",
    "covid_dataframe = covid_df.set_index('cdc_report_dt')\n",
    "\n",
    "#Preview the new DataFrame\n",
    "covid_dataframe.head()"
   ]
  },
  {
   "cell_type": "code",
   "execution_count": 16,
   "metadata": {},
   "outputs": [
    {
     "data": {
      "text/html": [
       "<div>\n",
       "<style scoped>\n",
       "    .dataframe tbody tr th:only-of-type {\n",
       "        vertical-align: middle;\n",
       "    }\n",
       "\n",
       "    .dataframe tbody tr th {\n",
       "        vertical-align: top;\n",
       "    }\n",
       "\n",
       "    .dataframe thead th {\n",
       "        text-align: right;\n",
       "    }\n",
       "</style>\n",
       "<table border=\"1\" class=\"dataframe\">\n",
       "  <thead>\n",
       "    <tr style=\"text-align: right;\">\n",
       "      <th></th>\n",
       "      <th>Total Traveler Throughput</th>\n",
       "      <th>Total Traveler Throughput_1 Year Ago_Same Weekday</th>\n",
       "    </tr>\n",
       "    <tr>\n",
       "      <th>Date</th>\n",
       "      <th></th>\n",
       "      <th></th>\n",
       "    </tr>\n",
       "  </thead>\n",
       "  <tbody>\n",
       "    <tr>\n",
       "      <th>2020-10-09</th>\n",
       "      <td>968545.0</td>\n",
       "      <td>2688032.0</td>\n",
       "    </tr>\n",
       "    <tr>\n",
       "      <th>2020-10-08</th>\n",
       "      <td>936915.0</td>\n",
       "      <td>2605291.0</td>\n",
       "    </tr>\n",
       "    <tr>\n",
       "      <th>2020-10-07</th>\n",
       "      <td>668519.0</td>\n",
       "      <td>2215233.0</td>\n",
       "    </tr>\n",
       "    <tr>\n",
       "      <th>2020-10-06</th>\n",
       "      <td>590766.0</td>\n",
       "      <td>2035628.0</td>\n",
       "    </tr>\n",
       "    <tr>\n",
       "      <th>2020-10-05</th>\n",
       "      <td>816838.0</td>\n",
       "      <td>2400153.0</td>\n",
       "    </tr>\n",
       "  </tbody>\n",
       "</table>\n",
       "</div>"
      ],
      "text/plain": [
       "            Total Traveler Throughput  \\\n",
       "Date                                    \n",
       "2020-10-09                   968545.0   \n",
       "2020-10-08                   936915.0   \n",
       "2020-10-07                   668519.0   \n",
       "2020-10-06                   590766.0   \n",
       "2020-10-05                   816838.0   \n",
       "\n",
       "            Total Traveler Throughput_1 Year Ago_Same Weekday  \n",
       "Date                                                           \n",
       "2020-10-09                                          2688032.0  \n",
       "2020-10-08                                          2605291.0  \n",
       "2020-10-07                                          2215233.0  \n",
       "2020-10-06                                          2035628.0  \n",
       "2020-10-05                                          2400153.0  "
      ]
     },
     "execution_count": 16,
     "metadata": {},
     "output_type": "execute_result"
    }
   ],
   "source": [
    "#Concatenate the TSA DataFrame columns \n",
    "tsa_df = pd.concat([tsa_travel_date, tsa_2020, tsa_2019], axis=1)\n",
    "\n",
    "#Set the Date Column as the Index\n",
    "tsa_dataframe = tsa_df.set_index('Date')\n",
    "\n",
    "#Preview the new DataFrame\n",
    "tsa_dataframe.head()\n"
   ]
  },
  {
   "cell_type": "code",
   "execution_count": 17,
   "metadata": {},
   "outputs": [
    {
     "data": {
      "text/html": [
       "<div>\n",
       "<style scoped>\n",
       "    .dataframe tbody tr th:only-of-type {\n",
       "        vertical-align: middle;\n",
       "    }\n",
       "\n",
       "    .dataframe tbody tr th {\n",
       "        vertical-align: top;\n",
       "    }\n",
       "\n",
       "    .dataframe thead th {\n",
       "        text-align: right;\n",
       "    }\n",
       "</style>\n",
       "<table border=\"1\" class=\"dataframe\">\n",
       "  <thead>\n",
       "    <tr style=\"text-align: right;\">\n",
       "      <th></th>\n",
       "      <th>Cases</th>\n",
       "      <th>Deaths</th>\n",
       "      <th>Hospitalizations</th>\n",
       "      <th>Total Traveler Throughput</th>\n",
       "      <th>Total Traveler Throughput_1 Year Ago_Same Weekday</th>\n",
       "    </tr>\n",
       "  </thead>\n",
       "  <tbody>\n",
       "    <tr>\n",
       "      <th>2020-09-11</th>\n",
       "      <td>20163</td>\n",
       "      <td>188</td>\n",
       "      <td>812</td>\n",
       "      <td>731353.0</td>\n",
       "      <td>2484025.0</td>\n",
       "    </tr>\n",
       "    <tr>\n",
       "      <th>2020-09-12</th>\n",
       "      <td>18277</td>\n",
       "      <td>100</td>\n",
       "      <td>574</td>\n",
       "      <td>613703.0</td>\n",
       "      <td>1879822.0</td>\n",
       "    </tr>\n",
       "    <tr>\n",
       "      <th>2020-09-13</th>\n",
       "      <td>15436</td>\n",
       "      <td>154</td>\n",
       "      <td>560</td>\n",
       "      <td>809850.0</td>\n",
       "      <td>2485134.0</td>\n",
       "    </tr>\n",
       "    <tr>\n",
       "      <th>2020-09-14</th>\n",
       "      <td>25893</td>\n",
       "      <td>163</td>\n",
       "      <td>1031</td>\n",
       "      <td>729558.0</td>\n",
       "      <td>2405832.0</td>\n",
       "    </tr>\n",
       "    <tr>\n",
       "      <th>2020-09-15</th>\n",
       "      <td>39927</td>\n",
       "      <td>400</td>\n",
       "      <td>1754</td>\n",
       "      <td>522383.0</td>\n",
       "      <td>2013050.0</td>\n",
       "    </tr>\n",
       "  </tbody>\n",
       "</table>\n",
       "</div>"
      ],
      "text/plain": [
       "            Cases  Deaths  Hospitalizations  Total Traveler Throughput  \\\n",
       "2020-09-11  20163     188               812                   731353.0   \n",
       "2020-09-12  18277     100               574                   613703.0   \n",
       "2020-09-13  15436     154               560                   809850.0   \n",
       "2020-09-14  25893     163              1031                   729558.0   \n",
       "2020-09-15  39927     400              1754                   522383.0   \n",
       "\n",
       "            Total Traveler Throughput_1 Year Ago_Same Weekday  \n",
       "2020-09-11                                          2484025.0  \n",
       "2020-09-12                                          1879822.0  \n",
       "2020-09-13                                          2485134.0  \n",
       "2020-09-14                                          2405832.0  \n",
       "2020-09-15                                          2013050.0  "
      ]
     },
     "execution_count": 17,
     "metadata": {},
     "output_type": "execute_result"
    }
   ],
   "source": [
    "#Now, the COVID and TSA DataFrames can be merged together on the Date index\n",
    "    #This will be accomplished with an inner merge\n",
    "    #Which will only join the rows that have matching values (matching dates)\n",
    "    #What will be excluded is any COVID case dates or TSA traveler count dates that are in both DataFrames\n",
    "    \n",
    "merged_df = pd.merge(covid_dataframe, tsa_dataframe, left_index=True, right_index=True)\n",
    "merged_df.tail()"
   ]
  },
  {
   "cell_type": "code",
   "execution_count": 18,
   "metadata": {},
   "outputs": [
    {
     "data": {
      "text/html": [
       "<div>\n",
       "<style scoped>\n",
       "    .dataframe tbody tr th:only-of-type {\n",
       "        vertical-align: middle;\n",
       "    }\n",
       "\n",
       "    .dataframe tbody tr th {\n",
       "        vertical-align: top;\n",
       "    }\n",
       "\n",
       "    .dataframe thead th {\n",
       "        text-align: right;\n",
       "    }\n",
       "</style>\n",
       "<table border=\"1\" class=\"dataframe\">\n",
       "  <thead>\n",
       "    <tr style=\"text-align: right;\">\n",
       "      <th></th>\n",
       "      <th>Cases</th>\n",
       "      <th>Deaths</th>\n",
       "      <th>Hospitalizations</th>\n",
       "      <th>2020 Traveler Count</th>\n",
       "      <th>2019 Traveler Count (Same Weekday)</th>\n",
       "    </tr>\n",
       "  </thead>\n",
       "  <tbody>\n",
       "    <tr>\n",
       "      <th>2020-03-01</th>\n",
       "      <td>233</td>\n",
       "      <td>12</td>\n",
       "      <td>71</td>\n",
       "      <td>2280522.0</td>\n",
       "      <td>2301439.0</td>\n",
       "    </tr>\n",
       "    <tr>\n",
       "      <th>2020-03-02</th>\n",
       "      <td>161</td>\n",
       "      <td>14</td>\n",
       "      <td>46</td>\n",
       "      <td>2089641.0</td>\n",
       "      <td>2257920.0</td>\n",
       "    </tr>\n",
       "    <tr>\n",
       "      <th>2020-03-03</th>\n",
       "      <td>224</td>\n",
       "      <td>11</td>\n",
       "      <td>59</td>\n",
       "      <td>1736393.0</td>\n",
       "      <td>1979558.0</td>\n",
       "    </tr>\n",
       "    <tr>\n",
       "      <th>2020-03-04</th>\n",
       "      <td>217</td>\n",
       "      <td>15</td>\n",
       "      <td>67</td>\n",
       "      <td>1877401.0</td>\n",
       "      <td>2143619.0</td>\n",
       "    </tr>\n",
       "    <tr>\n",
       "      <th>2020-03-05</th>\n",
       "      <td>253</td>\n",
       "      <td>9</td>\n",
       "      <td>73</td>\n",
       "      <td>2130015.0</td>\n",
       "      <td>2402692.0</td>\n",
       "    </tr>\n",
       "  </tbody>\n",
       "</table>\n",
       "</div>"
      ],
      "text/plain": [
       "            Cases  Deaths  Hospitalizations  2020 Traveler Count  \\\n",
       "2020-03-01    233      12                71            2280522.0   \n",
       "2020-03-02    161      14                46            2089641.0   \n",
       "2020-03-03    224      11                59            1736393.0   \n",
       "2020-03-04    217      15                67            1877401.0   \n",
       "2020-03-05    253       9                73            2130015.0   \n",
       "\n",
       "            2019 Traveler Count (Same Weekday)  \n",
       "2020-03-01                           2301439.0  \n",
       "2020-03-02                           2257920.0  \n",
       "2020-03-03                           1979558.0  \n",
       "2020-03-04                           2143619.0  \n",
       "2020-03-05                           2402692.0  "
      ]
     },
     "execution_count": 18,
     "metadata": {},
     "output_type": "execute_result"
    }
   ],
   "source": [
    "#Finally, I want to rename my columns so that they are easier to consume\n",
    "\n",
    "covid_travel = merged_df.rename(columns = {'Total Traveler Throughput': '2020 Traveler Count', 'Total Traveler Throughput_1 Year Ago_Same Weekday': '2019 Traveler Count (Same Weekday)'})\n",
    "covid_travel.head()\n",
    "\n",
    "#Datetime format = year-month-day"
   ]
  },
  {
   "cell_type": "code",
   "execution_count": 19,
   "metadata": {},
   "outputs": [
    {
     "name": "stdout",
     "output_type": "stream",
     "text": [
      "<class 'pandas.core.frame.DataFrame'>\n",
      "DatetimeIndex: 199 entries, 2020-03-01 to 2020-09-15\n",
      "Freq: D\n",
      "Data columns (total 5 columns):\n",
      " #   Column                              Non-Null Count  Dtype  \n",
      "---  ------                              --------------  -----  \n",
      " 0   Cases                               199 non-null    int64  \n",
      " 1   Deaths                              199 non-null    int64  \n",
      " 2   Hospitalizations                    199 non-null    int64  \n",
      " 3   2020 Traveler Count                 199 non-null    float64\n",
      " 4   2019 Traveler Count (Same Weekday)  199 non-null    float64\n",
      "dtypes: float64(2), int64(3)\n",
      "memory usage: 9.3 KB\n"
     ]
    }
   ],
   "source": [
    "#And here is the information about this finalized DataFrame\n",
    "covid_travel.info()"
   ]
  },
  {
   "cell_type": "code",
   "execution_count": 20,
   "metadata": {},
   "outputs": [],
   "source": [
    "#Now, I want to store this DataFrame as a .csv in order to open it in a different ('Visualization') notebook.\n",
    "\n",
    "covid_travel.to_csv('covid_travel.csv')"
   ]
  }
 ],
 "metadata": {
  "kernelspec": {
   "display_name": "Python 3",
   "language": "python",
   "name": "python3"
  },
  "language_info": {
   "codemirror_mode": {
    "name": "ipython",
    "version": 3
   },
   "file_extension": ".py",
   "mimetype": "text/x-python",
   "name": "python",
   "nbconvert_exporter": "python",
   "pygments_lexer": "ipython3",
   "version": "3.7.8"
  }
 },
 "nbformat": 4,
 "nbformat_minor": 4
}
