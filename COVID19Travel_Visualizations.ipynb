{
 "cells": [
  {
   "cell_type": "markdown",
   "metadata": {},
   "source": [
    "# OVERVIEW #\n",
    "\n",
    "This notebook imports the United States COVID and airline traveler DataFrame exported as .csv in the COVID19_Travel_Create_DataFrames notebook.\n",
    "\n",
    "\n",
    "In the COVID19_Travel_Create_DataFrames.ipynb file, United States COVID data and airline traveler data was imported from .csv, saved in DataFrames, converted into useful datatypes, and then merged into a single DataFrame.  That DataFrame was then exported as a .csv file.\n",
    "\n",
    "\n",
    "This notebook presents key questions about the data, creates visualizations using Seaborn, and presents observations.  "
   ]
  },
  {
   "cell_type": "code",
   "execution_count": 1,
   "metadata": {},
   "outputs": [],
   "source": [
    "#Import Time, Datetime, MatPlotLib, Seaborn, Pandas, Numpy\n",
    "import time\n",
    "import datetime\n",
    "import matplotlib.pyplot as plt\n",
    "import seaborn as sns\n",
    "import pandas as pd\n",
    "import numpy as np\n"
   ]
  },
  {
   "cell_type": "markdown",
   "metadata": {},
   "source": [
    "# SECTION 1: Key Questions #"
   ]
  },
  {
   "cell_type": "markdown",
   "metadata": {},
   "source": [
    "#### Here are key questions explored through this analysis: ####\n",
    "\n",
    "\n",
    "1. What was 'typical' travel like each month in 2019 and 2020?  \n",
    "\n",
    "\n",
    "2. What were the COVID trends in 2020 for those same date ranges?  \n",
    "\n",
    "\n",
    "3. What was the correlation between COVID and travel in the *early* (March/April), *middle* (May -July), and *late( (Aug - Oct) parts of the 'first wave' of COVID 2020?\n",
    "\n",
    "*Note: the longer term plan is to continue to follow the trend through the end of 2020 and into 2021 as the COVID second wave plays out this Fall/Winter.*"
   ]
  },
  {
   "cell_type": "markdown",
   "metadata": {},
   "source": [
    "# SECTION 2: Import and Convert the Data #"
   ]
  },
  {
   "cell_type": "markdown",
   "metadata": {},
   "source": [
    "#### Import and preview the .csv file ####"
   ]
  },
  {
   "cell_type": "markdown",
   "metadata": {},
   "source": [
    "\n",
    "    "
   ]
  },
  {
   "cell_type": "code",
   "execution_count": 2,
   "metadata": {},
   "outputs": [
    {
     "data": {
      "text/html": [
       "<div>\n",
       "<style scoped>\n",
       "    .dataframe tbody tr th:only-of-type {\n",
       "        vertical-align: middle;\n",
       "    }\n",
       "\n",
       "    .dataframe tbody tr th {\n",
       "        vertical-align: top;\n",
       "    }\n",
       "\n",
       "    .dataframe thead th {\n",
       "        text-align: right;\n",
       "    }\n",
       "</style>\n",
       "<table border=\"1\" class=\"dataframe\">\n",
       "  <thead>\n",
       "    <tr style=\"text-align: right;\">\n",
       "      <th></th>\n",
       "      <th>Unnamed: 0</th>\n",
       "      <th>Cases</th>\n",
       "      <th>Deaths</th>\n",
       "      <th>Hospitalizations</th>\n",
       "      <th>2020 Traveler Count</th>\n",
       "      <th>2019 Traveler Count (Same Weekday)</th>\n",
       "    </tr>\n",
       "  </thead>\n",
       "  <tbody>\n",
       "    <tr>\n",
       "      <th>194</th>\n",
       "      <td>2020-09-11</td>\n",
       "      <td>20163</td>\n",
       "      <td>188</td>\n",
       "      <td>812</td>\n",
       "      <td>731353.0</td>\n",
       "      <td>2484025.0</td>\n",
       "    </tr>\n",
       "    <tr>\n",
       "      <th>195</th>\n",
       "      <td>2020-09-12</td>\n",
       "      <td>18277</td>\n",
       "      <td>100</td>\n",
       "      <td>574</td>\n",
       "      <td>613703.0</td>\n",
       "      <td>1879822.0</td>\n",
       "    </tr>\n",
       "    <tr>\n",
       "      <th>196</th>\n",
       "      <td>2020-09-13</td>\n",
       "      <td>15436</td>\n",
       "      <td>154</td>\n",
       "      <td>560</td>\n",
       "      <td>809850.0</td>\n",
       "      <td>2485134.0</td>\n",
       "    </tr>\n",
       "    <tr>\n",
       "      <th>197</th>\n",
       "      <td>2020-09-14</td>\n",
       "      <td>25893</td>\n",
       "      <td>163</td>\n",
       "      <td>1031</td>\n",
       "      <td>729558.0</td>\n",
       "      <td>2405832.0</td>\n",
       "    </tr>\n",
       "    <tr>\n",
       "      <th>198</th>\n",
       "      <td>2020-09-15</td>\n",
       "      <td>39927</td>\n",
       "      <td>400</td>\n",
       "      <td>1754</td>\n",
       "      <td>522383.0</td>\n",
       "      <td>2013050.0</td>\n",
       "    </tr>\n",
       "  </tbody>\n",
       "</table>\n",
       "</div>"
      ],
      "text/plain": [
       "     Unnamed: 0  Cases  Deaths  Hospitalizations  2020 Traveler Count  \\\n",
       "194  2020-09-11  20163     188               812             731353.0   \n",
       "195  2020-09-12  18277     100               574             613703.0   \n",
       "196  2020-09-13  15436     154               560             809850.0   \n",
       "197  2020-09-14  25893     163              1031             729558.0   \n",
       "198  2020-09-15  39927     400              1754             522383.0   \n",
       "\n",
       "     2019 Traveler Count (Same Weekday)  \n",
       "194                           2484025.0  \n",
       "195                           1879822.0  \n",
       "196                           2485134.0  \n",
       "197                           2405832.0  \n",
       "198                           2013050.0  "
      ]
     },
     "execution_count": 2,
     "metadata": {},
     "output_type": "execute_result"
    }
   ],
   "source": [
    "#Import the COVID DataFrame created and saved as .csv in the 'COVID19Travel_Create_DataFrames' notebook\n",
    "\n",
    "covid_travel = pd.read_csv('covid_travel.csv')\n",
    "\n",
    "#Preview the DataFrame\n",
    "\n",
    "covid_travel.tail()"
   ]
  },
  {
   "cell_type": "markdown",
   "metadata": {},
   "source": [
    "*The use of the .csv file added added a numbered index to the data, instead of using the dates as the index.  This is beneficial because the dates need to be in their own column in order to include them in the visualizations.\n"
   ]
  },
  {
   "cell_type": "markdown",
   "metadata": {},
   "source": [
    "#### Check the datatypes and rename the dates column ####"
   ]
  },
  {
   "cell_type": "code",
   "execution_count": 3,
   "metadata": {},
   "outputs": [
    {
     "name": "stdout",
     "output_type": "stream",
     "text": [
      "<class 'pandas.core.frame.DataFrame'>\n",
      "RangeIndex: 199 entries, 0 to 198\n",
      "Data columns (total 6 columns):\n",
      " #   Column                              Non-Null Count  Dtype  \n",
      "---  ------                              --------------  -----  \n",
      " 0   Unnamed: 0                          199 non-null    object \n",
      " 1   Cases                               199 non-null    int64  \n",
      " 2   Deaths                              199 non-null    int64  \n",
      " 3   Hospitalizations                    199 non-null    int64  \n",
      " 4   2020 Traveler Count                 199 non-null    float64\n",
      " 5   2019 Traveler Count (Same Weekday)  199 non-null    float64\n",
      "dtypes: float64(2), int64(3), object(1)\n",
      "memory usage: 9.5+ KB\n"
     ]
    }
   ],
   "source": [
    "#Check the datatypes\n",
    "covid_travel.info()\n",
    "\n",
    "#The dates column can be renamed and the values re-converted to date datatypes"
   ]
  },
  {
   "cell_type": "code",
   "execution_count": 4,
   "metadata": {},
   "outputs": [
    {
     "data": {
      "text/html": [
       "<div>\n",
       "<style scoped>\n",
       "    .dataframe tbody tr th:only-of-type {\n",
       "        vertical-align: middle;\n",
       "    }\n",
       "\n",
       "    .dataframe tbody tr th {\n",
       "        vertical-align: top;\n",
       "    }\n",
       "\n",
       "    .dataframe thead th {\n",
       "        text-align: right;\n",
       "    }\n",
       "</style>\n",
       "<table border=\"1\" class=\"dataframe\">\n",
       "  <thead>\n",
       "    <tr style=\"text-align: right;\">\n",
       "      <th></th>\n",
       "      <th>Date</th>\n",
       "      <th>Cases</th>\n",
       "      <th>Deaths</th>\n",
       "      <th>Hospitalizations</th>\n",
       "      <th>2020 Traveler Count</th>\n",
       "      <th>2019 Traveler Count (Same Weekday)</th>\n",
       "    </tr>\n",
       "  </thead>\n",
       "  <tbody>\n",
       "    <tr>\n",
       "      <th>0</th>\n",
       "      <td>2020-03-01</td>\n",
       "      <td>233</td>\n",
       "      <td>12</td>\n",
       "      <td>71</td>\n",
       "      <td>2280522.0</td>\n",
       "      <td>2301439.0</td>\n",
       "    </tr>\n",
       "    <tr>\n",
       "      <th>1</th>\n",
       "      <td>2020-03-02</td>\n",
       "      <td>161</td>\n",
       "      <td>14</td>\n",
       "      <td>46</td>\n",
       "      <td>2089641.0</td>\n",
       "      <td>2257920.0</td>\n",
       "    </tr>\n",
       "    <tr>\n",
       "      <th>2</th>\n",
       "      <td>2020-03-03</td>\n",
       "      <td>224</td>\n",
       "      <td>11</td>\n",
       "      <td>59</td>\n",
       "      <td>1736393.0</td>\n",
       "      <td>1979558.0</td>\n",
       "    </tr>\n",
       "    <tr>\n",
       "      <th>3</th>\n",
       "      <td>2020-03-04</td>\n",
       "      <td>217</td>\n",
       "      <td>15</td>\n",
       "      <td>67</td>\n",
       "      <td>1877401.0</td>\n",
       "      <td>2143619.0</td>\n",
       "    </tr>\n",
       "    <tr>\n",
       "      <th>4</th>\n",
       "      <td>2020-03-05</td>\n",
       "      <td>253</td>\n",
       "      <td>9</td>\n",
       "      <td>73</td>\n",
       "      <td>2130015.0</td>\n",
       "      <td>2402692.0</td>\n",
       "    </tr>\n",
       "  </tbody>\n",
       "</table>\n",
       "</div>"
      ],
      "text/plain": [
       "         Date  Cases  Deaths  Hospitalizations  2020 Traveler Count  \\\n",
       "0  2020-03-01    233      12                71            2280522.0   \n",
       "1  2020-03-02    161      14                46            2089641.0   \n",
       "2  2020-03-03    224      11                59            1736393.0   \n",
       "3  2020-03-04    217      15                67            1877401.0   \n",
       "4  2020-03-05    253       9                73            2130015.0   \n",
       "\n",
       "   2019 Traveler Count (Same Weekday)  \n",
       "0                           2301439.0  \n",
       "1                           2257920.0  \n",
       "2                           1979558.0  \n",
       "3                           2143619.0  \n",
       "4                           2402692.0  "
      ]
     },
     "execution_count": 4,
     "metadata": {},
     "output_type": "execute_result"
    }
   ],
   "source": [
    "#Rename the dates column, from 'Unnamed'\n",
    "\n",
    "covid_df = covid_travel.rename(columns = {\"Unnamed: 0\": \"Date\"})\n",
    "covid_df.head()"
   ]
  },
  {
   "cell_type": "markdown",
   "metadata": {},
   "source": [
    "#### Convert the datatypes ####"
   ]
  },
  {
   "cell_type": "code",
   "execution_count": 5,
   "metadata": {},
   "outputs": [
    {
     "name": "stdout",
     "output_type": "stream",
     "text": [
      "<class 'pandas.core.frame.DataFrame'>\n",
      "RangeIndex: 199 entries, 0 to 198\n",
      "Data columns (total 6 columns):\n",
      " #   Column                              Non-Null Count  Dtype         \n",
      "---  ------                              --------------  -----         \n",
      " 0   Date                                199 non-null    datetime64[ns]\n",
      " 1   Cases                               199 non-null    int64         \n",
      " 2   Deaths                              199 non-null    int64         \n",
      " 3   Hospitalizations                    199 non-null    int64         \n",
      " 4   2020 Traveler Count                 199 non-null    float64       \n",
      " 5   2019 Traveler Count (Same Weekday)  199 non-null    float64       \n",
      "dtypes: datetime64[ns](1), float64(2), int64(3)\n",
      "memory usage: 9.5 KB\n"
     ]
    }
   ],
   "source": [
    "#Import the datetime module\n",
    "import datetime\n",
    "\n",
    "#Convert the dates in the date column\n",
    "covid_df['Date'] = pd.to_datetime(covid_df['Date'])\n",
    "\n",
    "#Check the datatype for each column - the Date column is now datetime\n",
    "covid_df.info()"
   ]
  },
  {
   "cell_type": "code",
   "execution_count": 6,
   "metadata": {},
   "outputs": [
    {
     "data": {
      "text/html": [
       "<div>\n",
       "<style scoped>\n",
       "    .dataframe tbody tr th:only-of-type {\n",
       "        vertical-align: middle;\n",
       "    }\n",
       "\n",
       "    .dataframe tbody tr th {\n",
       "        vertical-align: top;\n",
       "    }\n",
       "\n",
       "    .dataframe thead th {\n",
       "        text-align: right;\n",
       "    }\n",
       "</style>\n",
       "<table border=\"1\" class=\"dataframe\">\n",
       "  <thead>\n",
       "    <tr style=\"text-align: right;\">\n",
       "      <th></th>\n",
       "      <th>Date</th>\n",
       "      <th>Cases</th>\n",
       "      <th>Deaths</th>\n",
       "      <th>Hospitalizations</th>\n",
       "      <th>2020 Traveler Count</th>\n",
       "      <th>2019 Traveler Count (Same Weekday)</th>\n",
       "    </tr>\n",
       "  </thead>\n",
       "  <tbody>\n",
       "    <tr>\n",
       "      <th>0</th>\n",
       "      <td>2020-03-01</td>\n",
       "      <td>233</td>\n",
       "      <td>12</td>\n",
       "      <td>71</td>\n",
       "      <td>2280522.0</td>\n",
       "      <td>2301439.0</td>\n",
       "    </tr>\n",
       "    <tr>\n",
       "      <th>1</th>\n",
       "      <td>2020-03-02</td>\n",
       "      <td>161</td>\n",
       "      <td>14</td>\n",
       "      <td>46</td>\n",
       "      <td>2089641.0</td>\n",
       "      <td>2257920.0</td>\n",
       "    </tr>\n",
       "    <tr>\n",
       "      <th>2</th>\n",
       "      <td>2020-03-03</td>\n",
       "      <td>224</td>\n",
       "      <td>11</td>\n",
       "      <td>59</td>\n",
       "      <td>1736393.0</td>\n",
       "      <td>1979558.0</td>\n",
       "    </tr>\n",
       "    <tr>\n",
       "      <th>3</th>\n",
       "      <td>2020-03-04</td>\n",
       "      <td>217</td>\n",
       "      <td>15</td>\n",
       "      <td>67</td>\n",
       "      <td>1877401.0</td>\n",
       "      <td>2143619.0</td>\n",
       "    </tr>\n",
       "    <tr>\n",
       "      <th>4</th>\n",
       "      <td>2020-03-05</td>\n",
       "      <td>253</td>\n",
       "      <td>9</td>\n",
       "      <td>73</td>\n",
       "      <td>2130015.0</td>\n",
       "      <td>2402692.0</td>\n",
       "    </tr>\n",
       "  </tbody>\n",
       "</table>\n",
       "</div>"
      ],
      "text/plain": [
       "        Date  Cases  Deaths  Hospitalizations  2020 Traveler Count  \\\n",
       "0 2020-03-01    233      12                71            2280522.0   \n",
       "1 2020-03-02    161      14                46            2089641.0   \n",
       "2 2020-03-03    224      11                59            1736393.0   \n",
       "3 2020-03-04    217      15                67            1877401.0   \n",
       "4 2020-03-05    253       9                73            2130015.0   \n",
       "\n",
       "   2019 Traveler Count (Same Weekday)  \n",
       "0                           2301439.0  \n",
       "1                           2257920.0  \n",
       "2                           1979558.0  \n",
       "3                           2143619.0  \n",
       "4                           2402692.0  "
      ]
     },
     "execution_count": 6,
     "metadata": {},
     "output_type": "execute_result"
    }
   ],
   "source": [
    "covid_df.head()"
   ]
  },
  {
   "cell_type": "markdown",
   "metadata": {},
   "source": [
    "# SECTION 3: Create categories for plotting #"
   ]
  },
  {
   "cell_type": "markdown",
   "metadata": {},
   "source": [
    "#### Create bins to summarize the data by month ####\n",
    "\n",
    "\n",
    "Datetime datatypes cannot be binned with the pd.cut() method.\n",
    "\n",
    "\n",
    "Instead, a month index (number of the month) is created for each date first and that is used for the bins."
   ]
  },
  {
   "cell_type": "code",
   "execution_count": 7,
   "metadata": {},
   "outputs": [
    {
     "data": {
      "text/html": [
       "<div>\n",
       "<style scoped>\n",
       "    .dataframe tbody tr th:only-of-type {\n",
       "        vertical-align: middle;\n",
       "    }\n",
       "\n",
       "    .dataframe tbody tr th {\n",
       "        vertical-align: top;\n",
       "    }\n",
       "\n",
       "    .dataframe thead th {\n",
       "        text-align: right;\n",
       "    }\n",
       "</style>\n",
       "<table border=\"1\" class=\"dataframe\">\n",
       "  <thead>\n",
       "    <tr style=\"text-align: right;\">\n",
       "      <th></th>\n",
       "      <th>Date</th>\n",
       "      <th>Cases</th>\n",
       "      <th>Deaths</th>\n",
       "      <th>Hospitalizations</th>\n",
       "      <th>2020 Traveler Count</th>\n",
       "      <th>2019 Traveler Count (Same Weekday)</th>\n",
       "      <th>Month_Index</th>\n",
       "      <th>Month</th>\n",
       "    </tr>\n",
       "  </thead>\n",
       "  <tbody>\n",
       "    <tr>\n",
       "      <th>0</th>\n",
       "      <td>2020-03-01</td>\n",
       "      <td>233</td>\n",
       "      <td>12</td>\n",
       "      <td>71</td>\n",
       "      <td>2280522.0</td>\n",
       "      <td>2301439.0</td>\n",
       "      <td>3</td>\n",
       "      <td>Mar</td>\n",
       "    </tr>\n",
       "    <tr>\n",
       "      <th>1</th>\n",
       "      <td>2020-03-02</td>\n",
       "      <td>161</td>\n",
       "      <td>14</td>\n",
       "      <td>46</td>\n",
       "      <td>2089641.0</td>\n",
       "      <td>2257920.0</td>\n",
       "      <td>3</td>\n",
       "      <td>Mar</td>\n",
       "    </tr>\n",
       "    <tr>\n",
       "      <th>2</th>\n",
       "      <td>2020-03-03</td>\n",
       "      <td>224</td>\n",
       "      <td>11</td>\n",
       "      <td>59</td>\n",
       "      <td>1736393.0</td>\n",
       "      <td>1979558.0</td>\n",
       "      <td>3</td>\n",
       "      <td>Mar</td>\n",
       "    </tr>\n",
       "    <tr>\n",
       "      <th>3</th>\n",
       "      <td>2020-03-04</td>\n",
       "      <td>217</td>\n",
       "      <td>15</td>\n",
       "      <td>67</td>\n",
       "      <td>1877401.0</td>\n",
       "      <td>2143619.0</td>\n",
       "      <td>3</td>\n",
       "      <td>Mar</td>\n",
       "    </tr>\n",
       "    <tr>\n",
       "      <th>4</th>\n",
       "      <td>2020-03-05</td>\n",
       "      <td>253</td>\n",
       "      <td>9</td>\n",
       "      <td>73</td>\n",
       "      <td>2130015.0</td>\n",
       "      <td>2402692.0</td>\n",
       "      <td>3</td>\n",
       "      <td>Mar</td>\n",
       "    </tr>\n",
       "  </tbody>\n",
       "</table>\n",
       "</div>"
      ],
      "text/plain": [
       "        Date  Cases  Deaths  Hospitalizations  2020 Traveler Count  \\\n",
       "0 2020-03-01    233      12                71            2280522.0   \n",
       "1 2020-03-02    161      14                46            2089641.0   \n",
       "2 2020-03-03    224      11                59            1736393.0   \n",
       "3 2020-03-04    217      15                67            1877401.0   \n",
       "4 2020-03-05    253       9                73            2130015.0   \n",
       "\n",
       "   2019 Traveler Count (Same Weekday)  Month_Index Month  \n",
       "0                           2301439.0            3   Mar  \n",
       "1                           2257920.0            3   Mar  \n",
       "2                           1979558.0            3   Mar  \n",
       "3                           2143619.0            3   Mar  \n",
       "4                           2402692.0            3   Mar  "
      ]
     },
     "execution_count": 7,
     "metadata": {},
     "output_type": "execute_result"
    }
   ],
   "source": [
    "#Create a month index for each date and list as a separate column\n",
    "covid_df[\"Month_Index\"] = pd.DatetimeIndex(covid_df[\"Date\"]).month\n",
    " \n",
    "#Create bins using pd.cut() on the new \"Month\" column and append them to the DataFrame\n",
    "month_bins = [1, 2, 3, 4, 5, 6, 7, 8, 9, 10, 11, 12, 13]\n",
    "month_labels = [\"Feb\", \"Mar\", \"Apr\", \"May\", \"June\", \"July\", \"Aug\", \"Sept\", \"Oct\", \"Nov\", \"Dec\", \"Jan\"]\n",
    "covid_df[\"Month\"] = pd.cut(covid_df[\"Month_Index\"], month_bins, labels=month_labels)\n",
    "\n",
    "covid_df.head()"
   ]
  },
  {
   "cell_type": "markdown",
   "metadata": {},
   "source": [
    "#### Pivot the data so that it can be plotted ####"
   ]
  },
  {
   "cell_type": "code",
   "execution_count": 8,
   "metadata": {},
   "outputs": [
    {
     "data": {
      "text/html": [
       "<div>\n",
       "<style scoped>\n",
       "    .dataframe tbody tr th:only-of-type {\n",
       "        vertical-align: middle;\n",
       "    }\n",
       "\n",
       "    .dataframe tbody tr th {\n",
       "        vertical-align: top;\n",
       "    }\n",
       "\n",
       "    .dataframe thead th {\n",
       "        text-align: right;\n",
       "    }\n",
       "</style>\n",
       "<table border=\"1\" class=\"dataframe\">\n",
       "  <thead>\n",
       "    <tr style=\"text-align: right;\">\n",
       "      <th></th>\n",
       "      <th>Date</th>\n",
       "      <th>Travelers</th>\n",
       "      <th>Counts</th>\n",
       "    </tr>\n",
       "  </thead>\n",
       "  <tbody>\n",
       "    <tr>\n",
       "      <th>0</th>\n",
       "      <td>2020-03-01</td>\n",
       "      <td>2020 Traveler Count</td>\n",
       "      <td>2280522.0</td>\n",
       "    </tr>\n",
       "    <tr>\n",
       "      <th>1</th>\n",
       "      <td>2020-03-02</td>\n",
       "      <td>2020 Traveler Count</td>\n",
       "      <td>2089641.0</td>\n",
       "    </tr>\n",
       "    <tr>\n",
       "      <th>2</th>\n",
       "      <td>2020-03-03</td>\n",
       "      <td>2020 Traveler Count</td>\n",
       "      <td>1736393.0</td>\n",
       "    </tr>\n",
       "    <tr>\n",
       "      <th>3</th>\n",
       "      <td>2020-03-04</td>\n",
       "      <td>2020 Traveler Count</td>\n",
       "      <td>1877401.0</td>\n",
       "    </tr>\n",
       "    <tr>\n",
       "      <th>4</th>\n",
       "      <td>2020-03-05</td>\n",
       "      <td>2020 Traveler Count</td>\n",
       "      <td>2130015.0</td>\n",
       "    </tr>\n",
       "    <tr>\n",
       "      <th>...</th>\n",
       "      <td>...</td>\n",
       "      <td>...</td>\n",
       "      <td>...</td>\n",
       "    </tr>\n",
       "    <tr>\n",
       "      <th>393</th>\n",
       "      <td>2020-09-11</td>\n",
       "      <td>2019 Traveler Count (Same Weekday)</td>\n",
       "      <td>2484025.0</td>\n",
       "    </tr>\n",
       "    <tr>\n",
       "      <th>394</th>\n",
       "      <td>2020-09-12</td>\n",
       "      <td>2019 Traveler Count (Same Weekday)</td>\n",
       "      <td>1879822.0</td>\n",
       "    </tr>\n",
       "    <tr>\n",
       "      <th>395</th>\n",
       "      <td>2020-09-13</td>\n",
       "      <td>2019 Traveler Count (Same Weekday)</td>\n",
       "      <td>2485134.0</td>\n",
       "    </tr>\n",
       "    <tr>\n",
       "      <th>396</th>\n",
       "      <td>2020-09-14</td>\n",
       "      <td>2019 Traveler Count (Same Weekday)</td>\n",
       "      <td>2405832.0</td>\n",
       "    </tr>\n",
       "    <tr>\n",
       "      <th>397</th>\n",
       "      <td>2020-09-15</td>\n",
       "      <td>2019 Traveler Count (Same Weekday)</td>\n",
       "      <td>2013050.0</td>\n",
       "    </tr>\n",
       "  </tbody>\n",
       "</table>\n",
       "<p>398 rows × 3 columns</p>\n",
       "</div>"
      ],
      "text/plain": [
       "          Date                           Travelers     Counts\n",
       "0   2020-03-01                 2020 Traveler Count  2280522.0\n",
       "1   2020-03-02                 2020 Traveler Count  2089641.0\n",
       "2   2020-03-03                 2020 Traveler Count  1736393.0\n",
       "3   2020-03-04                 2020 Traveler Count  1877401.0\n",
       "4   2020-03-05                 2020 Traveler Count  2130015.0\n",
       "..         ...                                 ...        ...\n",
       "393 2020-09-11  2019 Traveler Count (Same Weekday)  2484025.0\n",
       "394 2020-09-12  2019 Traveler Count (Same Weekday)  1879822.0\n",
       "395 2020-09-13  2019 Traveler Count (Same Weekday)  2485134.0\n",
       "396 2020-09-14  2019 Traveler Count (Same Weekday)  2405832.0\n",
       "397 2020-09-15  2019 Traveler Count (Same Weekday)  2013050.0\n",
       "\n",
       "[398 rows x 3 columns]"
      ]
     },
     "execution_count": 8,
     "metadata": {},
     "output_type": "execute_result"
    }
   ],
   "source": [
    "#Use the pd.melt() method to pivot the 2019 and 2020 traveler counts so that they can be called from the same column\n",
    "tsa_plots = pd.melt(covid_df, id_vars=['Date'], value_vars=['2020 Traveler Count', '2019 Traveler Count (Same Weekday)'], var_name='Travelers', value_name='Counts')\n",
    "tsa_plots"
   ]
  },
  {
   "cell_type": "code",
   "execution_count": 9,
   "metadata": {},
   "outputs": [
    {
     "data": {
      "text/html": [
       "<div>\n",
       "<style scoped>\n",
       "    .dataframe tbody tr th:only-of-type {\n",
       "        vertical-align: middle;\n",
       "    }\n",
       "\n",
       "    .dataframe tbody tr th {\n",
       "        vertical-align: top;\n",
       "    }\n",
       "\n",
       "    .dataframe thead th {\n",
       "        text-align: right;\n",
       "    }\n",
       "</style>\n",
       "<table border=\"1\" class=\"dataframe\">\n",
       "  <thead>\n",
       "    <tr style=\"text-align: right;\">\n",
       "      <th></th>\n",
       "      <th>Month</th>\n",
       "      <th>COVID Metrics</th>\n",
       "      <th>Counts</th>\n",
       "    </tr>\n",
       "  </thead>\n",
       "  <tbody>\n",
       "    <tr>\n",
       "      <th>0</th>\n",
       "      <td>Mar</td>\n",
       "      <td>Cases</td>\n",
       "      <td>233</td>\n",
       "    </tr>\n",
       "    <tr>\n",
       "      <th>1</th>\n",
       "      <td>Mar</td>\n",
       "      <td>Cases</td>\n",
       "      <td>161</td>\n",
       "    </tr>\n",
       "    <tr>\n",
       "      <th>2</th>\n",
       "      <td>Mar</td>\n",
       "      <td>Cases</td>\n",
       "      <td>224</td>\n",
       "    </tr>\n",
       "    <tr>\n",
       "      <th>3</th>\n",
       "      <td>Mar</td>\n",
       "      <td>Cases</td>\n",
       "      <td>217</td>\n",
       "    </tr>\n",
       "    <tr>\n",
       "      <th>4</th>\n",
       "      <td>Mar</td>\n",
       "      <td>Cases</td>\n",
       "      <td>253</td>\n",
       "    </tr>\n",
       "    <tr>\n",
       "      <th>...</th>\n",
       "      <td>...</td>\n",
       "      <td>...</td>\n",
       "      <td>...</td>\n",
       "    </tr>\n",
       "    <tr>\n",
       "      <th>592</th>\n",
       "      <td>Sept</td>\n",
       "      <td>Hospitalizations</td>\n",
       "      <td>812</td>\n",
       "    </tr>\n",
       "    <tr>\n",
       "      <th>593</th>\n",
       "      <td>Sept</td>\n",
       "      <td>Hospitalizations</td>\n",
       "      <td>574</td>\n",
       "    </tr>\n",
       "    <tr>\n",
       "      <th>594</th>\n",
       "      <td>Sept</td>\n",
       "      <td>Hospitalizations</td>\n",
       "      <td>560</td>\n",
       "    </tr>\n",
       "    <tr>\n",
       "      <th>595</th>\n",
       "      <td>Sept</td>\n",
       "      <td>Hospitalizations</td>\n",
       "      <td>1031</td>\n",
       "    </tr>\n",
       "    <tr>\n",
       "      <th>596</th>\n",
       "      <td>Sept</td>\n",
       "      <td>Hospitalizations</td>\n",
       "      <td>1754</td>\n",
       "    </tr>\n",
       "  </tbody>\n",
       "</table>\n",
       "<p>597 rows × 3 columns</p>\n",
       "</div>"
      ],
      "text/plain": [
       "    Month     COVID Metrics  Counts\n",
       "0     Mar             Cases     233\n",
       "1     Mar             Cases     161\n",
       "2     Mar             Cases     224\n",
       "3     Mar             Cases     217\n",
       "4     Mar             Cases     253\n",
       "..    ...               ...     ...\n",
       "592  Sept  Hospitalizations     812\n",
       "593  Sept  Hospitalizations     574\n",
       "594  Sept  Hospitalizations     560\n",
       "595  Sept  Hospitalizations    1031\n",
       "596  Sept  Hospitalizations    1754\n",
       "\n",
       "[597 rows x 3 columns]"
      ]
     },
     "execution_count": 9,
     "metadata": {},
     "output_type": "execute_result"
    }
   ],
   "source": [
    "#Use the pd.melt() method to pivot the covid counts so that they can be called from the same column\n",
    "covid_plots = pd.melt(covid_df, id_vars=['Month'], value_vars=['Cases', 'Deaths', 'Hospitalizations'], var_name='COVID Metrics', value_name='Counts')\n",
    "covid_plots\n"
   ]
  },
  {
   "cell_type": "markdown",
   "metadata": {},
   "source": [
    "# SECTION 4: Visualizations #"
   ]
  },
  {
   "cell_type": "markdown",
   "metadata": {},
   "source": [
    "## Question 1: What did 2019 and 2020 Airline Travel count look like? ##\n",
    "\n",
    "My prediction is that there will be far less travelers in 2019 than in 2020."
   ]
  },
  {
   "cell_type": "code",
   "execution_count": 29,
   "metadata": {},
   "outputs": [
    {
     "data": {
      "image/png": "[encoded data removed]",
      "text/plain": [
       "<Figure size 432x288 with 1 Axes>"
      ]
     },
     "metadata": {
      "needs_background": "light"
     },
     "output_type": "display_data"
    }
   ],
   "source": [
    "#Display the trend with a lineplot, set line colors using hex codes\n",
    "hue_colors = {\"2020 Traveler Count\": \"#bea1af\", \"2019 Traveler Count (Same Weekday)\": \"#1975d1\"}\n",
    "g = sns.lineplot(x=\"Date\", y=\"Counts\", hue=\"Travelers\", data=tsa_plots, palette=hue_colors)\n",
    "plt.ylabel(\"Number of Travelers (million)\")\n",
    "plt.xlabel(\"Day\")\n",
    "#plt.xticks(rotation=30)\n",
    "g.set_title(\"US airline travelers in 2020 and in 2019 during the same weekday\", y=1.05)\n",
    "plt.show()\n",
    "g.figure.savefig('travel.png')\n",
    "\n",
    "#this code can include a 30-degree rotation for the date labels, however this causes the x-axis label \"Day\" to get cut off in the exported image."
   ]
  },
  {
   "cell_type": "markdown",
   "metadata": {},
   "source": [
    "## Observations: ##\n",
    "\n",
    "1. As expected, 2019 traveler numbers were much higher than in 2020. They were fairly consistent across the year.\n",
    "    \n",
    "2. 2020 traveler numbers dropped dramatically in mid-March and then slowly and steadily rose through the year\n",
    "    \n",
    "3. However, 2020 traveler numbers remained far lower than 2019 numbers"
   ]
  },
  {
   "cell_type": "markdown",
   "metadata": {},
   "source": [
    "## Question 2: What were the COVID trends in 2020 for those same date ranges? ##"
   ]
  },
  {
   "cell_type": "code",
   "execution_count": 31,
   "metadata": {},
   "outputs": [
    {
     "data": {
      "image/png": "[encoded data removed]",
      "text/plain": [
       "<Figure size 1080x360 with 3 Axes>"
      ]
     },
     "metadata": {
      "needs_background": "light"
     },
     "output_type": "display_data"
    }
   ],
   "source": [
    "#Create a histogram with subplots to visualize this detail\n",
    "g = sns.catplot(x=\"Month\", y=\"Counts\", col=\"COVID Metrics\", data=covid_plots, kind=\"bar\", palette=\"autumn_r\", ci=None)\n",
    "g.fig.suptitle(\"COVID trends by month in 2020 for key metrics\", y=1.10)\n",
    "plt.show()\n",
    "g.savefig('covid.png')\n"
   ]
  },
  {
   "cell_type": "markdown",
   "metadata": {},
   "source": [
    "## Observations: ##\n",
    "\n",
    "1. Number of cases rose sharply from March to peak in July and then decreased each month\n",
    "\n",
    "2. Number of deaths was highest in April with June slightly behind; these numbers were lowest in March and Sept\n",
    "\n",
    "3. Number of hospitalizations was highest in April and June also.  From June to Sept they decreased each month"
   ]
  },
  {
   "cell_type": "markdown",
   "metadata": {},
   "source": [
    "## Question 3: What was the correlation between COVID stats in the early, mid, and late stages of the first wave of COVID in 2020? ##\n",
    "\n",
    "Early period = March - April, 2020\n",
    "\n",
    "*key circumstances: first cases and US lockdown*\n",
    "\n",
    "Middle period = May - July, 2020 \n",
    "\n",
    "*key circumstances: re-opening the US was heavily debated, safety measures were designed, and much protesting occurred about racial injustice and demands for re-opening.*\n",
    "\n",
    "Late period = August - October, 2020\n",
    "\n",
    "*key circumstances: safety measures are in place and many businesses have re-open, children and college students returned to school with a mix of remote and in-person learning, cold and flu season has not yet begun.*\n",
    "\n",
    "\n",
    "My prediction is that there will be a close correlation in early period, less correlation in mid/late period."
   ]
  },
  {
   "cell_type": "markdown",
   "metadata": {},
   "source": [
    "#### Categorize the data into 'Waves' in order to visualize this trend ####"
   ]
  },
  {
   "cell_type": "code",
   "execution_count": 11,
   "metadata": {},
   "outputs": [
    {
     "data": {
      "text/html": [
       "<div>\n",
       "<style scoped>\n",
       "    .dataframe tbody tr th:only-of-type {\n",
       "        vertical-align: middle;\n",
       "    }\n",
       "\n",
       "    .dataframe tbody tr th {\n",
       "        vertical-align: top;\n",
       "    }\n",
       "\n",
       "    .dataframe thead th {\n",
       "        text-align: right;\n",
       "    }\n",
       "</style>\n",
       "<table border=\"1\" class=\"dataframe\">\n",
       "  <thead>\n",
       "    <tr style=\"text-align: right;\">\n",
       "      <th></th>\n",
       "      <th>Date</th>\n",
       "      <th>Cases</th>\n",
       "      <th>Deaths</th>\n",
       "      <th>Hospitalizations</th>\n",
       "      <th>2020 Traveler Count</th>\n",
       "      <th>2019 Traveler Count (Same Weekday)</th>\n",
       "      <th>Month_Index</th>\n",
       "      <th>Month</th>\n",
       "      <th>Wave</th>\n",
       "    </tr>\n",
       "  </thead>\n",
       "  <tbody>\n",
       "    <tr>\n",
       "      <th>0</th>\n",
       "      <td>2020-03-01</td>\n",
       "      <td>233</td>\n",
       "      <td>12</td>\n",
       "      <td>71</td>\n",
       "      <td>2280522.0</td>\n",
       "      <td>2301439.0</td>\n",
       "      <td>3</td>\n",
       "      <td>Mar</td>\n",
       "      <td>Early First Wave</td>\n",
       "    </tr>\n",
       "    <tr>\n",
       "      <th>1</th>\n",
       "      <td>2020-03-02</td>\n",
       "      <td>161</td>\n",
       "      <td>14</td>\n",
       "      <td>46</td>\n",
       "      <td>2089641.0</td>\n",
       "      <td>2257920.0</td>\n",
       "      <td>3</td>\n",
       "      <td>Mar</td>\n",
       "      <td>Early First Wave</td>\n",
       "    </tr>\n",
       "    <tr>\n",
       "      <th>2</th>\n",
       "      <td>2020-03-03</td>\n",
       "      <td>224</td>\n",
       "      <td>11</td>\n",
       "      <td>59</td>\n",
       "      <td>1736393.0</td>\n",
       "      <td>1979558.0</td>\n",
       "      <td>3</td>\n",
       "      <td>Mar</td>\n",
       "      <td>Early First Wave</td>\n",
       "    </tr>\n",
       "    <tr>\n",
       "      <th>3</th>\n",
       "      <td>2020-03-04</td>\n",
       "      <td>217</td>\n",
       "      <td>15</td>\n",
       "      <td>67</td>\n",
       "      <td>1877401.0</td>\n",
       "      <td>2143619.0</td>\n",
       "      <td>3</td>\n",
       "      <td>Mar</td>\n",
       "      <td>Early First Wave</td>\n",
       "    </tr>\n",
       "    <tr>\n",
       "      <th>4</th>\n",
       "      <td>2020-03-05</td>\n",
       "      <td>253</td>\n",
       "      <td>9</td>\n",
       "      <td>73</td>\n",
       "      <td>2130015.0</td>\n",
       "      <td>2402692.0</td>\n",
       "      <td>3</td>\n",
       "      <td>Mar</td>\n",
       "      <td>Early First Wave</td>\n",
       "    </tr>\n",
       "  </tbody>\n",
       "</table>\n",
       "</div>"
      ],
      "text/plain": [
       "        Date  Cases  Deaths  Hospitalizations  2020 Traveler Count  \\\n",
       "0 2020-03-01    233      12                71            2280522.0   \n",
       "1 2020-03-02    161      14                46            2089641.0   \n",
       "2 2020-03-03    224      11                59            1736393.0   \n",
       "3 2020-03-04    217      15                67            1877401.0   \n",
       "4 2020-03-05    253       9                73            2130015.0   \n",
       "\n",
       "   2019 Traveler Count (Same Weekday)  Month_Index Month              Wave  \n",
       "0                           2301439.0            3   Mar  Early First Wave  \n",
       "1                           2257920.0            3   Mar  Early First Wave  \n",
       "2                           1979558.0            3   Mar  Early First Wave  \n",
       "3                           2143619.0            3   Mar  Early First Wave  \n",
       "4                           2402692.0            3   Mar  Early First Wave  "
      ]
     },
     "execution_count": 11,
     "metadata": {},
     "output_type": "execute_result"
    }
   ],
   "source": [
    "#Create bins to label each period and use pd.cut() on the \"Month_Index\" column and append them to the DataFrame\n",
    "period_bins = [1, 5, 8, 11]\n",
    "period_labels = [\"Early First Wave\", \"Middle First Wave\", \"Late First Wave\"]\n",
    "                 \n",
    "covid_df[\"Wave\"] = pd.cut(covid_df[\"Month_Index\"], period_bins, labels=period_labels)\n",
    "\n",
    "covid_df.head()    "
   ]
  },
  {
   "cell_type": "markdown",
   "metadata": {},
   "source": [
    "#### Scale down the 2020 Traveler Count by a factor of 10 ####\n",
    "\n",
    "\n",
    "The numbers of travelers are so much larger than the number of COVID cases that it is difficult to see the increases/decreases in values when they are plotted together."
   ]
  },
  {
   "cell_type": "code",
   "execution_count": 12,
   "metadata": {},
   "outputs": [],
   "source": [
    "#Scale down the 2020 Traveler Count so that the trends can be visualized with COVID trends more easily on the chart\n",
    "\n",
    "covid_df[\"Scaled 2020 Traveler Count\"] = covid_df[\"2020 Traveler Count\"] / 10\n"
   ]
  },
  {
   "cell_type": "code",
   "execution_count": 13,
   "metadata": {},
   "outputs": [
    {
     "data": {
      "text/html": [
       "<div>\n",
       "<style scoped>\n",
       "    .dataframe tbody tr th:only-of-type {\n",
       "        vertical-align: middle;\n",
       "    }\n",
       "\n",
       "    .dataframe tbody tr th {\n",
       "        vertical-align: top;\n",
       "    }\n",
       "\n",
       "    .dataframe thead th {\n",
       "        text-align: right;\n",
       "    }\n",
       "</style>\n",
       "<table border=\"1\" class=\"dataframe\">\n",
       "  <thead>\n",
       "    <tr style=\"text-align: right;\">\n",
       "      <th></th>\n",
       "      <th>Month</th>\n",
       "      <th>Comparison</th>\n",
       "      <th>Counts</th>\n",
       "    </tr>\n",
       "  </thead>\n",
       "  <tbody>\n",
       "    <tr>\n",
       "      <th>0</th>\n",
       "      <td>Mar</td>\n",
       "      <td>Scaled 2020 Traveler Count</td>\n",
       "      <td>228052.2</td>\n",
       "    </tr>\n",
       "    <tr>\n",
       "      <th>1</th>\n",
       "      <td>Mar</td>\n",
       "      <td>Scaled 2020 Traveler Count</td>\n",
       "      <td>208964.1</td>\n",
       "    </tr>\n",
       "    <tr>\n",
       "      <th>2</th>\n",
       "      <td>Mar</td>\n",
       "      <td>Scaled 2020 Traveler Count</td>\n",
       "      <td>173639.3</td>\n",
       "    </tr>\n",
       "    <tr>\n",
       "      <th>3</th>\n",
       "      <td>Mar</td>\n",
       "      <td>Scaled 2020 Traveler Count</td>\n",
       "      <td>187740.1</td>\n",
       "    </tr>\n",
       "    <tr>\n",
       "      <th>4</th>\n",
       "      <td>Mar</td>\n",
       "      <td>Scaled 2020 Traveler Count</td>\n",
       "      <td>213001.5</td>\n",
       "    </tr>\n",
       "  </tbody>\n",
       "</table>\n",
       "</div>"
      ],
      "text/plain": [
       "  Month                  Comparison    Counts\n",
       "0   Mar  Scaled 2020 Traveler Count  228052.2\n",
       "1   Mar  Scaled 2020 Traveler Count  208964.1\n",
       "2   Mar  Scaled 2020 Traveler Count  173639.3\n",
       "3   Mar  Scaled 2020 Traveler Count  187740.1\n",
       "4   Mar  Scaled 2020 Traveler Count  213001.5"
      ]
     },
     "execution_count": 13,
     "metadata": {},
     "output_type": "execute_result"
    }
   ],
   "source": [
    "#Then pivot the dataframe and select only the colunmns needed for the plot\n",
    "line_df = pd.melt(covid_df, id_vars=['Month'], value_vars=['Scaled 2020 Traveler Count', 'Cases'], var_name='Comparison', value_name='Counts')\n",
    "line_df.head()"
   ]
  },
  {
   "cell_type": "markdown",
   "metadata": {},
   "source": [
    "#### Create the visualization ####"
   ]
  },
  {
   "cell_type": "code",
   "execution_count": 38,
   "metadata": {},
   "outputs": [
    {
     "data": {
      "image/png": "[encoded data removed]",
      "text/plain": [
       "<Figure size 432x288 with 1 Axes>"
      ]
     },
     "metadata": {
      "needs_background": "light"
     },
     "output_type": "display_data"
    }
   ],
   "source": [
    "#Display the trend with a lineplot, set line colors using hex codes\n",
    "g = sns.lineplot(x=\"Month\", y=\"Counts\", hue=\"Comparison\", data=line_df)\n",
    "plt.ylabel(\"# of Cases & Number of Travelers / 10\")\n",
    "plt.xlabel(\"Month\")\n",
    "#plt.xticks(rotation=30)\n",
    "g.set_title(\"COVID Case Numbers Compared with Travel\", y=1.07)\n",
    "plt.show()\n",
    "g.figure.savefig('covid_travel_line.png')\n",
    "\n",
    "#this code can include a 30-degree rotation for the date labels, however this causes the x-axis label \"Month\" to get cut off in the exported image.\n",
    "#the y-axis label does get cut off from the exported image at this time."
   ]
  },
  {
   "cell_type": "markdown",
   "metadata": {},
   "source": [
    "## Observations: ##\n",
    "\n",
    "1. The number of travelers and the number of COVID cases do not appear to rise and fall in sync with each other.\n",
    "\n",
    "2. In fact, the number of COVID cases was highest in July and that was also nearly the highest number of travelers since the drop in travelers in April\n",
    "\n",
    "3. However, the number of travelers increased to a smaller degree in July - Sept, while the number of COVID cases declined slightly. This could indicate that travel slowed after the peak in COVID cases in July"
   ]
  },
  {
   "cell_type": "markdown",
   "metadata": {},
   "source": [
    "#### Plot the same data with a bar chart, using 'Waves' instead of Month ####"
   ]
  },
  {
   "cell_type": "code",
   "execution_count": 16,
   "metadata": {},
   "outputs": [
    {
     "data": {
      "text/html": [
       "<div>\n",
       "<style scoped>\n",
       "    .dataframe tbody tr th:only-of-type {\n",
       "        vertical-align: middle;\n",
       "    }\n",
       "\n",
       "    .dataframe tbody tr th {\n",
       "        vertical-align: top;\n",
       "    }\n",
       "\n",
       "    .dataframe thead th {\n",
       "        text-align: right;\n",
       "    }\n",
       "</style>\n",
       "<table border=\"1\" class=\"dataframe\">\n",
       "  <thead>\n",
       "    <tr style=\"text-align: right;\">\n",
       "      <th></th>\n",
       "      <th>Wave</th>\n",
       "      <th>Comparison</th>\n",
       "      <th>Counts</th>\n",
       "    </tr>\n",
       "  </thead>\n",
       "  <tbody>\n",
       "    <tr>\n",
       "      <th>0</th>\n",
       "      <td>Early First Wave</td>\n",
       "      <td>Scaled 2020 Traveler Count</td>\n",
       "      <td>228052.2</td>\n",
       "    </tr>\n",
       "    <tr>\n",
       "      <th>1</th>\n",
       "      <td>Early First Wave</td>\n",
       "      <td>Scaled 2020 Traveler Count</td>\n",
       "      <td>208964.1</td>\n",
       "    </tr>\n",
       "    <tr>\n",
       "      <th>2</th>\n",
       "      <td>Early First Wave</td>\n",
       "      <td>Scaled 2020 Traveler Count</td>\n",
       "      <td>173639.3</td>\n",
       "    </tr>\n",
       "    <tr>\n",
       "      <th>3</th>\n",
       "      <td>Early First Wave</td>\n",
       "      <td>Scaled 2020 Traveler Count</td>\n",
       "      <td>187740.1</td>\n",
       "    </tr>\n",
       "    <tr>\n",
       "      <th>4</th>\n",
       "      <td>Early First Wave</td>\n",
       "      <td>Scaled 2020 Traveler Count</td>\n",
       "      <td>213001.5</td>\n",
       "    </tr>\n",
       "  </tbody>\n",
       "</table>\n",
       "</div>"
      ],
      "text/plain": [
       "               Wave                  Comparison    Counts\n",
       "0  Early First Wave  Scaled 2020 Traveler Count  228052.2\n",
       "1  Early First Wave  Scaled 2020 Traveler Count  208964.1\n",
       "2  Early First Wave  Scaled 2020 Traveler Count  173639.3\n",
       "3  Early First Wave  Scaled 2020 Traveler Count  187740.1\n",
       "4  Early First Wave  Scaled 2020 Traveler Count  213001.5"
      ]
     },
     "execution_count": 16,
     "metadata": {},
     "output_type": "execute_result"
    }
   ],
   "source": [
    "#Pivot the COVID dataframe by wave instead of month and select only the colunmns needed for the plot\n",
    "bar_df = pd.melt(covid_df, id_vars=['Wave'], value_vars=['Scaled 2020 Traveler Count', 'Cases'], var_name='Comparison', value_name='Counts')\n",
    "bar_df.head()"
   ]
  },
  {
   "cell_type": "code",
   "execution_count": 40,
   "metadata": {},
   "outputs": [
    {
     "data": {
      "image/png": "[encoded data removed]",
      "text/plain": [
       "<Figure size 533.25x360 with 1 Axes>"
      ]
     },
     "metadata": {
      "needs_background": "light"
     },
     "output_type": "display_data"
    }
   ],
   "source": [
    "#diplay the same trend, broken into 'Waves' with a bar chart\n",
    "g = sns.catplot(x=\"Wave\", y=\"Counts\", hue=\"Comparison\", data=bar_df, kind=\"bar\", palette=\"autumn_r\", ci=None)\n",
    "g.fig.suptitle(\"COVID Case Numbers Compared with Travel\", y=1.10)\n",
    "g.set_axis_labels(\"COVID Wave\", \"Number of Cases & Number of Travelers / 10\")\n",
    "plt.show()\n",
    "g.savefig('covid_travel_bar.png')"
   ]
  },
  {
   "cell_type": "markdown",
   "metadata": {},
   "source": [
    "## Observations: ##\n",
    "\n",
    "This view of the data further demonstrates that the number of travelers does not follow the same patterns as the number of COVID cases:\n",
    "\n",
    "1. Between the early and middle part of the first wave, the number of travelers increased while the number of COVID cases increased also\n",
    "\n",
    "2. Between the middle and late part of the first wave, the number of travelers continued to increase, while the number of COVID cases decreased slightly\n",
    "\n",
    "3. Overall, between the early and late first wave the number of travelers increased while the number of COVID cases increased then decreased\n",
    "    "
   ]
  },
  {
   "cell_type": "code",
   "execution_count": null,
   "metadata": {},
   "outputs": [],
   "source": []
  }
 ],
 "metadata": {
  "kernelspec": {
   "display_name": "Python 3",
   "language": "python",
   "name": "python3"
  },
  "language_info": {
   "codemirror_mode": {
    "name": "ipython",
    "version": 3
   },
   "file_extension": ".py",
   "mimetype": "text/x-python",
   "name": "python",
   "nbconvert_exporter": "python",
   "pygments_lexer": "ipython3",
   "version": "3.7.8"
  }
 },
 "nbformat": 4,
 "nbformat_minor": 4
}
