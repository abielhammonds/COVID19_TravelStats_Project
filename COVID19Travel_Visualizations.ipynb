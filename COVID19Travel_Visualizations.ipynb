{
 "cells": [
  {
   "cell_type": "code",
   "execution_count": 104,
   "metadata": {},
   "outputs": [],
   "source": [
    "#import Pandas, Numpy, and MatPlotLib\n",
    "import matplotlib.pyplot as plt\n",
    "import pandas as pd\n",
    "import numpy as np\n"
   ]
  },
  {
   "cell_type": "code",
   "execution_count": 108,
   "metadata": {},
   "outputs": [],
   "source": [
    "#import requests in order to call the COVID data API data \n",
    "#import time in order to pause between API calls and not freeze in the process\n",
    "#import pprint in order to pretty-print the data.\n",
    "import requests\n",
    "import time\n",
    "from pprint import pprint\n"
   ]
  },
  {
   "cell_type": "code",
   "execution_count": null,
   "metadata": {},
   "outputs": [],
   "source": [
    "#Visualization ideas\n",
    "    #Scatterplots with trend lines\n",
    "    #bar chart with statistical significance\n",
    "\n",
    "#Here are some key questions I'm trying to answer:\n",
    "\n",
    "#1. What was 'typical' travel like each month (or 15-day period) in 2019?\n",
    "#2. What did 2020 travel look like in comparison for those same date ranges?\n",
    "#3. What were the COVID stats in 2020 for those same date ranges?\n",
    "#4. What was the correlation between COVID status in early (March/April), mid(May -July), \n",
    "    #and late (Aug - Sept) 'first wave' of COVID and TSA travel in 2020?\n",
    "    #(I'm expecting a close correlationn in early period, less correlation in mid/late period)\n",
    "\n",
    "#The longer term plan is to continue to follow the trend through the end of 2020, \n",
    " #as the COVID second wave plays out this Fall/Winter."
   ]
  }
 ],
 "metadata": {
  "kernelspec": {
   "display_name": "Python 3",
   "language": "python",
   "name": "python3"
  },
  "language_info": {
   "codemirror_mode": {
    "name": "ipython",
    "version": 3
   },
   "file_extension": ".py",
   "mimetype": "text/x-python",
   "name": "python",
   "nbconvert_exporter": "python",
   "pygments_lexer": "ipython3",
   "version": "3.7.8"
  }
 },
 "nbformat": 4,
 "nbformat_minor": 4
}
